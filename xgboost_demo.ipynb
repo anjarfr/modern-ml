{
 "cells": [
  {
   "cell_type": "markdown",
   "metadata": {},
   "source": [
    "# Load the data"
   ]
  },
  {
   "cell_type": "code",
   "execution_count": 36,
   "metadata": {},
   "outputs": [],
   "source": [
    "#Processing\n",
    "import pandas as pd\n",
    "import numpy as np\n",
    "from sklearn import model_selection\n",
    "from sklearn.model_selection import train_test_split\n",
    "from sklearn.preprocessing import RobustScaler\n",
    "from sklearn.preprocessing import StandardScaler\n",
    "from sklearn.manifold import TSNE\n",
    "from sklearn.cluster import KMeans\n",
    "from sklearn.decomposition import PCA, TruncatedSVD, FastICA\n",
    "from sklearn.model_selection import KFold, cross_val_score\n",
    "from sklearn.random_projection import GaussianRandomProjection, SparseRandomProjection\n",
    "from sklearn.preprocessing import normalize\n",
    "from sklearn.manifold import TSNE\n",
    "from sklearn.metrics import accuracy_score, roc_auc_score\n",
    "\n",
    "#Plotting\n",
    "import matplotlib.pyplot as plt\n",
    "import seaborn as sns\n",
    "from scipy.stats import skew"
   ]
  },
  {
   "cell_type": "code",
   "execution_count": 37,
   "metadata": {},
   "outputs": [],
   "source": [
    "train = pd.read_csv('data/challenge2_train.csv')\n",
    "test = pd.read_csv('data/challenge2_test.csv')"
   ]
  },
  {
   "cell_type": "markdown",
   "metadata": {},
   "source": [
    "# Exploratory Data Analysis\n",
    "\n",
    "## Get an overview of the data\n",
    "\n",
    "First, we want to know what kind of data we are dealing with."
   ]
  },
  {
   "cell_type": "code",
   "execution_count": 38,
   "metadata": {
    "scrolled": true
   },
   "outputs": [
    {
     "data": {
      "text/plain": [
       "Index(['id', 'target', 'f0', 'f1', 'f2', 'f3', 'f4', 'f5', 'f6', 'f7', 'f8',\n",
       "       'f9', 'f10', 'f11', 'f12', 'f13', 'f14', 'f15', 'f16', 'f17', 'f18',\n",
       "       'f19', 'f20', 'f21', 'f22', 'f23', 'f24'],\n",
       "      dtype='object')"
      ]
     },
     "execution_count": 38,
     "metadata": {},
     "output_type": "execute_result"
    }
   ],
   "source": [
    "train.columns"
   ]
  },
  {
   "cell_type": "code",
   "execution_count": 39,
   "metadata": {
    "scrolled": true
   },
   "outputs": [
    {
     "data": {
      "text/plain": [
       "Index(['id', 'f0', 'f1', 'f2', 'f3', 'f4', 'f5', 'f6', 'f7', 'f8', 'f9', 'f10',\n",
       "       'f11', 'f12', 'f13', 'f14', 'f15', 'f16', 'f17', 'f18', 'f19', 'f20',\n",
       "       'f21', 'f22', 'f23', 'f24'],\n",
       "      dtype='object')"
      ]
     },
     "execution_count": 39,
     "metadata": {},
     "output_type": "execute_result"
    }
   ],
   "source": [
    "test.columns"
   ]
  },
  {
   "cell_type": "code",
   "execution_count": 40,
   "metadata": {
    "scrolled": true
   },
   "outputs": [
    {
     "name": "stdout",
     "output_type": "stream",
     "text": [
      "<class 'pandas.core.frame.DataFrame'>\n",
      "RangeIndex: 50000 entries, 0 to 49999\n",
      "Data columns (total 27 columns):\n",
      " #   Column  Non-Null Count  Dtype  \n",
      "---  ------  --------------  -----  \n",
      " 0   id      50000 non-null  int64  \n",
      " 1   target  50000 non-null  int64  \n",
      " 2   f0      45122 non-null  float64\n",
      " 3   f1      50000 non-null  int64  \n",
      " 4   f2      48816 non-null  float64\n",
      " 5   f3      49677 non-null  float64\n",
      " 6   f4      46621 non-null  object \n",
      " 7   f5      26130 non-null  float64\n",
      " 8   f6      46648 non-null  float64\n",
      " 9   f7      49517 non-null  float64\n",
      " 10  f8      48540 non-null  object \n",
      " 11  f9      49497 non-null  float64\n",
      " 12  f10     28585 non-null  float64\n",
      " 13  f11     49894 non-null  float64\n",
      " 14  f12     48487 non-null  object \n",
      " 15  f13     49497 non-null  float64\n",
      " 16  f14     29937 non-null  float64\n",
      " 17  f15     49057 non-null  float64\n",
      " 18  f16     49020 non-null  float64\n",
      " 19  f17     48630 non-null  object \n",
      " 20  f18     48749 non-null  float64\n",
      " 21  f19     45121 non-null  float64\n",
      " 22  f20     31245 non-null  float64\n",
      " 23  f21     46416 non-null  object \n",
      " 24  f22     49746 non-null  float64\n",
      " 25  f23     25160 non-null  float64\n",
      " 26  f24     49398 non-null  float64\n",
      "dtypes: float64(19), int64(3), object(5)\n",
      "memory usage: 10.3+ MB\n",
      "<class 'pandas.core.frame.DataFrame'>\n",
      "RangeIndex: 50000 entries, 0 to 49999\n",
      "Data columns (total 26 columns):\n",
      " #   Column  Non-Null Count  Dtype  \n",
      "---  ------  --------------  -----  \n",
      " 0   id      50000 non-null  int64  \n",
      " 1   f0      45095 non-null  float64\n",
      " 2   f1      50000 non-null  int64  \n",
      " 3   f2      48828 non-null  float64\n",
      " 4   f3      49677 non-null  float64\n",
      " 5   f4      46797 non-null  object \n",
      " 6   f5      25972 non-null  float64\n",
      " 7   f6      46814 non-null  float64\n",
      " 8   f7      49534 non-null  float64\n",
      " 9   f8      48473 non-null  object \n",
      " 10  f9      49517 non-null  float64\n",
      " 11  f10     28499 non-null  float64\n",
      " 12  f11     49881 non-null  float64\n",
      " 13  f12     48543 non-null  object \n",
      " 14  f13     49517 non-null  float64\n",
      " 15  f14     29943 non-null  float64\n",
      " 16  f15     49108 non-null  float64\n",
      " 17  f16     49062 non-null  float64\n",
      " 18  f17     48728 non-null  object \n",
      " 19  f18     48720 non-null  float64\n",
      " 20  f19     45116 non-null  float64\n",
      " 21  f20     31030 non-null  float64\n",
      " 22  f21     46481 non-null  object \n",
      " 23  f22     49797 non-null  float64\n",
      " 24  f23     25047 non-null  float64\n",
      " 25  f24     49337 non-null  float64\n",
      "dtypes: float64(19), int64(2), object(5)\n",
      "memory usage: 9.9+ MB\n"
     ]
    }
   ],
   "source": [
    "train.info()\n",
    "test.info()"
   ]
  },
  {
   "cell_type": "markdown",
   "metadata": {},
   "source": [
    "We see from the column names that both the training and test set includes IDs. As the data is anonymized and the IDs are unique, we do not want them to affect the training, and therefore drop them for now.\n",
    "\n",
    "We also want to separate the targets from the samples during training so we can use them for validation."
   ]
  },
  {
   "cell_type": "code",
   "execution_count": 41,
   "metadata": {},
   "outputs": [],
   "source": [
    "X_train = train.drop([\"id\"], axis=1)\n",
    "Y_train = train[\"target\"].values"
   ]
  },
  {
   "cell_type": "code",
   "execution_count": 42,
   "metadata": {},
   "outputs": [],
   "source": [
    "X_test = test.drop([\"id\"], axis=1)"
   ]
  },
  {
   "cell_type": "markdown",
   "metadata": {},
   "source": [
    "Let's explore the shape and content of the data."
   ]
  },
  {
   "cell_type": "code",
   "execution_count": 43,
   "metadata": {
    "scrolled": true
   },
   "outputs": [
    {
     "data": {
      "text/html": [
       "<div>\n",
       "<style scoped>\n",
       "    .dataframe tbody tr th:only-of-type {\n",
       "        vertical-align: middle;\n",
       "    }\n",
       "\n",
       "    .dataframe tbody tr th {\n",
       "        vertical-align: top;\n",
       "    }\n",
       "\n",
       "    .dataframe thead th {\n",
       "        text-align: right;\n",
       "    }\n",
       "</style>\n",
       "<table border=\"1\" class=\"dataframe\">\n",
       "  <thead>\n",
       "    <tr style=\"text-align: right;\">\n",
       "      <th></th>\n",
       "      <th>target</th>\n",
       "      <th>f0</th>\n",
       "      <th>f1</th>\n",
       "      <th>f2</th>\n",
       "      <th>f3</th>\n",
       "      <th>f4</th>\n",
       "      <th>f5</th>\n",
       "      <th>f6</th>\n",
       "      <th>f7</th>\n",
       "      <th>f8</th>\n",
       "      <th>...</th>\n",
       "      <th>f15</th>\n",
       "      <th>f16</th>\n",
       "      <th>f17</th>\n",
       "      <th>f18</th>\n",
       "      <th>f19</th>\n",
       "      <th>f20</th>\n",
       "      <th>f21</th>\n",
       "      <th>f22</th>\n",
       "      <th>f23</th>\n",
       "      <th>f24</th>\n",
       "    </tr>\n",
       "  </thead>\n",
       "  <tbody>\n",
       "    <tr>\n",
       "      <th>0</th>\n",
       "      <td>0</td>\n",
       "      <td>1013.1</td>\n",
       "      <td>0</td>\n",
       "      <td>5.0190</td>\n",
       "      <td>26.1</td>\n",
       "      <td>bbd</td>\n",
       "      <td>11.1</td>\n",
       "      <td>33.0</td>\n",
       "      <td>11.0</td>\n",
       "      <td>m</td>\n",
       "      <td>...</td>\n",
       "      <td>19.0</td>\n",
       "      <td>27.8</td>\n",
       "      <td>bbd</td>\n",
       "      <td>6.0</td>\n",
       "      <td>1008.9</td>\n",
       "      <td>1.0</td>\n",
       "      <td>nd</td>\n",
       "      <td>17.4</td>\n",
       "      <td>61.0</td>\n",
       "      <td>63.0</td>\n",
       "    </tr>\n",
       "    <tr>\n",
       "      <th>1</th>\n",
       "      <td>0</td>\n",
       "      <td>1010.2</td>\n",
       "      <td>1</td>\n",
       "      <td>5.0142</td>\n",
       "      <td>10.4</td>\n",
       "      <td>n</td>\n",
       "      <td>NaN</td>\n",
       "      <td>46.0</td>\n",
       "      <td>17.0</td>\n",
       "      <td>k</td>\n",
       "      <td>...</td>\n",
       "      <td>22.0</td>\n",
       "      <td>12.7</td>\n",
       "      <td>n</td>\n",
       "      <td>12.0</td>\n",
       "      <td>1012.4</td>\n",
       "      <td>5.0</td>\n",
       "      <td>nx</td>\n",
       "      <td>6.8</td>\n",
       "      <td>55.0</td>\n",
       "      <td>80.0</td>\n",
       "    </tr>\n",
       "    <tr>\n",
       "      <th>2</th>\n",
       "      <td>0</td>\n",
       "      <td>1014.4</td>\n",
       "      <td>2</td>\n",
       "      <td>5.0280</td>\n",
       "      <td>12.3</td>\n",
       "      <td>xnx</td>\n",
       "      <td>NaN</td>\n",
       "      <td>31.0</td>\n",
       "      <td>13.0</td>\n",
       "      <td>c</td>\n",
       "      <td>...</td>\n",
       "      <td>9.0</td>\n",
       "      <td>13.0</td>\n",
       "      <td>nnd</td>\n",
       "      <td>7.0</td>\n",
       "      <td>1016.1</td>\n",
       "      <td>NaN</td>\n",
       "      <td>nx</td>\n",
       "      <td>10.1</td>\n",
       "      <td>61.0</td>\n",
       "      <td>70.0</td>\n",
       "    </tr>\n",
       "    <tr>\n",
       "      <th>3</th>\n",
       "      <td>0</td>\n",
       "      <td>1019.2</td>\n",
       "      <td>3</td>\n",
       "      <td>5.0335</td>\n",
       "      <td>23.0</td>\n",
       "      <td>nx</td>\n",
       "      <td>11.6</td>\n",
       "      <td>41.0</td>\n",
       "      <td>9.0</td>\n",
       "      <td>i</td>\n",
       "      <td>...</td>\n",
       "      <td>17.0</td>\n",
       "      <td>32.3</td>\n",
       "      <td>nx</td>\n",
       "      <td>10.0</td>\n",
       "      <td>1016.6</td>\n",
       "      <td>1.0</td>\n",
       "      <td>dnd</td>\n",
       "      <td>14.4</td>\n",
       "      <td>NaN</td>\n",
       "      <td>40.0</td>\n",
       "    </tr>\n",
       "    <tr>\n",
       "      <th>4</th>\n",
       "      <td>0</td>\n",
       "      <td>1027.6</td>\n",
       "      <td>4</td>\n",
       "      <td>5.0129</td>\n",
       "      <td>7.3</td>\n",
       "      <td>d</td>\n",
       "      <td>7.3</td>\n",
       "      <td>28.0</td>\n",
       "      <td>15.0</td>\n",
       "      <td>h</td>\n",
       "      <td>...</td>\n",
       "      <td>13.0</td>\n",
       "      <td>13.7</td>\n",
       "      <td>dnd</td>\n",
       "      <td>7.0</td>\n",
       "      <td>1024.4</td>\n",
       "      <td>7.0</td>\n",
       "      <td>dbd</td>\n",
       "      <td>6.8</td>\n",
       "      <td>47.0</td>\n",
       "      <td>92.0</td>\n",
       "    </tr>\n",
       "  </tbody>\n",
       "</table>\n",
       "<p>5 rows × 26 columns</p>\n",
       "</div>"
      ],
      "text/plain": [
       "   target      f0  f1      f2    f3   f4    f5    f6    f7 f8  ...   f15  \\\n",
       "0       0  1013.1   0  5.0190  26.1  bbd  11.1  33.0  11.0  m  ...  19.0   \n",
       "1       0  1010.2   1  5.0142  10.4    n   NaN  46.0  17.0  k  ...  22.0   \n",
       "2       0  1014.4   2  5.0280  12.3  xnx   NaN  31.0  13.0  c  ...   9.0   \n",
       "3       0  1019.2   3  5.0335  23.0   nx  11.6  41.0   9.0  i  ...  17.0   \n",
       "4       0  1027.6   4  5.0129   7.3    d   7.3  28.0  15.0  h  ...  13.0   \n",
       "\n",
       "    f16  f17   f18     f19  f20  f21   f22   f23   f24  \n",
       "0  27.8  bbd   6.0  1008.9  1.0   nd  17.4  61.0  63.0  \n",
       "1  12.7    n  12.0  1012.4  5.0   nx   6.8  55.0  80.0  \n",
       "2  13.0  nnd   7.0  1016.1  NaN   nx  10.1  61.0  70.0  \n",
       "3  32.3   nx  10.0  1016.6  1.0  dnd  14.4   NaN  40.0  \n",
       "4  13.7  dnd   7.0  1024.4  7.0  dbd   6.8  47.0  92.0  \n",
       "\n",
       "[5 rows x 26 columns]"
      ]
     },
     "execution_count": 43,
     "metadata": {},
     "output_type": "execute_result"
    }
   ],
   "source": [
    "X_train.head()"
   ]
  },
  {
   "cell_type": "code",
   "execution_count": 44,
   "metadata": {},
   "outputs": [
    {
     "data": {
      "text/plain": [
       "(50000, 26)"
      ]
     },
     "execution_count": 44,
     "metadata": {},
     "output_type": "execute_result"
    }
   ],
   "source": [
    "X_train.shape"
   ]
  },
  {
   "cell_type": "code",
   "execution_count": 45,
   "metadata": {},
   "outputs": [
    {
     "data": {
      "text/plain": [
       "(50000,)"
      ]
     },
     "execution_count": 45,
     "metadata": {},
     "output_type": "execute_result"
    }
   ],
   "source": [
    "Y_train.shape"
   ]
  },
  {
   "cell_type": "code",
   "execution_count": 46,
   "metadata": {
    "scrolled": true
   },
   "outputs": [
    {
     "data": {
      "text/plain": [
       "(50000, 25)"
      ]
     },
     "execution_count": 46,
     "metadata": {},
     "output_type": "execute_result"
    }
   ],
   "source": [
    "X_test.shape"
   ]
  },
  {
   "cell_type": "markdown",
   "metadata": {},
   "source": [
    "From `.info()` and `.head()`, we can see that some of the features include categorical data. We want to figure out how many categories each of these feature include."
   ]
  },
  {
   "cell_type": "code",
   "execution_count": 47,
   "metadata": {
    "scrolled": true
   },
   "outputs": [
    {
     "data": {
      "text/plain": [
       "count     46621\n",
       "unique       16\n",
       "top           x\n",
       "freq       3410\n",
       "Name: f4, dtype: object"
      ]
     },
     "execution_count": 47,
     "metadata": {},
     "output_type": "execute_result"
    }
   ],
   "source": [
    "X_train['f4'].describe()"
   ]
  },
  {
   "cell_type": "code",
   "execution_count": 48,
   "metadata": {
    "scrolled": true
   },
   "outputs": [
    {
     "data": {
      "text/plain": [
       "count     48540\n",
       "unique       15\n",
       "top           n\n",
       "freq       5845\n",
       "Name: f8, dtype: object"
      ]
     },
     "execution_count": 48,
     "metadata": {},
     "output_type": "execute_result"
    }
   ],
   "source": [
    "X_train['f8'].describe()"
   ]
  },
  {
   "cell_type": "code",
   "execution_count": 49,
   "metadata": {
    "scrolled": true
   },
   "outputs": [
    {
     "data": {
      "text/plain": [
       "count     48630\n",
       "unique       16\n",
       "top          nd\n",
       "freq       3762\n",
       "Name: f17, dtype: object"
      ]
     },
     "execution_count": 49,
     "metadata": {},
     "output_type": "execute_result"
    }
   ],
   "source": [
    "X_train['f17'].describe()"
   ]
  },
  {
   "cell_type": "code",
   "execution_count": 50,
   "metadata": {
    "scrolled": false
   },
   "outputs": [
    {
     "data": {
      "text/plain": [
       "count     46416\n",
       "unique       16\n",
       "top           b\n",
       "freq       3996\n",
       "Name: f21, dtype: object"
      ]
     },
     "execution_count": 50,
     "metadata": {},
     "output_type": "execute_result"
    }
   ],
   "source": [
    "X_train['f21'].describe()"
   ]
  },
  {
   "cell_type": "markdown",
   "metadata": {},
   "source": [
    "Seems like most of them have 16 unique categories, but f8 has 15. It might be that f8 also has 16 categories, but only 15 of them are observed in the training data. This implies that unseen categories can show up during prediction, and should be handled.\n",
    "\n",
    "One of the features, f12, consists of hex values:"
   ]
  },
  {
   "cell_type": "code",
   "execution_count": 51,
   "metadata": {
    "scrolled": true
   },
   "outputs": [
    {
     "data": {
      "text/plain": [
       "0    be42001f3\n",
       "1    3aad93cab\n",
       "2    90116a97d\n",
       "3    dc4ee566b\n",
       "4    f09cc205f\n",
       "Name: f12, dtype: object"
      ]
     },
     "execution_count": 51,
     "metadata": {},
     "output_type": "execute_result"
    }
   ],
   "source": [
    "X_train['f12'].head()"
   ]
  },
  {
   "cell_type": "markdown",
   "metadata": {},
   "source": [
    "It is also worth noting that f9 values are binary. That means this feature represents a variable which is either true or false:"
   ]
  },
  {
   "cell_type": "code",
   "execution_count": 52,
   "metadata": {
    "scrolled": true
   },
   "outputs": [
    {
     "data": {
      "text/plain": [
       "0    0.0\n",
       "1    0.0\n",
       "2    1.0\n",
       "3    0.0\n",
       "4    1.0\n",
       "Name: f9, dtype: float64"
      ]
     },
     "execution_count": 52,
     "metadata": {},
     "output_type": "execute_result"
    }
   ],
   "source": [
    "X_train['f9'].head()"
   ]
  },
  {
   "cell_type": "markdown",
   "metadata": {},
   "source": [
    "Let's define which columns are categorical, hex valued and binary so we can remember it for later."
   ]
  },
  {
   "cell_type": "code",
   "execution_count": 53,
   "metadata": {},
   "outputs": [],
   "source": [
    "# Define which columns include categorical data\n",
    "cat_cols = ['f4', 'f8', 'f17', 'f21']\n",
    "\n",
    "# Columns containing hex values\n",
    "hex_col = 'f12'\n",
    "\n",
    "bin_col = 'f9'"
   ]
  },
  {
   "cell_type": "markdown",
   "metadata": {},
   "source": [
    "## Target balance"
   ]
  },
  {
   "cell_type": "code",
   "execution_count": 54,
   "metadata": {
    "scrolled": true
   },
   "outputs": [
    {
     "name": "stdout",
     "output_type": "stream",
     "text": [
      "Class 0: 38734\n",
      "Class 1: 11266\n",
      "Proportion: 3.44 : 1\n"
     ]
    },
    {
     "data": {
      "image/png": "[encoded data removed]",
      "text/plain": [
       "<Figure size 432x288 with 1 Axes>"
      ]
     },
     "metadata": {
      "needs_background": "light"
     },
     "output_type": "display_data"
    }
   ],
   "source": [
    "target_count = X_train.target.value_counts()\n",
    "print('Class 0:', target_count[0])\n",
    "print('Class 1:', target_count[1])\n",
    "print('Proportion:', round(target_count[0] / target_count[1], 2), ': 1')\n",
    "\n",
    "target_count.plot(kind='bar', title='Count (target)');"
   ]
  },
  {
   "cell_type": "markdown",
   "metadata": {},
   "source": [
    "As we can see, the dataset is imbalanced."
   ]
  },
  {
   "cell_type": "markdown",
   "metadata": {},
   "source": [
    "## Unique values\n",
    "How many unique values are there for each value in the data?"
   ]
  },
  {
   "cell_type": "code",
   "execution_count": 55,
   "metadata": {
    "scrolled": true
   },
   "outputs": [
    {
     "data": {
      "text/plain": [
       "target       2\n",
       "f0         505\n",
       "f1          49\n",
       "f2         413\n",
       "f3         421\n",
       "f4          16\n",
       "f5         143\n",
       "f6          62\n",
       "f7          41\n",
       "f8          15\n",
       "f9           2\n",
       "f10        278\n",
       "f11        478\n",
       "f12       1206\n",
       "f13        486\n",
       "f14         10\n",
       "f15         41\n",
       "f16        476\n",
       "f17         16\n",
       "f18         14\n",
       "f19        495\n",
       "f20         10\n",
       "f21         16\n",
       "f22        372\n",
       "f23         30\n",
       "f24        100\n",
       "dtype: int64"
      ]
     },
     "execution_count": 55,
     "metadata": {},
     "output_type": "execute_result"
    }
   ],
   "source": [
    "X_train.nunique(axis=0)"
   ]
  },
  {
   "cell_type": "code",
   "execution_count": 56,
   "metadata": {
    "scrolled": false
   },
   "outputs": [
    {
     "data": {
      "text/plain": [
       "count    31245.000000\n",
       "mean         4.428837\n",
       "std          2.884968\n",
       "min          0.000000\n",
       "25%          1.000000\n",
       "50%          5.000000\n",
       "75%          7.000000\n",
       "max          9.000000\n",
       "Name: f20, dtype: float64"
      ]
     },
     "execution_count": 56,
     "metadata": {},
     "output_type": "execute_result"
    }
   ],
   "source": [
    "X_train.f20.describe()"
   ]
  },
  {
   "cell_type": "markdown",
   "metadata": {},
   "source": [
    "## Null values\n",
    "We want to see how many null variables there are in each column. First, a sum of all null values in each column is displayed, then they are plotted for each column."
   ]
  },
  {
   "cell_type": "code",
   "execution_count": 57,
   "metadata": {
    "scrolled": true
   },
   "outputs": [
    {
     "data": {
      "text/plain": [
       "target        0\n",
       "f0         4878\n",
       "f1            0\n",
       "f2         1184\n",
       "f3          323\n",
       "f4         3379\n",
       "f5        23870\n",
       "f6         3352\n",
       "f7          483\n",
       "f8         1460\n",
       "f9          503\n",
       "f10       21415\n",
       "f11         106\n",
       "f12        1513\n",
       "f13         503\n",
       "f14       20063\n",
       "f15         943\n",
       "f16         980\n",
       "f17        1370\n",
       "f18        1251\n",
       "f19        4879\n",
       "f20       18755\n",
       "f21        3584\n",
       "f22         254\n",
       "f23       24840\n",
       "f24         602\n",
       "dtype: int64"
      ]
     },
     "execution_count": 57,
     "metadata": {},
     "output_type": "execute_result"
    }
   ],
   "source": [
    "X_train.isnull().sum()"
   ]
  },
  {
   "cell_type": "code",
   "execution_count": 58,
   "metadata": {},
   "outputs": [
    {
     "data": {
      "image/png": "[encoded data removed]",
      "text/plain": [
       "<Figure size 432x288 with 1 Axes>"
      ]
     },
     "metadata": {
      "needs_background": "light"
     },
     "output_type": "display_data"
    }
   ],
   "source": [
    "# plot missing data:\n",
    "X_train.isnull().sum().plot(kind='bar')\n",
    "# Add a title and show the plot.\n",
    "plt.title('Number of Missing Values Per Column')\n",
    "# Create tick mark labels on the Y axis and rotate them.\n",
    "plt.xticks(rotation = 45)\n",
    "# Create X axis label.\n",
    "plt.xlabel(\"Columns\")\n",
    "# Create Y axis label.\n",
    "plt.ylabel(\"NaN Values\");"
   ]
  },
  {
   "cell_type": "markdown",
   "metadata": {},
   "source": [
    "## Statistical analysis"
   ]
  },
  {
   "cell_type": "code",
   "execution_count": 59,
   "metadata": {
    "scrolled": false
   },
   "outputs": [
    {
     "data": {
      "text/html": [
       "<div>\n",
       "<style scoped>\n",
       "    .dataframe tbody tr th:only-of-type {\n",
       "        vertical-align: middle;\n",
       "    }\n",
       "\n",
       "    .dataframe tbody tr th {\n",
       "        vertical-align: top;\n",
       "    }\n",
       "\n",
       "    .dataframe thead th {\n",
       "        text-align: right;\n",
       "    }\n",
       "</style>\n",
       "<table border=\"1\" class=\"dataframe\">\n",
       "  <thead>\n",
       "    <tr style=\"text-align: right;\">\n",
       "      <th></th>\n",
       "      <th>target</th>\n",
       "      <th>f0</th>\n",
       "      <th>f1</th>\n",
       "      <th>f2</th>\n",
       "      <th>f3</th>\n",
       "      <th>f5</th>\n",
       "      <th>f6</th>\n",
       "      <th>f7</th>\n",
       "      <th>f9</th>\n",
       "      <th>f10</th>\n",
       "      <th>...</th>\n",
       "      <th>f13</th>\n",
       "      <th>f14</th>\n",
       "      <th>f15</th>\n",
       "      <th>f16</th>\n",
       "      <th>f18</th>\n",
       "      <th>f19</th>\n",
       "      <th>f20</th>\n",
       "      <th>f22</th>\n",
       "      <th>f23</th>\n",
       "      <th>f24</th>\n",
       "    </tr>\n",
       "  </thead>\n",
       "  <tbody>\n",
       "    <tr>\n",
       "      <th>count</th>\n",
       "      <td>50000.000000</td>\n",
       "      <td>45122.000000</td>\n",
       "      <td>50000.00000</td>\n",
       "      <td>48816.000000</td>\n",
       "      <td>49677.000000</td>\n",
       "      <td>26130.000000</td>\n",
       "      <td>46648.000000</td>\n",
       "      <td>49517.000000</td>\n",
       "      <td>49497.000000</td>\n",
       "      <td>28585.000000</td>\n",
       "      <td>...</td>\n",
       "      <td>49497.000000</td>\n",
       "      <td>29937.000000</td>\n",
       "      <td>49057.000000</td>\n",
       "      <td>49020.000000</td>\n",
       "      <td>48749.000000</td>\n",
       "      <td>45121.000000</td>\n",
       "      <td>31245.000000</td>\n",
       "      <td>49746.000000</td>\n",
       "      <td>25160.000000</td>\n",
       "      <td>49398.000000</td>\n",
       "    </tr>\n",
       "    <tr>\n",
       "      <th>mean</th>\n",
       "      <td>0.225320</td>\n",
       "      <td>1017.678647</td>\n",
       "      <td>23.49612</td>\n",
       "      <td>5.018887</td>\n",
       "      <td>16.998782</td>\n",
       "      <td>7.628550</td>\n",
       "      <td>40.050999</td>\n",
       "      <td>14.000848</td>\n",
       "      <td>0.222862</td>\n",
       "      <td>5.463607</td>\n",
       "      <td>...</td>\n",
       "      <td>2.379215</td>\n",
       "      <td>4.508668</td>\n",
       "      <td>18.686630</td>\n",
       "      <td>21.683570</td>\n",
       "      <td>7.305524</td>\n",
       "      <td>1015.285913</td>\n",
       "      <td>4.428837</td>\n",
       "      <td>12.191203</td>\n",
       "      <td>52.013712</td>\n",
       "      <td>68.806470</td>\n",
       "    </tr>\n",
       "    <tr>\n",
       "      <th>std</th>\n",
       "      <td>0.417797</td>\n",
       "      <td>7.130390</td>\n",
       "      <td>14.01738</td>\n",
       "      <td>0.007177</td>\n",
       "      <td>6.520973</td>\n",
       "      <td>3.776794</td>\n",
       "      <td>13.655620</td>\n",
       "      <td>8.936280</td>\n",
       "      <td>0.416171</td>\n",
       "      <td>4.251483</td>\n",
       "      <td>...</td>\n",
       "      <td>8.795403</td>\n",
       "      <td>2.717503</td>\n",
       "      <td>8.842879</td>\n",
       "      <td>6.970918</td>\n",
       "      <td>3.546719</td>\n",
       "      <td>7.057875</td>\n",
       "      <td>2.884968</td>\n",
       "      <td>6.414481</td>\n",
       "      <td>8.323467</td>\n",
       "      <td>19.024988</td>\n",
       "    </tr>\n",
       "    <tr>\n",
       "      <th>min</th>\n",
       "      <td>0.000000</td>\n",
       "      <td>982.000000</td>\n",
       "      <td>0.00000</td>\n",
       "      <td>4.998000</td>\n",
       "      <td>-6.200000</td>\n",
       "      <td>0.000000</td>\n",
       "      <td>7.000000</td>\n",
       "      <td>0.000000</td>\n",
       "      <td>0.000000</td>\n",
       "      <td>0.000000</td>\n",
       "      <td>...</td>\n",
       "      <td>0.000000</td>\n",
       "      <td>0.000000</td>\n",
       "      <td>0.000000</td>\n",
       "      <td>-5.100000</td>\n",
       "      <td>0.000000</td>\n",
       "      <td>978.200000</td>\n",
       "      <td>0.000000</td>\n",
       "      <td>-8.500000</td>\n",
       "      <td>37.000000</td>\n",
       "      <td>1.000000</td>\n",
       "    </tr>\n",
       "    <tr>\n",
       "      <th>25%</th>\n",
       "      <td>0.000000</td>\n",
       "      <td>1013.000000</td>\n",
       "      <td>11.00000</td>\n",
       "      <td>5.014000</td>\n",
       "      <td>12.300000</td>\n",
       "      <td>4.900000</td>\n",
       "      <td>31.000000</td>\n",
       "      <td>7.000000</td>\n",
       "      <td>0.000000</td>\n",
       "      <td>2.600000</td>\n",
       "      <td>...</td>\n",
       "      <td>0.000000</td>\n",
       "      <td>2.000000</td>\n",
       "      <td>13.000000</td>\n",
       "      <td>16.600000</td>\n",
       "      <td>5.000000</td>\n",
       "      <td>1010.500000</td>\n",
       "      <td>1.000000</td>\n",
       "      <td>7.600000</td>\n",
       "      <td>45.000000</td>\n",
       "      <td>57.000000</td>\n",
       "    </tr>\n",
       "    <tr>\n",
       "      <th>50%</th>\n",
       "      <td>0.000000</td>\n",
       "      <td>1017.600000</td>\n",
       "      <td>23.00000</td>\n",
       "      <td>5.019100</td>\n",
       "      <td>16.700000</td>\n",
       "      <td>8.500000</td>\n",
       "      <td>39.000000</td>\n",
       "      <td>13.000000</td>\n",
       "      <td>0.000000</td>\n",
       "      <td>4.800000</td>\n",
       "      <td>...</td>\n",
       "      <td>0.000000</td>\n",
       "      <td>5.000000</td>\n",
       "      <td>19.000000</td>\n",
       "      <td>21.100000</td>\n",
       "      <td>7.000000</td>\n",
       "      <td>1015.300000</td>\n",
       "      <td>5.000000</td>\n",
       "      <td>12.000000</td>\n",
       "      <td>52.000000</td>\n",
       "      <td>70.000000</td>\n",
       "    </tr>\n",
       "    <tr>\n",
       "      <th>75%</th>\n",
       "      <td>0.000000</td>\n",
       "      <td>1022.500000</td>\n",
       "      <td>35.00000</td>\n",
       "      <td>5.024100</td>\n",
       "      <td>21.600000</td>\n",
       "      <td>10.600000</td>\n",
       "      <td>48.000000</td>\n",
       "      <td>19.000000</td>\n",
       "      <td>0.000000</td>\n",
       "      <td>7.400000</td>\n",
       "      <td>...</td>\n",
       "      <td>0.800000</td>\n",
       "      <td>7.000000</td>\n",
       "      <td>24.000000</td>\n",
       "      <td>26.500000</td>\n",
       "      <td>10.000000</td>\n",
       "      <td>1020.100000</td>\n",
       "      <td>7.000000</td>\n",
       "      <td>16.900000</td>\n",
       "      <td>59.000000</td>\n",
       "      <td>83.000000</td>\n",
       "    </tr>\n",
       "    <tr>\n",
       "      <th>max</th>\n",
       "      <td>1.000000</td>\n",
       "      <td>1040.900000</td>\n",
       "      <td>48.00000</td>\n",
       "      <td>5.045800</td>\n",
       "      <td>39.100000</td>\n",
       "      <td>14.300000</td>\n",
       "      <td>130.000000</td>\n",
       "      <td>87.000000</td>\n",
       "      <td>1.000000</td>\n",
       "      <td>145.000000</td>\n",
       "      <td>...</td>\n",
       "      <td>371.000000</td>\n",
       "      <td>9.000000</td>\n",
       "      <td>87.000000</td>\n",
       "      <td>46.100000</td>\n",
       "      <td>13.000000</td>\n",
       "      <td>1038.500000</td>\n",
       "      <td>9.000000</td>\n",
       "      <td>33.900000</td>\n",
       "      <td>66.000000</td>\n",
       "      <td>100.000000</td>\n",
       "    </tr>\n",
       "  </tbody>\n",
       "</table>\n",
       "<p>8 rows × 21 columns</p>\n",
       "</div>"
      ],
      "text/plain": [
       "             target            f0           f1            f2            f3  \\\n",
       "count  50000.000000  45122.000000  50000.00000  48816.000000  49677.000000   \n",
       "mean       0.225320   1017.678647     23.49612      5.018887     16.998782   \n",
       "std        0.417797      7.130390     14.01738      0.007177      6.520973   \n",
       "min        0.000000    982.000000      0.00000      4.998000     -6.200000   \n",
       "25%        0.000000   1013.000000     11.00000      5.014000     12.300000   \n",
       "50%        0.000000   1017.600000     23.00000      5.019100     16.700000   \n",
       "75%        0.000000   1022.500000     35.00000      5.024100     21.600000   \n",
       "max        1.000000   1040.900000     48.00000      5.045800     39.100000   \n",
       "\n",
       "                 f5            f6            f7            f9           f10  \\\n",
       "count  26130.000000  46648.000000  49517.000000  49497.000000  28585.000000   \n",
       "mean       7.628550     40.050999     14.000848      0.222862      5.463607   \n",
       "std        3.776794     13.655620      8.936280      0.416171      4.251483   \n",
       "min        0.000000      7.000000      0.000000      0.000000      0.000000   \n",
       "25%        4.900000     31.000000      7.000000      0.000000      2.600000   \n",
       "50%        8.500000     39.000000     13.000000      0.000000      4.800000   \n",
       "75%       10.600000     48.000000     19.000000      0.000000      7.400000   \n",
       "max       14.300000    130.000000     87.000000      1.000000    145.000000   \n",
       "\n",
       "       ...           f13           f14           f15           f16  \\\n",
       "count  ...  49497.000000  29937.000000  49057.000000  49020.000000   \n",
       "mean   ...      2.379215      4.508668     18.686630     21.683570   \n",
       "std    ...      8.795403      2.717503      8.842879      6.970918   \n",
       "min    ...      0.000000      0.000000      0.000000     -5.100000   \n",
       "25%    ...      0.000000      2.000000     13.000000     16.600000   \n",
       "50%    ...      0.000000      5.000000     19.000000     21.100000   \n",
       "75%    ...      0.800000      7.000000     24.000000     26.500000   \n",
       "max    ...    371.000000      9.000000     87.000000     46.100000   \n",
       "\n",
       "                f18           f19           f20           f22           f23  \\\n",
       "count  48749.000000  45121.000000  31245.000000  49746.000000  25160.000000   \n",
       "mean       7.305524   1015.285913      4.428837     12.191203     52.013712   \n",
       "std        3.546719      7.057875      2.884968      6.414481      8.323467   \n",
       "min        0.000000    978.200000      0.000000     -8.500000     37.000000   \n",
       "25%        5.000000   1010.500000      1.000000      7.600000     45.000000   \n",
       "50%        7.000000   1015.300000      5.000000     12.000000     52.000000   \n",
       "75%       10.000000   1020.100000      7.000000     16.900000     59.000000   \n",
       "max       13.000000   1038.500000      9.000000     33.900000     66.000000   \n",
       "\n",
       "                f24  \n",
       "count  49398.000000  \n",
       "mean      68.806470  \n",
       "std       19.024988  \n",
       "min        1.000000  \n",
       "25%       57.000000  \n",
       "50%       70.000000  \n",
       "75%       83.000000  \n",
       "max      100.000000  \n",
       "\n",
       "[8 rows x 21 columns]"
      ]
     },
     "execution_count": 59,
     "metadata": {},
     "output_type": "execute_result"
    }
   ],
   "source": [
    "X_train.describe()"
   ]
  },
  {
   "cell_type": "markdown",
   "metadata": {},
   "source": [
    "Some noteable things to observe:\n",
    "- f2 has a very low standard deviation, which means its values are almost the same for every sample. We can either drop this as a feature, or take the logarithm? This feature has missing values, making it easy to impute them.\n",
    "- f6 has a high standard deviation\n",
    "- many features has 0 as the minimum value - could be a placeholder for a missing value or human error?\n",
    "- Several of the features have negative minimum values - is this an error? We will look at those features soon by plotting histograms of all values in e.g. f11 and f3\n",
    "- Some features are actually integers"
   ]
  },
  {
   "cell_type": "markdown",
   "metadata": {},
   "source": [
    "## Visualize the data"
   ]
  },
  {
   "cell_type": "code",
   "execution_count": 60,
   "metadata": {},
   "outputs": [],
   "source": [
    "colors = {0.0:'orange', 1.0:'green'}"
   ]
  },
  {
   "cell_type": "markdown",
   "metadata": {},
   "source": [
    "### Plot of f11"
   ]
  },
  {
   "cell_type": "code",
   "execution_count": 61,
   "metadata": {},
   "outputs": [
    {
     "data": {
      "text/plain": [
       "<AxesSubplot:ylabel='Frequency'>"
      ]
     },
     "execution_count": 61,
     "metadata": {},
     "output_type": "execute_result"
    },
    {
     "data": {
      "image/png": "[encoded data removed]",
      "text/plain": [
       "<Figure size 864x432 with 1 Axes>"
      ]
     },
     "metadata": {
      "needs_background": "light"
     },
     "output_type": "display_data"
    }
   ],
   "source": [
    "X_train['f11'].plot(kind='hist', bins=50, figsize=(12,6), facecolor='white',edgecolor='black')"
   ]
  },
  {
   "cell_type": "code",
   "execution_count": 62,
   "metadata": {},
   "outputs": [
    {
     "data": {
      "text/plain": [
       "47"
      ]
     },
     "execution_count": 62,
     "metadata": {},
     "output_type": "execute_result"
    }
   ],
   "source": [
    "below_0_f11 = X_train['f11'].apply(lambda x: x < 0).sum()\n",
    "below_0_f11"
   ]
  },
  {
   "cell_type": "code",
   "execution_count": 63,
   "metadata": {},
   "outputs": [
    {
     "data": {
      "text/plain": [
       "0.0009419970337114683"
      ]
     },
     "execution_count": 63,
     "metadata": {},
     "output_type": "execute_result"
    }
   ],
   "source": [
    "# Amount of samples below zero\n",
    "below_0_f11/(50000-X_train['f11'].isnull().sum())"
   ]
  },
  {
   "cell_type": "markdown",
   "metadata": {},
   "source": [
    "### Plot of f3"
   ]
  },
  {
   "cell_type": "code",
   "execution_count": 64,
   "metadata": {},
   "outputs": [
    {
     "data": {
      "text/plain": [
       "<AxesSubplot:ylabel='Frequency'>"
      ]
     },
     "execution_count": 64,
     "metadata": {},
     "output_type": "execute_result"
    },
    {
     "data": {
      "image/png": "[encoded data removed]",
      "text/plain": [
       "<Figure size 864x432 with 1 Axes>"
      ]
     },
     "metadata": {
      "needs_background": "light"
     },
     "output_type": "display_data"
    }
   ],
   "source": [
    "X_train['f3'].plot(kind='hist', bins=50, figsize=(12,6), facecolor='white',edgecolor='black')"
   ]
  },
  {
   "cell_type": "code",
   "execution_count": 65,
   "metadata": {},
   "outputs": [
    {
     "data": {
      "text/plain": [
       "167"
      ]
     },
     "execution_count": 65,
     "metadata": {},
     "output_type": "execute_result"
    }
   ],
   "source": [
    "below_0_f3 = X_train['f3'].apply(lambda x: x < 0).sum()\n",
    "below_0_f3"
   ]
  },
  {
   "cell_type": "code",
   "execution_count": 66,
   "metadata": {
    "scrolled": false
   },
   "outputs": [
    {
     "data": {
      "text/plain": [
       "0.0033617166898162127"
      ]
     },
     "execution_count": 66,
     "metadata": {},
     "output_type": "execute_result"
    }
   ],
   "source": [
    "# Amount of samples below zero\n",
    "below_0_f3/(50000-X_train['f3'].isnull().sum())"
   ]
  },
  {
   "cell_type": "markdown",
   "metadata": {},
   "source": [
    "### Plot the mean"
   ]
  },
  {
   "cell_type": "markdown",
   "metadata": {},
   "source": [
    "Let's plot the mean of each feature:"
   ]
  },
  {
   "cell_type": "code",
   "execution_count": 67,
   "metadata": {
    "scrolled": false
   },
   "outputs": [
    {
     "data": {
      "text/plain": [
       "<AxesSubplot:>"
      ]
     },
     "execution_count": 67,
     "metadata": {},
     "output_type": "execute_result"
    },
    {
     "data": {
      "image/png": "[encoded data removed]",
      "text/plain": [
       "<Figure size 432x288 with 1 Axes>"
      ]
     },
     "metadata": {
      "needs_background": "light"
     },
     "output_type": "display_data"
    }
   ],
   "source": [
    "X_train.mean().plot(style='*', color='red')"
   ]
  },
  {
   "cell_type": "markdown",
   "metadata": {},
   "source": [
    "Most of them are in the same range, except for f0 and f19. Let's remove them to better look at the others."
   ]
  },
  {
   "cell_type": "code",
   "execution_count": 68,
   "metadata": {
    "scrolled": true
   },
   "outputs": [
    {
     "data": {
      "text/plain": [
       "<AxesSubplot:>"
      ]
     },
     "execution_count": 68,
     "metadata": {},
     "output_type": "execute_result"
    },
    {
     "data": {
      "image/png": "[encoded data removed]",
      "text/plain": [
       "<Figure size 432x288 with 1 Axes>"
      ]
     },
     "metadata": {
      "needs_background": "light"
     },
     "output_type": "display_data"
    }
   ],
   "source": [
    "X_train.drop(['f0', 'f19'], axis=1).mean().plot(style='*', color='green')"
   ]
  },
  {
   "cell_type": "markdown",
   "metadata": {},
   "source": [
    "### Correlations between variables"
   ]
  },
  {
   "cell_type": "code",
   "execution_count": 69,
   "metadata": {
    "scrolled": true
   },
   "outputs": [
    {
     "data": {
      "image/png": "[encoded data removed]",
      "text/plain": [
       "<Figure size 1080x1080 with 2 Axes>"
      ]
     },
     "metadata": {
      "needs_background": "light"
     },
     "output_type": "display_data"
    },
    {
     "data": {
      "text/plain": [
       "<Figure size 432x288 with 0 Axes>"
      ]
     },
     "metadata": {},
     "output_type": "display_data"
    }
   ],
   "source": [
    "correlations = X_train.corr()\n",
    "\n",
    "fig, ax = plt.subplots(figsize=(15,15))\n",
    "heatmap = sns.heatmap(correlations, vmax=1.0, center=0, fmt='.2f',\n",
    "        square=True, linewidths=.5, annot=True, cbar_kws={\"shrink\": .70})\n",
    "plt.show();\n",
    "plt.savefig('heatmap.png')"
   ]
  },
  {
   "cell_type": "markdown",
   "metadata": {},
   "source": [
    "This table has some interesting information. Many of the features are correlated, as presented in this list:\n",
    "\n",
    "- **f0** - **f19**\n",
    "- **f3** - f11, f16, **f22**\n",
    "- f5 - f14, f20\n",
    "- f6 - f7, f15\n",
    "- f7 - f15\n",
    "- f9 - f13\n",
    "- **f11** - **f16**, f22, f24\n",
    "- f14 - f20\n",
    "- f16 - f22\n",
    "\n",
    "The bold features are either highly positively or highly negativley correlated. The features f0 and f19, f3 and f22, and f11 and f16 are have correlation of 0.9 or above. This implies that the features are redundant of each other, and might cause overfitting.\n",
    "\n",
    "Lets create scatterplots of all the features, and highlight the ones with the highest correlations: "
   ]
  },
  {
   "cell_type": "markdown",
   "metadata": {},
   "source": [
    "### Scatterplots of features"
   ]
  },
  {
   "cell_type": "code",
   "execution_count": 70,
   "metadata": {},
   "outputs": [],
   "source": [
    "#sns_plot = sns.pairplot(X_train, hue='target')\n",
    "#sns_plot.savefig('pairplot.png')\n",
    "#sns_plot"
   ]
  },
  {
   "cell_type": "markdown",
   "metadata": {},
   "source": [
    "### Scatterplots of highly correlated features"
   ]
  },
  {
   "cell_type": "code",
   "execution_count": 73,
   "metadata": {
    "scrolled": true
   },
   "outputs": [
    {
     "data": {
      "text/plain": [
       "<AxesSubplot:xlabel='f0', ylabel='f19'>"
      ]
     },
     "execution_count": 73,
     "metadata": {},
     "output_type": "execute_result"
    },
    {
     "data": {
      "image/png": "[encoded data removed]",
      "text/plain": [
       "<Figure size 432x288 with 1 Axes>"
      ]
     },
     "metadata": {
      "needs_background": "light"
     },
     "output_type": "display_data"
    }
   ],
   "source": [
    "X_train.plot(kind='scatter', x='f0', y='f19', color=X_train['target'].apply(lambda x: colors[x]))"
   ]
  },
  {
   "cell_type": "code",
   "execution_count": 74,
   "metadata": {
    "scrolled": true
   },
   "outputs": [
    {
     "data": {
      "text/plain": [
       "<AxesSubplot:xlabel='f3', ylabel='f22'>"
      ]
     },
     "execution_count": 74,
     "metadata": {},
     "output_type": "execute_result"
    },
    {
     "data": {
      "image/png": "[encoded data removed]",
      "text/plain": [
       "<Figure size 432x288 with 1 Axes>"
      ]
     },
     "metadata": {
      "needs_background": "light"
     },
     "output_type": "display_data"
    }
   ],
   "source": [
    "X_train.plot(kind='scatter', x='f3', y='f22', color=X_train['target'].apply(lambda x: colors[x]))"
   ]
  },
  {
   "cell_type": "code",
   "execution_count": 75,
   "metadata": {
    "scrolled": true
   },
   "outputs": [
    {
     "data": {
      "text/plain": [
       "<AxesSubplot:xlabel='f11', ylabel='f16'>"
      ]
     },
     "execution_count": 75,
     "metadata": {},
     "output_type": "execute_result"
    },
    {
     "data": {
      "image/png": "[encoded data removed]",
      "text/plain": [
       "<Figure size 432x288 with 1 Axes>"
      ]
     },
     "metadata": {
      "needs_background": "light"
     },
     "output_type": "display_data"
    }
   ],
   "source": [
    "X_train.plot(kind='scatter', x='f11', y='f16', color=X_train['target'].apply(lambda x: colors[x]))"
   ]
  },
  {
   "cell_type": "markdown",
   "metadata": {},
   "source": [
    "For decision tree methods and boosting methods like XGBoost, however, multicollinearity between features does not affect the result considerably because when the tree decides on where to split, it will choose only one of the perfectly correlated features. So we are good for now..."
   ]
  },
  {
   "cell_type": "markdown",
   "metadata": {},
   "source": [
    "### Box plots\n",
    "Let's find those outliers."
   ]
  },
  {
   "cell_type": "code",
   "execution_count": 76,
   "metadata": {
    "scrolled": true
   },
   "outputs": [
    {
     "data": {
      "text/plain": [
       "<AxesSubplot:>"
      ]
     },
     "execution_count": 76,
     "metadata": {},
     "output_type": "execute_result"
    },
    {
     "data": {
      "image/png": "[encoded data removed]",
      "text/plain": [
       "<Figure size 1080x720 with 1 Axes>"
      ]
     },
     "metadata": {
      "needs_background": "light"
     },
     "output_type": "display_data"
    }
   ],
   "source": [
    "X_train.boxplot(['f0', 'f19'], figsize=(15,10))"
   ]
  },
  {
   "cell_type": "code",
   "execution_count": 77,
   "metadata": {
    "scrolled": true
   },
   "outputs": [
    {
     "data": {
      "text/plain": [
       "<AxesSubplot:>"
      ]
     },
     "execution_count": 77,
     "metadata": {},
     "output_type": "execute_result"
    },
    {
     "data": {
      "image/png": "[encoded data removed]",
      "text/plain": [
       "<Figure size 1080x720 with 1 Axes>"
      ]
     },
     "metadata": {
      "needs_background": "light"
     },
     "output_type": "display_data"
    }
   ],
   "source": [
    "X_train.boxplot('f13', figsize=(15,10))"
   ]
  },
  {
   "cell_type": "code",
   "execution_count": 78,
   "metadata": {
    "scrolled": true
   },
   "outputs": [
    {
     "data": {
      "text/plain": [
       "<AxesSubplot:>"
      ]
     },
     "execution_count": 78,
     "metadata": {},
     "output_type": "execute_result"
    },
    {
     "data": {
      "image/png": "[encoded data removed]",
      "text/plain": [
       "<Figure size 1080x1080 with 1 Axes>"
      ]
     },
     "metadata": {
      "needs_background": "light"
     },
     "output_type": "display_data"
    }
   ],
   "source": [
    "X_train.boxplot([x for x in X_train.drop(['f0', 'f19', 'f4', 'f8', 'f12', 'f17', 'f21', 'f13'], axis=1).columns], figsize=(15,15))"
   ]
  },
  {
   "cell_type": "markdown",
   "metadata": {},
   "source": [
    "There are some outliers we can clearly see in this data."
   ]
  },
  {
   "cell_type": "markdown",
   "metadata": {},
   "source": [
    "## Find duplicates"
   ]
  },
  {
   "cell_type": "markdown",
   "metadata": {},
   "source": [
    "Are there any exact duplicates of samples in the data? If there are, this might hurt the model's ability to generalize as it will \"learn more\" from the duplicated data."
   ]
  },
  {
   "cell_type": "code",
   "execution_count": 79,
   "metadata": {
    "scrolled": true
   },
   "outputs": [
    {
     "data": {
      "text/plain": [
       "0"
      ]
     },
     "execution_count": 79,
     "metadata": {},
     "output_type": "execute_result"
    }
   ],
   "source": [
    "X_train.duplicated().apply(lambda x: x is True).sum()"
   ]
  },
  {
   "cell_type": "markdown",
   "metadata": {},
   "source": [
    "No duplicates. Great!"
   ]
  },
  {
   "cell_type": "markdown",
   "metadata": {},
   "source": [
    "# Preprocessing the data"
   ]
  },
  {
   "cell_type": "markdown",
   "metadata": {},
   "source": [
    "## Remove outliers"
   ]
  },
  {
   "cell_type": "code",
   "execution_count": 80,
   "metadata": {},
   "outputs": [],
   "source": [
    "def find_skew(x):\n",
    "    tmp=x.dropna()\n",
    "    skew_value=skew(tmp)\n",
    "    return 'sample lengh: %s   and skew: %s'%(len(tmp),skew_value)"
   ]
  },
  {
   "cell_type": "markdown",
   "metadata": {},
   "source": [
    "Lets find the skew value for the features with obvious putliers, and try to lower it."
   ]
  },
  {
   "cell_type": "code",
   "execution_count": 81,
   "metadata": {
    "scrolled": false
   },
   "outputs": [
    {
     "name": "stdout",
     "output_type": "stream",
     "text": [
      "target :  sample lengh: 50000   and skew: 1.314909887767842\n",
      "f0 :  sample lengh: 45122   and skew: -0.08942690721996308\n",
      "f1 :  sample lengh: 50000   and skew: 0.041465316694681204\n",
      "f2 :  sample lengh: 48816   and skew: -0.14545019903223808\n",
      "f3 :  sample lengh: 49677   and skew: 0.0775877961513525\n",
      "f5 :  sample lengh: 26130   and skew: -0.5021855879232536\n",
      "f6 :  sample lengh: 46648   and skew: 0.8630224707440753\n",
      "f7 :  sample lengh: 49517   and skew: 0.7790643885914641\n",
      "f9 :  sample lengh: 49497   and skew: 1.3318613270813682\n",
      "f10 :  sample lengh: 28585   and skew: 4.512699109189178\n",
      "f11 :  sample lengh: 49894   and skew: 0.21785047803962587\n",
      "f13 :  sample lengh: 49497   and skew: 11.05542172973073\n",
      "f14 :  sample lengh: 29937   and skew: -0.2295300544803834\n",
      "f15 :  sample lengh: 49057   and skew: 0.6330558503818273\n",
      "f16 :  sample lengh: 49020   and skew: 0.23634685216381526\n",
      "f18 :  sample lengh: 48749   and skew: -0.2849660835833031\n",
      "f19 :  sample lengh: 45121   and skew: -0.04659824449732003\n",
      "f20 :  sample lengh: 31245   and skew: -0.21569917298204225\n",
      "f22 :  sample lengh: 49746   and skew: 0.016461462500852463\n",
      "f23 :  sample lengh: 25160   and skew: -0.08330954212415954\n",
      "f24 :  sample lengh: 49398   and skew: -0.46460366992874647\n"
     ]
    }
   ],
   "source": [
    "def print_skews():\n",
    "    exclude = cat_cols + [hex_col]\n",
    "    for col in X_train.drop(exclude, axis=1).columns:\n",
    "        print(col, ': ', find_skew(X_train[col]))\n",
    "        \n",
    "print_skews()"
   ]
  },
  {
   "cell_type": "markdown",
   "metadata": {},
   "source": [
    "We know f9 is a binary value, so it is expected to be a little \"askew\". Let's try to improve the skew value of f10 and f13 without losing too many samples"
   ]
  },
  {
   "cell_type": "code",
   "execution_count": 82,
   "metadata": {},
   "outputs": [
    {
     "data": {
      "text/html": [
       "<div>\n",
       "<style scoped>\n",
       "    .dataframe tbody tr th:only-of-type {\n",
       "        vertical-align: middle;\n",
       "    }\n",
       "\n",
       "    .dataframe tbody tr th {\n",
       "        vertical-align: top;\n",
       "    }\n",
       "\n",
       "    .dataframe thead th {\n",
       "        text-align: right;\n",
       "    }\n",
       "</style>\n",
       "<table border=\"1\" class=\"dataframe\">\n",
       "  <thead>\n",
       "    <tr style=\"text-align: right;\">\n",
       "      <th></th>\n",
       "      <th>target</th>\n",
       "      <th>f0</th>\n",
       "      <th>f1</th>\n",
       "      <th>f2</th>\n",
       "      <th>f3</th>\n",
       "      <th>f4</th>\n",
       "      <th>f5</th>\n",
       "      <th>f6</th>\n",
       "      <th>f7</th>\n",
       "      <th>f8</th>\n",
       "      <th>...</th>\n",
       "      <th>f15</th>\n",
       "      <th>f16</th>\n",
       "      <th>f17</th>\n",
       "      <th>f18</th>\n",
       "      <th>f19</th>\n",
       "      <th>f20</th>\n",
       "      <th>f21</th>\n",
       "      <th>f22</th>\n",
       "      <th>f23</th>\n",
       "      <th>f24</th>\n",
       "    </tr>\n",
       "  </thead>\n",
       "  <tbody>\n",
       "    <tr>\n",
       "      <th>0</th>\n",
       "      <td>0</td>\n",
       "      <td>1013.1</td>\n",
       "      <td>0</td>\n",
       "      <td>5.0190</td>\n",
       "      <td>26.1</td>\n",
       "      <td>bbd</td>\n",
       "      <td>11.1</td>\n",
       "      <td>33.0</td>\n",
       "      <td>11.0</td>\n",
       "      <td>m</td>\n",
       "      <td>...</td>\n",
       "      <td>19.0</td>\n",
       "      <td>27.8</td>\n",
       "      <td>bbd</td>\n",
       "      <td>6.0</td>\n",
       "      <td>1008.9</td>\n",
       "      <td>1.0</td>\n",
       "      <td>nd</td>\n",
       "      <td>17.4</td>\n",
       "      <td>61.0</td>\n",
       "      <td>63.0</td>\n",
       "    </tr>\n",
       "    <tr>\n",
       "      <th>1</th>\n",
       "      <td>0</td>\n",
       "      <td>1010.2</td>\n",
       "      <td>1</td>\n",
       "      <td>5.0142</td>\n",
       "      <td>10.4</td>\n",
       "      <td>n</td>\n",
       "      <td>NaN</td>\n",
       "      <td>46.0</td>\n",
       "      <td>17.0</td>\n",
       "      <td>k</td>\n",
       "      <td>...</td>\n",
       "      <td>22.0</td>\n",
       "      <td>12.7</td>\n",
       "      <td>n</td>\n",
       "      <td>12.0</td>\n",
       "      <td>1012.4</td>\n",
       "      <td>5.0</td>\n",
       "      <td>nx</td>\n",
       "      <td>6.8</td>\n",
       "      <td>55.0</td>\n",
       "      <td>80.0</td>\n",
       "    </tr>\n",
       "    <tr>\n",
       "      <th>2</th>\n",
       "      <td>0</td>\n",
       "      <td>1014.4</td>\n",
       "      <td>2</td>\n",
       "      <td>5.0280</td>\n",
       "      <td>12.3</td>\n",
       "      <td>xnx</td>\n",
       "      <td>NaN</td>\n",
       "      <td>31.0</td>\n",
       "      <td>13.0</td>\n",
       "      <td>c</td>\n",
       "      <td>...</td>\n",
       "      <td>9.0</td>\n",
       "      <td>13.0</td>\n",
       "      <td>nnd</td>\n",
       "      <td>7.0</td>\n",
       "      <td>1016.1</td>\n",
       "      <td>NaN</td>\n",
       "      <td>nx</td>\n",
       "      <td>10.1</td>\n",
       "      <td>61.0</td>\n",
       "      <td>70.0</td>\n",
       "    </tr>\n",
       "    <tr>\n",
       "      <th>3</th>\n",
       "      <td>0</td>\n",
       "      <td>1019.2</td>\n",
       "      <td>3</td>\n",
       "      <td>5.0335</td>\n",
       "      <td>23.0</td>\n",
       "      <td>nx</td>\n",
       "      <td>11.6</td>\n",
       "      <td>41.0</td>\n",
       "      <td>9.0</td>\n",
       "      <td>i</td>\n",
       "      <td>...</td>\n",
       "      <td>17.0</td>\n",
       "      <td>32.3</td>\n",
       "      <td>nx</td>\n",
       "      <td>10.0</td>\n",
       "      <td>1016.6</td>\n",
       "      <td>1.0</td>\n",
       "      <td>dnd</td>\n",
       "      <td>14.4</td>\n",
       "      <td>NaN</td>\n",
       "      <td>40.0</td>\n",
       "    </tr>\n",
       "    <tr>\n",
       "      <th>4</th>\n",
       "      <td>0</td>\n",
       "      <td>1027.6</td>\n",
       "      <td>4</td>\n",
       "      <td>5.0129</td>\n",
       "      <td>7.3</td>\n",
       "      <td>d</td>\n",
       "      <td>7.3</td>\n",
       "      <td>28.0</td>\n",
       "      <td>15.0</td>\n",
       "      <td>h</td>\n",
       "      <td>...</td>\n",
       "      <td>13.0</td>\n",
       "      <td>13.7</td>\n",
       "      <td>dnd</td>\n",
       "      <td>7.0</td>\n",
       "      <td>1024.4</td>\n",
       "      <td>7.0</td>\n",
       "      <td>dbd</td>\n",
       "      <td>6.8</td>\n",
       "      <td>47.0</td>\n",
       "      <td>92.0</td>\n",
       "    </tr>\n",
       "  </tbody>\n",
       "</table>\n",
       "<p>5 rows × 26 columns</p>\n",
       "</div>"
      ],
      "text/plain": [
       "   target      f0  f1      f2    f3   f4    f5    f6    f7 f8  ...   f15  \\\n",
       "0       0  1013.1   0  5.0190  26.1  bbd  11.1  33.0  11.0  m  ...  19.0   \n",
       "1       0  1010.2   1  5.0142  10.4    n   NaN  46.0  17.0  k  ...  22.0   \n",
       "2       0  1014.4   2  5.0280  12.3  xnx   NaN  31.0  13.0  c  ...   9.0   \n",
       "3       0  1019.2   3  5.0335  23.0   nx  11.6  41.0   9.0  i  ...  17.0   \n",
       "4       0  1027.6   4  5.0129   7.3    d   7.3  28.0  15.0  h  ...  13.0   \n",
       "\n",
       "    f16  f17   f18     f19  f20  f21   f22   f23   f24  \n",
       "0  27.8  bbd   6.0  1008.9  1.0   nd  17.4  61.0  63.0  \n",
       "1  12.7    n  12.0  1012.4  5.0   nx   6.8  55.0  80.0  \n",
       "2  13.0  nnd   7.0  1016.1  NaN   nx  10.1  61.0  70.0  \n",
       "3  32.3   nx  10.0  1016.6  1.0  dnd  14.4   NaN  40.0  \n",
       "4  13.7  dnd   7.0  1024.4  7.0  dbd   6.8  47.0  92.0  \n",
       "\n",
       "[5 rows x 26 columns]"
      ]
     },
     "execution_count": 82,
     "metadata": {},
     "output_type": "execute_result"
    }
   ],
   "source": [
    "X_train.head()"
   ]
  },
  {
   "cell_type": "code",
   "execution_count": 83,
   "metadata": {},
   "outputs": [
    {
     "data": {
      "text/plain": [
       "'sample lengh: 28578   and skew: 2.890565628955878'"
      ]
     },
     "execution_count": 83,
     "metadata": {},
     "output_type": "execute_result"
    }
   ],
   "source": [
    "X_train_outliers = X_train[train.f10<62]\n",
    "find_skew(X_train_outliers['f10'])"
   ]
  },
  {
   "cell_type": "code",
   "execution_count": 84,
   "metadata": {},
   "outputs": [
    {
     "data": {
      "text/plain": [
       "'sample lengh: 49491   and skew: 8.181385154078031'"
      ]
     },
     "execution_count": 84,
     "metadata": {},
     "output_type": "execute_result"
    }
   ],
   "source": [
    "X_train_outliers = X_train[train.f13<200]\n",
    "find_skew(X_train_outliers.f13)"
   ]
  },
  {
   "cell_type": "code",
   "execution_count": 85,
   "metadata": {},
   "outputs": [
    {
     "name": "stdout",
     "output_type": "stream",
     "text": [
      "target :  sample lengh: 49491   and skew: 1.3363062095621212\n",
      "f0 :  sample lengh: 44701   and skew: -0.09124577396554001\n",
      "f1 :  sample lengh: 49491   and skew: 0.04138856417128502\n",
      "f2 :  sample lengh: 48317   and skew: -0.14486430367399583\n",
      "f3 :  sample lengh: 49249   and skew: 0.07828570723437252\n",
      "f5 :  sample lengh: 25978   and skew: -0.5053998664983167\n",
      "f6 :  sample lengh: 46207   and skew: 0.8621140077344968\n",
      "f7 :  sample lengh: 49100   and skew: 0.7794673962476725\n",
      "f9 :  sample lengh: 49491   and skew: 1.3325150446780893\n",
      "f10 :  sample lengh: 28495   and skew: 4.517119917036553\n",
      "f11 :  sample lengh: 49392   and skew: 0.22368351745782433\n",
      "f13 :  sample lengh: 49491   and skew: 8.181385154078031\n",
      "f14 :  sample lengh: 29776   and skew: -0.22753433266819353\n",
      "f15 :  sample lengh: 48581   and skew: 0.6340531265608168\n",
      "f16 :  sample lengh: 48545   and skew: 0.2409706922324196\n",
      "f18 :  sample lengh: 48254   and skew: -0.284266362029079\n",
      "f19 :  sample lengh: 44687   and skew: -0.04884789720627165\n",
      "f20 :  sample lengh: 31096   and skew: -0.21305656319020622\n",
      "f22 :  sample lengh: 49302   and skew: 0.01894418291040602\n",
      "f23 :  sample lengh: 24902   and skew: -0.08209970523289899\n",
      "f24 :  sample lengh: 48972   and skew: -0.4637149172493951\n"
     ]
    }
   ],
   "source": [
    "X_train = X_train_outliers\n",
    "print_skews()"
   ]
  },
  {
   "cell_type": "markdown",
   "metadata": {},
   "source": [
    "## Encode features\n",
    "\n",
    "We need to One Hot Encode the categorical data, and also convert the hex values to decimal numbers"
   ]
  },
  {
   "cell_type": "code",
   "execution_count": 86,
   "metadata": {
    "scrolled": true
   },
   "outputs": [
    {
     "name": "stdout",
     "output_type": "stream",
     "text": [
      "<class 'pandas.core.frame.DataFrame'>\n",
      "Int64Index: 49491 entries, 0 to 49999\n",
      "Data columns (total 26 columns):\n",
      " #   Column  Non-Null Count  Dtype  \n",
      "---  ------  --------------  -----  \n",
      " 0   target  49491 non-null  int64  \n",
      " 1   f0      44701 non-null  float64\n",
      " 2   f1      49491 non-null  int64  \n",
      " 3   f2      48317 non-null  float64\n",
      " 4   f3      49249 non-null  float64\n",
      " 5   f4      46180 non-null  object \n",
      " 6   f5      25978 non-null  float64\n",
      " 7   f6      46207 non-null  float64\n",
      " 8   f7      49100 non-null  float64\n",
      " 9   f8      48050 non-null  object \n",
      " 10  f9      49491 non-null  float64\n",
      " 11  f10     28495 non-null  float64\n",
      " 12  f11     49392 non-null  float64\n",
      " 13  f12     47989 non-null  object \n",
      " 14  f13     49491 non-null  float64\n",
      " 15  f14     29776 non-null  float64\n",
      " 16  f15     48581 non-null  float64\n",
      " 17  f16     48545 non-null  float64\n",
      " 18  f17     48160 non-null  object \n",
      " 19  f18     48254 non-null  float64\n",
      " 20  f19     44687 non-null  float64\n",
      " 21  f20     31096 non-null  float64\n",
      " 22  f21     46018 non-null  object \n",
      " 23  f22     49302 non-null  float64\n",
      " 24  f23     24902 non-null  float64\n",
      " 25  f24     48972 non-null  float64\n",
      "dtypes: float64(19), int64(2), object(5)\n",
      "memory usage: 10.2+ MB\n"
     ]
    }
   ],
   "source": [
    "X_train.info()"
   ]
  },
  {
   "cell_type": "code",
   "execution_count": 87,
   "metadata": {
    "scrolled": true
   },
   "outputs": [
    {
     "name": "stdout",
     "output_type": "stream",
     "text": [
      "<class 'pandas.core.frame.DataFrame'>\n",
      "Int64Index: 49491 entries, 0 to 49999\n",
      "Data columns (total 26 columns):\n",
      " #   Column  Non-Null Count  Dtype  \n",
      "---  ------  --------------  -----  \n",
      " 0   target  49491 non-null  int64  \n",
      " 1   f0      44701 non-null  float64\n",
      " 2   f1      49491 non-null  int64  \n",
      " 3   f2      48317 non-null  float64\n",
      " 4   f3      49249 non-null  float64\n",
      " 5   f4      46180 non-null  object \n",
      " 6   f5      25978 non-null  float64\n",
      " 7   f6      46207 non-null  float64\n",
      " 8   f7      49100 non-null  float64\n",
      " 9   f8      48050 non-null  object \n",
      " 10  f9      49491 non-null  float64\n",
      " 11  f10     28495 non-null  float64\n",
      " 12  f11     49392 non-null  float64\n",
      " 13  f12     47989 non-null  object \n",
      " 14  f13     49491 non-null  float64\n",
      " 15  f14     29776 non-null  float64\n",
      " 16  f15     48581 non-null  float64\n",
      " 17  f16     48545 non-null  float64\n",
      " 18  f17     48160 non-null  object \n",
      " 19  f18     48254 non-null  float64\n",
      " 20  f19     44687 non-null  float64\n",
      " 21  f20     31096 non-null  float64\n",
      " 22  f21     46018 non-null  object \n",
      " 23  f22     49302 non-null  float64\n",
      " 24  f23     24902 non-null  float64\n",
      " 25  f24     48972 non-null  float64\n",
      "dtypes: float64(19), int64(2), object(5)\n",
      "memory usage: 10.2+ MB\n"
     ]
    }
   ],
   "source": [
    "X_train_encoded = X_train\n",
    "X_train_encoded.info()"
   ]
  },
  {
   "cell_type": "code",
   "execution_count": 88,
   "metadata": {},
   "outputs": [],
   "source": [
    "for i in cat_cols:\n",
    "    X_train_encoded = pd.concat([X_train_encoded, pd.get_dummies(X_train[i], prefix=i)],axis=1)\n",
    "    X_train_encoded.drop([i],axis=1, inplace=True)"
   ]
  },
  {
   "cell_type": "code",
   "execution_count": 89,
   "metadata": {
    "scrolled": true
   },
   "outputs": [
    {
     "data": {
      "text/html": [
       "<div>\n",
       "<style scoped>\n",
       "    .dataframe tbody tr th:only-of-type {\n",
       "        vertical-align: middle;\n",
       "    }\n",
       "\n",
       "    .dataframe tbody tr th {\n",
       "        vertical-align: top;\n",
       "    }\n",
       "\n",
       "    .dataframe thead th {\n",
       "        text-align: right;\n",
       "    }\n",
       "</style>\n",
       "<table border=\"1\" class=\"dataframe\">\n",
       "  <thead>\n",
       "    <tr style=\"text-align: right;\">\n",
       "      <th></th>\n",
       "      <th>target</th>\n",
       "      <th>f0</th>\n",
       "      <th>f1</th>\n",
       "      <th>f2</th>\n",
       "      <th>f3</th>\n",
       "      <th>f5</th>\n",
       "      <th>f6</th>\n",
       "      <th>f7</th>\n",
       "      <th>f9</th>\n",
       "      <th>f10</th>\n",
       "      <th>...</th>\n",
       "      <th>f21_dbd</th>\n",
       "      <th>f21_dnd</th>\n",
       "      <th>f21_n</th>\n",
       "      <th>f21_nd</th>\n",
       "      <th>f21_nnd</th>\n",
       "      <th>f21_nnx</th>\n",
       "      <th>f21_nx</th>\n",
       "      <th>f21_x</th>\n",
       "      <th>f21_xbx</th>\n",
       "      <th>f21_xnx</th>\n",
       "    </tr>\n",
       "  </thead>\n",
       "  <tbody>\n",
       "    <tr>\n",
       "      <th>0</th>\n",
       "      <td>0</td>\n",
       "      <td>1013.1</td>\n",
       "      <td>0</td>\n",
       "      <td>5.0190</td>\n",
       "      <td>26.1</td>\n",
       "      <td>11.1</td>\n",
       "      <td>33.0</td>\n",
       "      <td>11.0</td>\n",
       "      <td>0.0</td>\n",
       "      <td>3.6</td>\n",
       "      <td>...</td>\n",
       "      <td>0</td>\n",
       "      <td>0</td>\n",
       "      <td>0</td>\n",
       "      <td>1</td>\n",
       "      <td>0</td>\n",
       "      <td>0</td>\n",
       "      <td>0</td>\n",
       "      <td>0</td>\n",
       "      <td>0</td>\n",
       "      <td>0</td>\n",
       "    </tr>\n",
       "    <tr>\n",
       "      <th>1</th>\n",
       "      <td>0</td>\n",
       "      <td>1010.2</td>\n",
       "      <td>1</td>\n",
       "      <td>5.0142</td>\n",
       "      <td>10.4</td>\n",
       "      <td>NaN</td>\n",
       "      <td>46.0</td>\n",
       "      <td>17.0</td>\n",
       "      <td>0.0</td>\n",
       "      <td>0.8</td>\n",
       "      <td>...</td>\n",
       "      <td>0</td>\n",
       "      <td>0</td>\n",
       "      <td>0</td>\n",
       "      <td>0</td>\n",
       "      <td>0</td>\n",
       "      <td>0</td>\n",
       "      <td>1</td>\n",
       "      <td>0</td>\n",
       "      <td>0</td>\n",
       "      <td>0</td>\n",
       "    </tr>\n",
       "    <tr>\n",
       "      <th>2</th>\n",
       "      <td>0</td>\n",
       "      <td>1014.4</td>\n",
       "      <td>2</td>\n",
       "      <td>5.0280</td>\n",
       "      <td>12.3</td>\n",
       "      <td>NaN</td>\n",
       "      <td>31.0</td>\n",
       "      <td>13.0</td>\n",
       "      <td>1.0</td>\n",
       "      <td>NaN</td>\n",
       "      <td>...</td>\n",
       "      <td>0</td>\n",
       "      <td>0</td>\n",
       "      <td>0</td>\n",
       "      <td>0</td>\n",
       "      <td>0</td>\n",
       "      <td>0</td>\n",
       "      <td>1</td>\n",
       "      <td>0</td>\n",
       "      <td>0</td>\n",
       "      <td>0</td>\n",
       "    </tr>\n",
       "    <tr>\n",
       "      <th>3</th>\n",
       "      <td>0</td>\n",
       "      <td>1019.2</td>\n",
       "      <td>3</td>\n",
       "      <td>5.0335</td>\n",
       "      <td>23.0</td>\n",
       "      <td>11.6</td>\n",
       "      <td>41.0</td>\n",
       "      <td>9.0</td>\n",
       "      <td>0.0</td>\n",
       "      <td>8.0</td>\n",
       "      <td>...</td>\n",
       "      <td>0</td>\n",
       "      <td>1</td>\n",
       "      <td>0</td>\n",
       "      <td>0</td>\n",
       "      <td>0</td>\n",
       "      <td>0</td>\n",
       "      <td>0</td>\n",
       "      <td>0</td>\n",
       "      <td>0</td>\n",
       "      <td>0</td>\n",
       "    </tr>\n",
       "    <tr>\n",
       "      <th>4</th>\n",
       "      <td>0</td>\n",
       "      <td>1027.6</td>\n",
       "      <td>4</td>\n",
       "      <td>5.0129</td>\n",
       "      <td>7.3</td>\n",
       "      <td>7.3</td>\n",
       "      <td>28.0</td>\n",
       "      <td>15.0</td>\n",
       "      <td>1.0</td>\n",
       "      <td>0.2</td>\n",
       "      <td>...</td>\n",
       "      <td>1</td>\n",
       "      <td>0</td>\n",
       "      <td>0</td>\n",
       "      <td>0</td>\n",
       "      <td>0</td>\n",
       "      <td>0</td>\n",
       "      <td>0</td>\n",
       "      <td>0</td>\n",
       "      <td>0</td>\n",
       "      <td>0</td>\n",
       "    </tr>\n",
       "  </tbody>\n",
       "</table>\n",
       "<p>5 rows × 85 columns</p>\n",
       "</div>"
      ],
      "text/plain": [
       "   target      f0  f1      f2    f3    f5    f6    f7   f9  f10  ...  f21_dbd  \\\n",
       "0       0  1013.1   0  5.0190  26.1  11.1  33.0  11.0  0.0  3.6  ...        0   \n",
       "1       0  1010.2   1  5.0142  10.4   NaN  46.0  17.0  0.0  0.8  ...        0   \n",
       "2       0  1014.4   2  5.0280  12.3   NaN  31.0  13.0  1.0  NaN  ...        0   \n",
       "3       0  1019.2   3  5.0335  23.0  11.6  41.0   9.0  0.0  8.0  ...        0   \n",
       "4       0  1027.6   4  5.0129   7.3   7.3  28.0  15.0  1.0  0.2  ...        1   \n",
       "\n",
       "  f21_dnd  f21_n  f21_nd  f21_nnd  f21_nnx  f21_nx  f21_x  f21_xbx  f21_xnx  \n",
       "0       0      0       1        0        0       0      0        0        0  \n",
       "1       0      0       0        0        0       1      0        0        0  \n",
       "2       0      0       0        0        0       1      0        0        0  \n",
       "3       1      0       0        0        0       0      0        0        0  \n",
       "4       0      0       0        0        0       0      0        0        0  \n",
       "\n",
       "[5 rows x 85 columns]"
      ]
     },
     "execution_count": 89,
     "metadata": {},
     "output_type": "execute_result"
    }
   ],
   "source": [
    "X_train_encoded.head()"
   ]
  },
  {
   "cell_type": "code",
   "execution_count": 90,
   "metadata": {
    "scrolled": true
   },
   "outputs": [
    {
     "name": "stdout",
     "output_type": "stream",
     "text": [
      "<class 'pandas.core.frame.DataFrame'>\n",
      "RangeIndex: 50000 entries, 0 to 49999\n",
      "Data columns (total 25 columns):\n",
      " #   Column  Non-Null Count  Dtype  \n",
      "---  ------  --------------  -----  \n",
      " 0   f0      45095 non-null  float64\n",
      " 1   f1      50000 non-null  int64  \n",
      " 2   f2      48828 non-null  float64\n",
      " 3   f3      49677 non-null  float64\n",
      " 4   f4      46797 non-null  object \n",
      " 5   f5      25972 non-null  float64\n",
      " 6   f6      46814 non-null  float64\n",
      " 7   f7      49534 non-null  float64\n",
      " 8   f8      48473 non-null  object \n",
      " 9   f9      49517 non-null  float64\n",
      " 10  f10     28499 non-null  float64\n",
      " 11  f11     49881 non-null  float64\n",
      " 12  f12     48543 non-null  object \n",
      " 13  f13     49517 non-null  float64\n",
      " 14  f14     29943 non-null  float64\n",
      " 15  f15     49108 non-null  float64\n",
      " 16  f16     49062 non-null  float64\n",
      " 17  f17     48728 non-null  object \n",
      " 18  f18     48720 non-null  float64\n",
      " 19  f19     45116 non-null  float64\n",
      " 20  f20     31030 non-null  float64\n",
      " 21  f21     46481 non-null  object \n",
      " 22  f22     49797 non-null  float64\n",
      " 23  f23     25047 non-null  float64\n",
      " 24  f24     49337 non-null  float64\n",
      "dtypes: float64(19), int64(1), object(5)\n",
      "memory usage: 9.5+ MB\n"
     ]
    }
   ],
   "source": [
    "X_test_encoded = X_test\n",
    "X_test_encoded.info()"
   ]
  },
  {
   "cell_type": "code",
   "execution_count": 91,
   "metadata": {},
   "outputs": [],
   "source": [
    "for i in cat_cols:\n",
    "    X_test_encoded = pd.concat([X_test_encoded, pd.get_dummies(X_test[i], prefix=i)],axis=1)\n",
    "    X_test_encoded.drop(i,axis=1, inplace=True)"
   ]
  },
  {
   "cell_type": "code",
   "execution_count": 92,
   "metadata": {
    "scrolled": true
   },
   "outputs": [
    {
     "data": {
      "text/html": [
       "<div>\n",
       "<style scoped>\n",
       "    .dataframe tbody tr th:only-of-type {\n",
       "        vertical-align: middle;\n",
       "    }\n",
       "\n",
       "    .dataframe tbody tr th {\n",
       "        vertical-align: top;\n",
       "    }\n",
       "\n",
       "    .dataframe thead th {\n",
       "        text-align: right;\n",
       "    }\n",
       "</style>\n",
       "<table border=\"1\" class=\"dataframe\">\n",
       "  <thead>\n",
       "    <tr style=\"text-align: right;\">\n",
       "      <th></th>\n",
       "      <th>f0</th>\n",
       "      <th>f1</th>\n",
       "      <th>f2</th>\n",
       "      <th>f3</th>\n",
       "      <th>f5</th>\n",
       "      <th>f6</th>\n",
       "      <th>f7</th>\n",
       "      <th>f9</th>\n",
       "      <th>f10</th>\n",
       "      <th>f11</th>\n",
       "      <th>...</th>\n",
       "      <th>f21_dbd</th>\n",
       "      <th>f21_dnd</th>\n",
       "      <th>f21_n</th>\n",
       "      <th>f21_nd</th>\n",
       "      <th>f21_nnd</th>\n",
       "      <th>f21_nnx</th>\n",
       "      <th>f21_nx</th>\n",
       "      <th>f21_x</th>\n",
       "      <th>f21_xbx</th>\n",
       "      <th>f21_xnx</th>\n",
       "    </tr>\n",
       "  </thead>\n",
       "  <tbody>\n",
       "    <tr>\n",
       "      <th>0</th>\n",
       "      <td>1024.4</td>\n",
       "      <td>15</td>\n",
       "      <td>5.0256</td>\n",
       "      <td>6.6</td>\n",
       "      <td>0.8</td>\n",
       "      <td>20.0</td>\n",
       "      <td>2.0</td>\n",
       "      <td>0.0</td>\n",
       "      <td>0.2</td>\n",
       "      <td>11.6</td>\n",
       "      <td>...</td>\n",
       "      <td>0</td>\n",
       "      <td>0</td>\n",
       "      <td>0</td>\n",
       "      <td>0</td>\n",
       "      <td>0</td>\n",
       "      <td>0</td>\n",
       "      <td>0</td>\n",
       "      <td>0</td>\n",
       "      <td>0</td>\n",
       "      <td>0</td>\n",
       "    </tr>\n",
       "    <tr>\n",
       "      <th>1</th>\n",
       "      <td>1029.0</td>\n",
       "      <td>3</td>\n",
       "      <td>5.0289</td>\n",
       "      <td>5.6</td>\n",
       "      <td>9.0</td>\n",
       "      <td>28.0</td>\n",
       "      <td>0.0</td>\n",
       "      <td>0.0</td>\n",
       "      <td>1.8</td>\n",
       "      <td>14.8</td>\n",
       "      <td>...</td>\n",
       "      <td>0</td>\n",
       "      <td>0</td>\n",
       "      <td>0</td>\n",
       "      <td>0</td>\n",
       "      <td>0</td>\n",
       "      <td>0</td>\n",
       "      <td>0</td>\n",
       "      <td>0</td>\n",
       "      <td>0</td>\n",
       "      <td>0</td>\n",
       "    </tr>\n",
       "    <tr>\n",
       "      <th>2</th>\n",
       "      <td>1016.7</td>\n",
       "      <td>10</td>\n",
       "      <td>5.0081</td>\n",
       "      <td>22.3</td>\n",
       "      <td>NaN</td>\n",
       "      <td>31.0</td>\n",
       "      <td>6.0</td>\n",
       "      <td>0.0</td>\n",
       "      <td>NaN</td>\n",
       "      <td>34.3</td>\n",
       "      <td>...</td>\n",
       "      <td>0</td>\n",
       "      <td>0</td>\n",
       "      <td>0</td>\n",
       "      <td>0</td>\n",
       "      <td>0</td>\n",
       "      <td>0</td>\n",
       "      <td>0</td>\n",
       "      <td>0</td>\n",
       "      <td>0</td>\n",
       "      <td>0</td>\n",
       "    </tr>\n",
       "    <tr>\n",
       "      <th>3</th>\n",
       "      <td>1009.3</td>\n",
       "      <td>33</td>\n",
       "      <td>5.0168</td>\n",
       "      <td>11.3</td>\n",
       "      <td>NaN</td>\n",
       "      <td>31.0</td>\n",
       "      <td>11.0</td>\n",
       "      <td>1.0</td>\n",
       "      <td>NaN</td>\n",
       "      <td>16.2</td>\n",
       "      <td>...</td>\n",
       "      <td>0</td>\n",
       "      <td>1</td>\n",
       "      <td>0</td>\n",
       "      <td>0</td>\n",
       "      <td>0</td>\n",
       "      <td>0</td>\n",
       "      <td>0</td>\n",
       "      <td>0</td>\n",
       "      <td>0</td>\n",
       "      <td>0</td>\n",
       "    </tr>\n",
       "    <tr>\n",
       "      <th>4</th>\n",
       "      <td>1027.1</td>\n",
       "      <td>37</td>\n",
       "      <td>5.0205</td>\n",
       "      <td>12.6</td>\n",
       "      <td>12.6</td>\n",
       "      <td>22.0</td>\n",
       "      <td>6.0</td>\n",
       "      <td>0.0</td>\n",
       "      <td>5.0</td>\n",
       "      <td>22.3</td>\n",
       "      <td>...</td>\n",
       "      <td>0</td>\n",
       "      <td>0</td>\n",
       "      <td>0</td>\n",
       "      <td>0</td>\n",
       "      <td>0</td>\n",
       "      <td>0</td>\n",
       "      <td>0</td>\n",
       "      <td>0</td>\n",
       "      <td>0</td>\n",
       "      <td>0</td>\n",
       "    </tr>\n",
       "  </tbody>\n",
       "</table>\n",
       "<p>5 rows × 84 columns</p>\n",
       "</div>"
      ],
      "text/plain": [
       "       f0  f1      f2    f3    f5    f6    f7   f9  f10   f11  ... f21_dbd  \\\n",
       "0  1024.4  15  5.0256   6.6   0.8  20.0   2.0  0.0  0.2  11.6  ...       0   \n",
       "1  1029.0   3  5.0289   5.6   9.0  28.0   0.0  0.0  1.8  14.8  ...       0   \n",
       "2  1016.7  10  5.0081  22.3   NaN  31.0   6.0  0.0  NaN  34.3  ...       0   \n",
       "3  1009.3  33  5.0168  11.3   NaN  31.0  11.0  1.0  NaN  16.2  ...       0   \n",
       "4  1027.1  37  5.0205  12.6  12.6  22.0   6.0  0.0  5.0  22.3  ...       0   \n",
       "\n",
       "   f21_dnd  f21_n  f21_nd  f21_nnd  f21_nnx  f21_nx  f21_x  f21_xbx  f21_xnx  \n",
       "0        0      0       0        0        0       0      0        0        0  \n",
       "1        0      0       0        0        0       0      0        0        0  \n",
       "2        0      0       0        0        0       0      0        0        0  \n",
       "3        1      0       0        0        0       0      0        0        0  \n",
       "4        0      0       0        0        0       0      0        0        0  \n",
       "\n",
       "[5 rows x 84 columns]"
      ]
     },
     "execution_count": 92,
     "metadata": {},
     "output_type": "execute_result"
    }
   ],
   "source": [
    "X_test_encoded.head()"
   ]
  },
  {
   "cell_type": "code",
   "execution_count": 93,
   "metadata": {},
   "outputs": [],
   "source": [
    "X_train_encoded['f12_dec'] = X_train[hex_col].dropna().astype(str).apply(lambda x: int(x, 16))\n",
    "X_test_encoded['f12_dec'] = X_test[hex_col].dropna().astype(str).apply(lambda x: int(x, 16))"
   ]
  },
  {
   "cell_type": "code",
   "execution_count": 94,
   "metadata": {},
   "outputs": [],
   "source": [
    "X_train_encoded.drop([hex_col],axis=1, inplace=True)\n",
    "X_test_encoded.drop([hex_col],axis=1, inplace=True)"
   ]
  },
  {
   "cell_type": "code",
   "execution_count": 95,
   "metadata": {
    "scrolled": true
   },
   "outputs": [
    {
     "name": "stdout",
     "output_type": "stream",
     "text": [
      "<class 'pandas.core.frame.DataFrame'>\n",
      "Int64Index: 49491 entries, 0 to 49999\n",
      "Data columns (total 26 columns):\n",
      " #   Column  Non-Null Count  Dtype  \n",
      "---  ------  --------------  -----  \n",
      " 0   target  49491 non-null  int64  \n",
      " 1   f0      44701 non-null  float64\n",
      " 2   f1      49491 non-null  int64  \n",
      " 3   f2      48317 non-null  float64\n",
      " 4   f3      49249 non-null  float64\n",
      " 5   f4      46180 non-null  object \n",
      " 6   f5      25978 non-null  float64\n",
      " 7   f6      46207 non-null  float64\n",
      " 8   f7      49100 non-null  float64\n",
      " 9   f8      48050 non-null  object \n",
      " 10  f9      49491 non-null  float64\n",
      " 11  f10     28495 non-null  float64\n",
      " 12  f11     49392 non-null  float64\n",
      " 13  f12     47989 non-null  object \n",
      " 14  f13     49491 non-null  float64\n",
      " 15  f14     29776 non-null  float64\n",
      " 16  f15     48581 non-null  float64\n",
      " 17  f16     48545 non-null  float64\n",
      " 18  f17     48160 non-null  object \n",
      " 19  f18     48254 non-null  float64\n",
      " 20  f19     44687 non-null  float64\n",
      " 21  f20     31096 non-null  float64\n",
      " 22  f21     46018 non-null  object \n",
      " 23  f22     49302 non-null  float64\n",
      " 24  f23     24902 non-null  float64\n",
      " 25  f24     48972 non-null  float64\n",
      "dtypes: float64(19), int64(2), object(5)\n",
      "memory usage: 10.2+ MB\n"
     ]
    }
   ],
   "source": [
    "X_train.info()"
   ]
  },
  {
   "cell_type": "code",
   "execution_count": 96,
   "metadata": {
    "scrolled": true
   },
   "outputs": [
    {
     "name": "stdout",
     "output_type": "stream",
     "text": [
      "<class 'pandas.core.frame.DataFrame'>\n",
      "Int64Index: 49491 entries, 0 to 49999\n",
      "Data columns (total 85 columns):\n",
      " #   Column   Non-Null Count  Dtype  \n",
      "---  ------   --------------  -----  \n",
      " 0   target   49491 non-null  int64  \n",
      " 1   f0       44701 non-null  float64\n",
      " 2   f1       49491 non-null  int64  \n",
      " 3   f2       48317 non-null  float64\n",
      " 4   f3       49249 non-null  float64\n",
      " 5   f5       25978 non-null  float64\n",
      " 6   f6       46207 non-null  float64\n",
      " 7   f7       49100 non-null  float64\n",
      " 8   f9       49491 non-null  float64\n",
      " 9   f10      28495 non-null  float64\n",
      " 10  f11      49392 non-null  float64\n",
      " 11  f13      49491 non-null  float64\n",
      " 12  f14      29776 non-null  float64\n",
      " 13  f15      48581 non-null  float64\n",
      " 14  f16      48545 non-null  float64\n",
      " 15  f18      48254 non-null  float64\n",
      " 16  f19      44687 non-null  float64\n",
      " 17  f20      31096 non-null  float64\n",
      " 18  f22      49302 non-null  float64\n",
      " 19  f23      24902 non-null  float64\n",
      " 20  f24      48972 non-null  float64\n",
      " 21  f4_b     49491 non-null  uint8  \n",
      " 22  f4_bbd   49491 non-null  uint8  \n",
      " 23  f4_bbx   49491 non-null  uint8  \n",
      " 24  f4_bd    49491 non-null  uint8  \n",
      " 25  f4_bx    49491 non-null  uint8  \n",
      " 26  f4_d     49491 non-null  uint8  \n",
      " 27  f4_dbd   49491 non-null  uint8  \n",
      " 28  f4_dnd   49491 non-null  uint8  \n",
      " 29  f4_n     49491 non-null  uint8  \n",
      " 30  f4_nd    49491 non-null  uint8  \n",
      " 31  f4_nnd   49491 non-null  uint8  \n",
      " 32  f4_nnx   49491 non-null  uint8  \n",
      " 33  f4_nx    49491 non-null  uint8  \n",
      " 34  f4_x     49491 non-null  uint8  \n",
      " 35  f4_xbx   49491 non-null  uint8  \n",
      " 36  f4_xnx   49491 non-null  uint8  \n",
      " 37  f8_a     49491 non-null  uint8  \n",
      " 38  f8_b     49491 non-null  uint8  \n",
      " 39  f8_c     49491 non-null  uint8  \n",
      " 40  f8_d     49491 non-null  uint8  \n",
      " 41  f8_e     49491 non-null  uint8  \n",
      " 42  f8_f     49491 non-null  uint8  \n",
      " 43  f8_g     49491 non-null  uint8  \n",
      " 44  f8_h     49491 non-null  uint8  \n",
      " 45  f8_i     49491 non-null  uint8  \n",
      " 46  f8_j     49491 non-null  uint8  \n",
      " 47  f8_k     49491 non-null  uint8  \n",
      " 48  f8_l     49491 non-null  uint8  \n",
      " 49  f8_m     49491 non-null  uint8  \n",
      " 50  f8_n     49491 non-null  uint8  \n",
      " 51  f8_o     49491 non-null  uint8  \n",
      " 52  f17_b    49491 non-null  uint8  \n",
      " 53  f17_bbd  49491 non-null  uint8  \n",
      " 54  f17_bbx  49491 non-null  uint8  \n",
      " 55  f17_bd   49491 non-null  uint8  \n",
      " 56  f17_bx   49491 non-null  uint8  \n",
      " 57  f17_d    49491 non-null  uint8  \n",
      " 58  f17_dbd  49491 non-null  uint8  \n",
      " 59  f17_dnd  49491 non-null  uint8  \n",
      " 60  f17_n    49491 non-null  uint8  \n",
      " 61  f17_nd   49491 non-null  uint8  \n",
      " 62  f17_nnd  49491 non-null  uint8  \n",
      " 63  f17_nnx  49491 non-null  uint8  \n",
      " 64  f17_nx   49491 non-null  uint8  \n",
      " 65  f17_x    49491 non-null  uint8  \n",
      " 66  f17_xbx  49491 non-null  uint8  \n",
      " 67  f17_xnx  49491 non-null  uint8  \n",
      " 68  f21_b    49491 non-null  uint8  \n",
      " 69  f21_bbd  49491 non-null  uint8  \n",
      " 70  f21_bbx  49491 non-null  uint8  \n",
      " 71  f21_bd   49491 non-null  uint8  \n",
      " 72  f21_bx   49491 non-null  uint8  \n",
      " 73  f21_d    49491 non-null  uint8  \n",
      " 74  f21_dbd  49491 non-null  uint8  \n",
      " 75  f21_dnd  49491 non-null  uint8  \n",
      " 76  f21_n    49491 non-null  uint8  \n",
      " 77  f21_nd   49491 non-null  uint8  \n",
      " 78  f21_nnd  49491 non-null  uint8  \n",
      " 79  f21_nnx  49491 non-null  uint8  \n",
      " 80  f21_nx   49491 non-null  uint8  \n",
      " 81  f21_x    49491 non-null  uint8  \n",
      " 82  f21_xbx  49491 non-null  uint8  \n",
      " 83  f21_xnx  49491 non-null  uint8  \n",
      " 84  f12_dec  47989 non-null  float64\n",
      "dtypes: float64(20), int64(2), uint8(63)\n",
      "memory usage: 11.7 MB\n"
     ]
    }
   ],
   "source": [
    "X_train_encoded.info()"
   ]
  },
  {
   "cell_type": "markdown",
   "metadata": {},
   "source": [
    "### Imputing null values\n",
    "\n",
    "For ML methods that do not handle Null values, we need to iumpute the value of missing values in the data."
   ]
  },
  {
   "cell_type": "markdown",
   "metadata": {},
   "source": [
    "For the XGBoost algorithm, we do not need to remove the null variables as these will be handled as \"missing\". However, for other algorithms we might need to imputate them from other data points."
   ]
  },
  {
   "cell_type": "code",
   "execution_count": 97,
   "metadata": {},
   "outputs": [
    {
     "data": {
      "text/plain": [
       "array([[0.00000000e+00, 1.01310000e+03, 0.00000000e+00, ...,\n",
       "        0.00000000e+00, 0.00000000e+00, 5.10719432e+10],\n",
       "       [0.00000000e+00, 1.01020000e+03, 1.00000000e+00, ...,\n",
       "        0.00000000e+00, 0.00000000e+00, 1.57512655e+10],\n",
       "       [0.00000000e+00, 1.01440000e+03, 2.00000000e+00, ...,\n",
       "        0.00000000e+00, 0.00000000e+00, 3.86729681e+10],\n",
       "       ...,\n",
       "       [0.00000000e+00, 1.02120000e+03, 1.30000000e+01, ...,\n",
       "        0.00000000e+00, 0.00000000e+00, 2.44805355e+10],\n",
       "       [0.00000000e+00, 1.01240000e+03, 0.00000000e+00, ...,\n",
       "        0.00000000e+00, 0.00000000e+00, 6.44592551e+09],\n",
       "       [1.00000000e+00, 1.02290000e+03, 1.50000000e+01, ...,\n",
       "        0.00000000e+00, 0.00000000e+00, 4.89130378e+10]])"
      ]
     },
     "execution_count": 97,
     "metadata": {},
     "output_type": "execute_result"
    }
   ],
   "source": [
    "from sklearn.experimental import enable_iterative_imputer\n",
    "from sklearn.impute import IterativeImputer\n",
    "imp = IterativeImputer(max_iter=10, random_state=0)\n",
    "\n",
    "X_train_imputed = imp.fit_transform(X_train_encoded)\n",
    "\n",
    "X_train_imputed"
   ]
  },
  {
   "cell_type": "code",
   "execution_count": 98,
   "metadata": {
    "scrolled": true
   },
   "outputs": [
    {
     "data": {
      "text/plain": [
       "(49491, 85)"
      ]
     },
     "execution_count": 98,
     "metadata": {},
     "output_type": "execute_result"
    }
   ],
   "source": [
    "X_train_imputed.shape"
   ]
  },
  {
   "cell_type": "code",
   "execution_count": 99,
   "metadata": {
    "scrolled": true
   },
   "outputs": [
    {
     "data": {
      "text/html": [
       "<div>\n",
       "<style scoped>\n",
       "    .dataframe tbody tr th:only-of-type {\n",
       "        vertical-align: middle;\n",
       "    }\n",
       "\n",
       "    .dataframe tbody tr th {\n",
       "        vertical-align: top;\n",
       "    }\n",
       "\n",
       "    .dataframe thead th {\n",
       "        text-align: right;\n",
       "    }\n",
       "</style>\n",
       "<table border=\"1\" class=\"dataframe\">\n",
       "  <thead>\n",
       "    <tr style=\"text-align: right;\">\n",
       "      <th></th>\n",
       "      <th>target</th>\n",
       "      <th>f0</th>\n",
       "      <th>f1</th>\n",
       "      <th>f2</th>\n",
       "      <th>f3</th>\n",
       "      <th>f5</th>\n",
       "      <th>f6</th>\n",
       "      <th>f7</th>\n",
       "      <th>f9</th>\n",
       "      <th>f10</th>\n",
       "      <th>...</th>\n",
       "      <th>f21_dnd</th>\n",
       "      <th>f21_n</th>\n",
       "      <th>f21_nd</th>\n",
       "      <th>f21_nnd</th>\n",
       "      <th>f21_nnx</th>\n",
       "      <th>f21_nx</th>\n",
       "      <th>f21_x</th>\n",
       "      <th>f21_xbx</th>\n",
       "      <th>f21_xnx</th>\n",
       "      <th>f12_dec</th>\n",
       "    </tr>\n",
       "  </thead>\n",
       "  <tbody>\n",
       "    <tr>\n",
       "      <th>0</th>\n",
       "      <td>0.0</td>\n",
       "      <td>1013.1</td>\n",
       "      <td>0.0</td>\n",
       "      <td>5.0190</td>\n",
       "      <td>26.1</td>\n",
       "      <td>11.100000</td>\n",
       "      <td>33.0</td>\n",
       "      <td>11.0</td>\n",
       "      <td>0.0</td>\n",
       "      <td>3.600000</td>\n",
       "      <td>...</td>\n",
       "      <td>0.0</td>\n",
       "      <td>0.0</td>\n",
       "      <td>1.0</td>\n",
       "      <td>0.0</td>\n",
       "      <td>0.0</td>\n",
       "      <td>0.0</td>\n",
       "      <td>0.0</td>\n",
       "      <td>0.0</td>\n",
       "      <td>0.0</td>\n",
       "      <td>5.107194e+10</td>\n",
       "    </tr>\n",
       "    <tr>\n",
       "      <th>1</th>\n",
       "      <td>0.0</td>\n",
       "      <td>1010.2</td>\n",
       "      <td>1.0</td>\n",
       "      <td>5.0142</td>\n",
       "      <td>10.4</td>\n",
       "      <td>7.326735</td>\n",
       "      <td>46.0</td>\n",
       "      <td>17.0</td>\n",
       "      <td>0.0</td>\n",
       "      <td>0.800000</td>\n",
       "      <td>...</td>\n",
       "      <td>0.0</td>\n",
       "      <td>0.0</td>\n",
       "      <td>0.0</td>\n",
       "      <td>0.0</td>\n",
       "      <td>0.0</td>\n",
       "      <td>1.0</td>\n",
       "      <td>0.0</td>\n",
       "      <td>0.0</td>\n",
       "      <td>0.0</td>\n",
       "      <td>1.575127e+10</td>\n",
       "    </tr>\n",
       "    <tr>\n",
       "      <th>2</th>\n",
       "      <td>0.0</td>\n",
       "      <td>1014.4</td>\n",
       "      <td>2.0</td>\n",
       "      <td>5.0280</td>\n",
       "      <td>12.3</td>\n",
       "      <td>5.512117</td>\n",
       "      <td>31.0</td>\n",
       "      <td>13.0</td>\n",
       "      <td>1.0</td>\n",
       "      <td>3.563225</td>\n",
       "      <td>...</td>\n",
       "      <td>0.0</td>\n",
       "      <td>0.0</td>\n",
       "      <td>0.0</td>\n",
       "      <td>0.0</td>\n",
       "      <td>0.0</td>\n",
       "      <td>1.0</td>\n",
       "      <td>0.0</td>\n",
       "      <td>0.0</td>\n",
       "      <td>0.0</td>\n",
       "      <td>3.867297e+10</td>\n",
       "    </tr>\n",
       "    <tr>\n",
       "      <th>3</th>\n",
       "      <td>0.0</td>\n",
       "      <td>1019.2</td>\n",
       "      <td>3.0</td>\n",
       "      <td>5.0335</td>\n",
       "      <td>23.0</td>\n",
       "      <td>11.600000</td>\n",
       "      <td>41.0</td>\n",
       "      <td>9.0</td>\n",
       "      <td>0.0</td>\n",
       "      <td>8.000000</td>\n",
       "      <td>...</td>\n",
       "      <td>1.0</td>\n",
       "      <td>0.0</td>\n",
       "      <td>0.0</td>\n",
       "      <td>0.0</td>\n",
       "      <td>0.0</td>\n",
       "      <td>0.0</td>\n",
       "      <td>0.0</td>\n",
       "      <td>0.0</td>\n",
       "      <td>0.0</td>\n",
       "      <td>5.913853e+10</td>\n",
       "    </tr>\n",
       "    <tr>\n",
       "      <th>4</th>\n",
       "      <td>0.0</td>\n",
       "      <td>1027.6</td>\n",
       "      <td>4.0</td>\n",
       "      <td>5.0129</td>\n",
       "      <td>7.3</td>\n",
       "      <td>7.300000</td>\n",
       "      <td>28.0</td>\n",
       "      <td>15.0</td>\n",
       "      <td>1.0</td>\n",
       "      <td>0.200000</td>\n",
       "      <td>...</td>\n",
       "      <td>0.0</td>\n",
       "      <td>0.0</td>\n",
       "      <td>0.0</td>\n",
       "      <td>0.0</td>\n",
       "      <td>0.0</td>\n",
       "      <td>0.0</td>\n",
       "      <td>0.0</td>\n",
       "      <td>0.0</td>\n",
       "      <td>0.0</td>\n",
       "      <td>6.458888e+10</td>\n",
       "    </tr>\n",
       "    <tr>\n",
       "      <th>...</th>\n",
       "      <td>...</td>\n",
       "      <td>...</td>\n",
       "      <td>...</td>\n",
       "      <td>...</td>\n",
       "      <td>...</td>\n",
       "      <td>...</td>\n",
       "      <td>...</td>\n",
       "      <td>...</td>\n",
       "      <td>...</td>\n",
       "      <td>...</td>\n",
       "      <td>...</td>\n",
       "      <td>...</td>\n",
       "      <td>...</td>\n",
       "      <td>...</td>\n",
       "      <td>...</td>\n",
       "      <td>...</td>\n",
       "      <td>...</td>\n",
       "      <td>...</td>\n",
       "      <td>...</td>\n",
       "      <td>...</td>\n",
       "      <td>...</td>\n",
       "    </tr>\n",
       "    <tr>\n",
       "      <th>49486</th>\n",
       "      <td>1.0</td>\n",
       "      <td>1030.1</td>\n",
       "      <td>40.0</td>\n",
       "      <td>5.0161</td>\n",
       "      <td>14.4</td>\n",
       "      <td>6.071729</td>\n",
       "      <td>30.0</td>\n",
       "      <td>15.0</td>\n",
       "      <td>0.0</td>\n",
       "      <td>3.975603</td>\n",
       "      <td>...</td>\n",
       "      <td>0.0</td>\n",
       "      <td>1.0</td>\n",
       "      <td>0.0</td>\n",
       "      <td>0.0</td>\n",
       "      <td>0.0</td>\n",
       "      <td>0.0</td>\n",
       "      <td>0.0</td>\n",
       "      <td>0.0</td>\n",
       "      <td>0.0</td>\n",
       "      <td>4.909277e+10</td>\n",
       "    </tr>\n",
       "    <tr>\n",
       "      <th>49487</th>\n",
       "      <td>1.0</td>\n",
       "      <td>1017.9</td>\n",
       "      <td>22.0</td>\n",
       "      <td>5.0319</td>\n",
       "      <td>23.4</td>\n",
       "      <td>1.800000</td>\n",
       "      <td>39.0</td>\n",
       "      <td>9.0</td>\n",
       "      <td>0.0</td>\n",
       "      <td>5.000000</td>\n",
       "      <td>...</td>\n",
       "      <td>0.0</td>\n",
       "      <td>0.0</td>\n",
       "      <td>0.0</td>\n",
       "      <td>0.0</td>\n",
       "      <td>0.0</td>\n",
       "      <td>0.0</td>\n",
       "      <td>0.0</td>\n",
       "      <td>0.0</td>\n",
       "      <td>1.0</td>\n",
       "      <td>3.095786e+10</td>\n",
       "    </tr>\n",
       "    <tr>\n",
       "      <th>49488</th>\n",
       "      <td>0.0</td>\n",
       "      <td>1021.2</td>\n",
       "      <td>13.0</td>\n",
       "      <td>5.0247</td>\n",
       "      <td>14.0</td>\n",
       "      <td>12.200000</td>\n",
       "      <td>39.0</td>\n",
       "      <td>19.0</td>\n",
       "      <td>0.0</td>\n",
       "      <td>6.600000</td>\n",
       "      <td>...</td>\n",
       "      <td>0.0</td>\n",
       "      <td>0.0</td>\n",
       "      <td>1.0</td>\n",
       "      <td>0.0</td>\n",
       "      <td>0.0</td>\n",
       "      <td>0.0</td>\n",
       "      <td>0.0</td>\n",
       "      <td>0.0</td>\n",
       "      <td>0.0</td>\n",
       "      <td>2.448054e+10</td>\n",
       "    </tr>\n",
       "    <tr>\n",
       "      <th>49489</th>\n",
       "      <td>0.0</td>\n",
       "      <td>1012.4</td>\n",
       "      <td>0.0</td>\n",
       "      <td>5.0219</td>\n",
       "      <td>29.9</td>\n",
       "      <td>9.500000</td>\n",
       "      <td>52.0</td>\n",
       "      <td>20.0</td>\n",
       "      <td>0.0</td>\n",
       "      <td>9.000000</td>\n",
       "      <td>...</td>\n",
       "      <td>0.0</td>\n",
       "      <td>0.0</td>\n",
       "      <td>0.0</td>\n",
       "      <td>1.0</td>\n",
       "      <td>0.0</td>\n",
       "      <td>0.0</td>\n",
       "      <td>0.0</td>\n",
       "      <td>0.0</td>\n",
       "      <td>0.0</td>\n",
       "      <td>6.445926e+09</td>\n",
       "    </tr>\n",
       "    <tr>\n",
       "      <th>49490</th>\n",
       "      <td>1.0</td>\n",
       "      <td>1022.9</td>\n",
       "      <td>15.0</td>\n",
       "      <td>5.0166</td>\n",
       "      <td>21.9</td>\n",
       "      <td>0.000000</td>\n",
       "      <td>39.0</td>\n",
       "      <td>11.0</td>\n",
       "      <td>0.0</td>\n",
       "      <td>8.000000</td>\n",
       "      <td>...</td>\n",
       "      <td>0.0</td>\n",
       "      <td>0.0</td>\n",
       "      <td>0.0</td>\n",
       "      <td>0.0</td>\n",
       "      <td>0.0</td>\n",
       "      <td>0.0</td>\n",
       "      <td>0.0</td>\n",
       "      <td>0.0</td>\n",
       "      <td>0.0</td>\n",
       "      <td>4.891304e+10</td>\n",
       "    </tr>\n",
       "  </tbody>\n",
       "</table>\n",
       "<p>49491 rows × 85 columns</p>\n",
       "</div>"
      ],
      "text/plain": [
       "       target      f0    f1      f2    f3         f5    f6    f7   f9  \\\n",
       "0         0.0  1013.1   0.0  5.0190  26.1  11.100000  33.0  11.0  0.0   \n",
       "1         0.0  1010.2   1.0  5.0142  10.4   7.326735  46.0  17.0  0.0   \n",
       "2         0.0  1014.4   2.0  5.0280  12.3   5.512117  31.0  13.0  1.0   \n",
       "3         0.0  1019.2   3.0  5.0335  23.0  11.600000  41.0   9.0  0.0   \n",
       "4         0.0  1027.6   4.0  5.0129   7.3   7.300000  28.0  15.0  1.0   \n",
       "...       ...     ...   ...     ...   ...        ...   ...   ...  ...   \n",
       "49486     1.0  1030.1  40.0  5.0161  14.4   6.071729  30.0  15.0  0.0   \n",
       "49487     1.0  1017.9  22.0  5.0319  23.4   1.800000  39.0   9.0  0.0   \n",
       "49488     0.0  1021.2  13.0  5.0247  14.0  12.200000  39.0  19.0  0.0   \n",
       "49489     0.0  1012.4   0.0  5.0219  29.9   9.500000  52.0  20.0  0.0   \n",
       "49490     1.0  1022.9  15.0  5.0166  21.9   0.000000  39.0  11.0  0.0   \n",
       "\n",
       "            f10  ...  f21_dnd  f21_n  f21_nd  f21_nnd  f21_nnx  f21_nx  f21_x  \\\n",
       "0      3.600000  ...      0.0    0.0     1.0      0.0      0.0     0.0    0.0   \n",
       "1      0.800000  ...      0.0    0.0     0.0      0.0      0.0     1.0    0.0   \n",
       "2      3.563225  ...      0.0    0.0     0.0      0.0      0.0     1.0    0.0   \n",
       "3      8.000000  ...      1.0    0.0     0.0      0.0      0.0     0.0    0.0   \n",
       "4      0.200000  ...      0.0    0.0     0.0      0.0      0.0     0.0    0.0   \n",
       "...         ...  ...      ...    ...     ...      ...      ...     ...    ...   \n",
       "49486  3.975603  ...      0.0    1.0     0.0      0.0      0.0     0.0    0.0   \n",
       "49487  5.000000  ...      0.0    0.0     0.0      0.0      0.0     0.0    0.0   \n",
       "49488  6.600000  ...      0.0    0.0     1.0      0.0      0.0     0.0    0.0   \n",
       "49489  9.000000  ...      0.0    0.0     0.0      1.0      0.0     0.0    0.0   \n",
       "49490  8.000000  ...      0.0    0.0     0.0      0.0      0.0     0.0    0.0   \n",
       "\n",
       "       f21_xbx  f21_xnx       f12_dec  \n",
       "0          0.0      0.0  5.107194e+10  \n",
       "1          0.0      0.0  1.575127e+10  \n",
       "2          0.0      0.0  3.867297e+10  \n",
       "3          0.0      0.0  5.913853e+10  \n",
       "4          0.0      0.0  6.458888e+10  \n",
       "...        ...      ...           ...  \n",
       "49486      0.0      0.0  4.909277e+10  \n",
       "49487      0.0      1.0  3.095786e+10  \n",
       "49488      0.0      0.0  2.448054e+10  \n",
       "49489      0.0      0.0  6.445926e+09  \n",
       "49490      0.0      0.0  4.891304e+10  \n",
       "\n",
       "[49491 rows x 85 columns]"
      ]
     },
     "execution_count": 99,
     "metadata": {},
     "output_type": "execute_result"
    }
   ],
   "source": [
    "X_train_imputed_df = pd.DataFrame(X_train_imputed, columns=X_train_encoded.columns)\n",
    "X_train_imputed_df"
   ]
  },
  {
   "cell_type": "markdown",
   "metadata": {},
   "source": [
    "## Feature transformation"
   ]
  },
  {
   "cell_type": "code",
   "execution_count": 100,
   "metadata": {},
   "outputs": [],
   "source": [
    "X_train_transformed = X_train_imputed_df"
   ]
  },
  {
   "cell_type": "code",
   "execution_count": 101,
   "metadata": {},
   "outputs": [],
   "source": [
    "X_train_transformed['f12_dec'] = np.log(X_train_transformed['f12_dec'])\n",
    "X_train_transformed['f0'] = X_train_transformed['f0'] - 1000"
   ]
  },
  {
   "cell_type": "markdown",
   "metadata": {},
   "source": [
    "### Remove duplicate rows\n",
    "\n",
    "We already established that there are no duplicates in the data, but if there were, we could drop them by running:"
   ]
  },
  {
   "cell_type": "code",
   "execution_count": 102,
   "metadata": {},
   "outputs": [
    {
     "data": {
      "text/plain": [
       "(49491, 85)"
      ]
     },
     "execution_count": 102,
     "metadata": {},
     "output_type": "execute_result"
    }
   ],
   "source": [
    "X_train_transformed = X_train_transformed.drop_duplicates()\n",
    "X_train_transformed.shape"
   ]
  },
  {
   "cell_type": "markdown",
   "metadata": {},
   "source": [
    "# Save the data to csv files"
   ]
  },
  {
   "cell_type": "code",
   "execution_count": 103,
   "metadata": {},
   "outputs": [],
   "source": [
    "X_train_transformed.to_csv('data/imputed_transformed_train_data.csv')"
   ]
  },
  {
   "cell_type": "code",
   "execution_count": 104,
   "metadata": {},
   "outputs": [],
   "source": [
    "X_train_transformed.to_csv('data/imputed_transformed_test_data.csv')"
   ]
  },
  {
   "cell_type": "code",
   "execution_count": 105,
   "metadata": {},
   "outputs": [],
   "source": [
    "np.savetxt('data/target_train_data.csv', Y_train, fmt='%d')"
   ]
  },
  {
   "cell_type": "markdown",
   "metadata": {},
   "source": [
    "# Create model and predict"
   ]
  },
  {
   "cell_type": "code",
   "execution_count": 106,
   "metadata": {},
   "outputs": [
    {
     "data": {
      "text/html": [
       "<div>\n",
       "<style scoped>\n",
       "    .dataframe tbody tr th:only-of-type {\n",
       "        vertical-align: middle;\n",
       "    }\n",
       "\n",
       "    .dataframe tbody tr th {\n",
       "        vertical-align: top;\n",
       "    }\n",
       "\n",
       "    .dataframe thead th {\n",
       "        text-align: right;\n",
       "    }\n",
       "</style>\n",
       "<table border=\"1\" class=\"dataframe\">\n",
       "  <thead>\n",
       "    <tr style=\"text-align: right;\">\n",
       "      <th></th>\n",
       "      <th>target</th>\n",
       "      <th>f0</th>\n",
       "      <th>f1</th>\n",
       "      <th>f2</th>\n",
       "      <th>f3</th>\n",
       "      <th>f5</th>\n",
       "      <th>f6</th>\n",
       "      <th>f7</th>\n",
       "      <th>f9</th>\n",
       "      <th>f10</th>\n",
       "      <th>...</th>\n",
       "      <th>f21_dnd</th>\n",
       "      <th>f21_n</th>\n",
       "      <th>f21_nd</th>\n",
       "      <th>f21_nnd</th>\n",
       "      <th>f21_nnx</th>\n",
       "      <th>f21_nx</th>\n",
       "      <th>f21_x</th>\n",
       "      <th>f21_xbx</th>\n",
       "      <th>f21_xnx</th>\n",
       "      <th>f12_dec</th>\n",
       "    </tr>\n",
       "  </thead>\n",
       "  <tbody>\n",
       "    <tr>\n",
       "      <th>0</th>\n",
       "      <td>0.0</td>\n",
       "      <td>13.1</td>\n",
       "      <td>0.0</td>\n",
       "      <td>5.0190</td>\n",
       "      <td>26.1</td>\n",
       "      <td>11.100000</td>\n",
       "      <td>33.0</td>\n",
       "      <td>11.0</td>\n",
       "      <td>0.0</td>\n",
       "      <td>3.600000</td>\n",
       "      <td>...</td>\n",
       "      <td>0.0</td>\n",
       "      <td>0.0</td>\n",
       "      <td>1.0</td>\n",
       "      <td>0.0</td>\n",
       "      <td>0.0</td>\n",
       "      <td>0.0</td>\n",
       "      <td>0.0</td>\n",
       "      <td>0.0</td>\n",
       "      <td>0.0</td>\n",
       "      <td>24.656501</td>\n",
       "    </tr>\n",
       "    <tr>\n",
       "      <th>1</th>\n",
       "      <td>0.0</td>\n",
       "      <td>10.2</td>\n",
       "      <td>1.0</td>\n",
       "      <td>5.0142</td>\n",
       "      <td>10.4</td>\n",
       "      <td>7.326735</td>\n",
       "      <td>46.0</td>\n",
       "      <td>17.0</td>\n",
       "      <td>0.0</td>\n",
       "      <td>0.800000</td>\n",
       "      <td>...</td>\n",
       "      <td>0.0</td>\n",
       "      <td>0.0</td>\n",
       "      <td>0.0</td>\n",
       "      <td>0.0</td>\n",
       "      <td>0.0</td>\n",
       "      <td>1.0</td>\n",
       "      <td>0.0</td>\n",
       "      <td>0.0</td>\n",
       "      <td>0.0</td>\n",
       "      <td>23.480187</td>\n",
       "    </tr>\n",
       "    <tr>\n",
       "      <th>2</th>\n",
       "      <td>0.0</td>\n",
       "      <td>14.4</td>\n",
       "      <td>2.0</td>\n",
       "      <td>5.0280</td>\n",
       "      <td>12.3</td>\n",
       "      <td>5.512117</td>\n",
       "      <td>31.0</td>\n",
       "      <td>13.0</td>\n",
       "      <td>1.0</td>\n",
       "      <td>3.563225</td>\n",
       "      <td>...</td>\n",
       "      <td>0.0</td>\n",
       "      <td>0.0</td>\n",
       "      <td>0.0</td>\n",
       "      <td>0.0</td>\n",
       "      <td>0.0</td>\n",
       "      <td>1.0</td>\n",
       "      <td>0.0</td>\n",
       "      <td>0.0</td>\n",
       "      <td>0.0</td>\n",
       "      <td>24.378407</td>\n",
       "    </tr>\n",
       "    <tr>\n",
       "      <th>3</th>\n",
       "      <td>0.0</td>\n",
       "      <td>19.2</td>\n",
       "      <td>3.0</td>\n",
       "      <td>5.0335</td>\n",
       "      <td>23.0</td>\n",
       "      <td>11.600000</td>\n",
       "      <td>41.0</td>\n",
       "      <td>9.0</td>\n",
       "      <td>0.0</td>\n",
       "      <td>8.000000</td>\n",
       "      <td>...</td>\n",
       "      <td>1.0</td>\n",
       "      <td>0.0</td>\n",
       "      <td>0.0</td>\n",
       "      <td>0.0</td>\n",
       "      <td>0.0</td>\n",
       "      <td>0.0</td>\n",
       "      <td>0.0</td>\n",
       "      <td>0.0</td>\n",
       "      <td>0.0</td>\n",
       "      <td>24.803148</td>\n",
       "    </tr>\n",
       "    <tr>\n",
       "      <th>4</th>\n",
       "      <td>0.0</td>\n",
       "      <td>27.6</td>\n",
       "      <td>4.0</td>\n",
       "      <td>5.0129</td>\n",
       "      <td>7.3</td>\n",
       "      <td>7.300000</td>\n",
       "      <td>28.0</td>\n",
       "      <td>15.0</td>\n",
       "      <td>1.0</td>\n",
       "      <td>0.200000</td>\n",
       "      <td>...</td>\n",
       "      <td>0.0</td>\n",
       "      <td>0.0</td>\n",
       "      <td>0.0</td>\n",
       "      <td>0.0</td>\n",
       "      <td>0.0</td>\n",
       "      <td>0.0</td>\n",
       "      <td>0.0</td>\n",
       "      <td>0.0</td>\n",
       "      <td>0.0</td>\n",
       "      <td>24.891308</td>\n",
       "    </tr>\n",
       "  </tbody>\n",
       "</table>\n",
       "<p>5 rows × 85 columns</p>\n",
       "</div>"
      ],
      "text/plain": [
       "   target    f0   f1      f2    f3         f5    f6    f7   f9       f10  ...  \\\n",
       "0     0.0  13.1  0.0  5.0190  26.1  11.100000  33.0  11.0  0.0  3.600000  ...   \n",
       "1     0.0  10.2  1.0  5.0142  10.4   7.326735  46.0  17.0  0.0  0.800000  ...   \n",
       "2     0.0  14.4  2.0  5.0280  12.3   5.512117  31.0  13.0  1.0  3.563225  ...   \n",
       "3     0.0  19.2  3.0  5.0335  23.0  11.600000  41.0   9.0  0.0  8.000000  ...   \n",
       "4     0.0  27.6  4.0  5.0129   7.3   7.300000  28.0  15.0  1.0  0.200000  ...   \n",
       "\n",
       "   f21_dnd  f21_n  f21_nd  f21_nnd  f21_nnx  f21_nx  f21_x  f21_xbx  f21_xnx  \\\n",
       "0      0.0    0.0     1.0      0.0      0.0     0.0    0.0      0.0      0.0   \n",
       "1      0.0    0.0     0.0      0.0      0.0     1.0    0.0      0.0      0.0   \n",
       "2      0.0    0.0     0.0      0.0      0.0     1.0    0.0      0.0      0.0   \n",
       "3      1.0    0.0     0.0      0.0      0.0     0.0    0.0      0.0      0.0   \n",
       "4      0.0    0.0     0.0      0.0      0.0     0.0    0.0      0.0      0.0   \n",
       "\n",
       "     f12_dec  \n",
       "0  24.656501  \n",
       "1  23.480187  \n",
       "2  24.378407  \n",
       "3  24.803148  \n",
       "4  24.891308  \n",
       "\n",
       "[5 rows x 85 columns]"
      ]
     },
     "execution_count": 106,
     "metadata": {},
     "output_type": "execute_result"
    }
   ],
   "source": [
    "X_train_transformed.head()"
   ]
  },
  {
   "cell_type": "markdown",
   "metadata": {},
   "source": [
    "## Resampling"
   ]
  },
  {
   "cell_type": "code",
   "execution_count": 107,
   "metadata": {},
   "outputs": [],
   "source": [
    "# split data into train and test sets\n",
    "seed = 7\n",
    "test_size = 0.33\n",
    "X_train_cleaned = X_train_transformed.drop('target', axis=1)\n",
    "Y_train = X_train[\"target\"].values\n",
    "X_tr, X_te, y_tr, y_te = train_test_split(X_train_cleaned, Y_train, test_size=test_size, random_state=seed)"
   ]
  },
  {
   "cell_type": "code",
   "execution_count": 108,
   "metadata": {},
   "outputs": [
    {
     "name": "stdout",
     "output_type": "stream",
     "text": [
      "Estimate: 3.506\n"
     ]
    }
   ],
   "source": [
    "from collections import Counter\n",
    "# count examples in each class\n",
    "counter = Counter(y_tr)\n",
    "\n",
    "# estimate scale_pos_weight value\n",
    "estimate = counter[0] / counter[1]\n",
    "print('Estimate: %.3f' % estimate)"
   ]
  },
  {
   "cell_type": "markdown",
   "metadata": {},
   "source": [
    "# XGBoost"
   ]
  },
  {
   "cell_type": "code",
   "execution_count": 109,
   "metadata": {},
   "outputs": [],
   "source": [
    "import xgboost as xgb\n",
    "from sklearn import metrics\n",
    "from sklearn.model_selection import GridSearchCV\n",
    "\n",
    "def auc(m, train, test): \n",
    "    return (metrics.roc_auc_score(y_tr,m.predict_proba(train)[:,1]),\n",
    "                            metrics.roc_auc_score(y_te,m.predict_proba(test)[:,1]))"
   ]
  },
  {
   "cell_type": "code",
   "execution_count": null,
   "metadata": {
    "scrolled": true
   },
   "outputs": [],
   "source": [
    "# Parameter Tuning\n",
    "model = xgb.XGBClassifier()\n",
    "param_dist = {\"max_depth\": [10,30,50],\n",
    "              \"min_child_weight\" : [1,3,6],\n",
    "              \"n_estimators\": [50, 200, 500],\n",
    "              \"learning_rate\": [0.05, 0.1,0.16],\n",
    "              \"sacle_pos_weight\": [1e-6, 1, 500, 'log-uniform'] }\n",
    "grid_search = GridSearchCV(model, param_grid=param_dist, cv = 3, \n",
    "                                   verbose=10, n_jobs=-1)\n",
    "grid_search.fit(X_tr, y_tr)\n",
    "\n",
    "grid_search.best_estimator_"
   ]
  },
  {
   "cell_type": "code",
   "execution_count": null,
   "metadata": {},
   "outputs": [],
   "source": [
    "\"\"\"\n",
    "XGBClassifier(base_score=0.5, booster='gbtree', colsample_bylevel=1,\n",
    "              colsample_bynode=1, colsample_bytree=1, gamma=0, gpu_id=-1,\n",
    "              importance_type='gain', interaction_constraints='',\n",
    "              learning_rate=0.05, max_delta_step=0, max_depth=10,\n",
    "              min_child_weight=6, missing=nan, monotone_constraints='()',\n",
    "              n_estimators=200, n_jobs=0, num_parallel_tree=1,\n",
    "              objective='binary:logistic', random_state=0, reg_alpha=0,\n",
    "              reg_lambda=1, scale_pos_weight=1, subsample=1,\n",
    "              tree_method='exact', validate_parameters=1, verbosity=None)\n",
    "\"\"\""
   ]
  },
  {
   "cell_type": "code",
   "execution_count": 111,
   "metadata": {
    "scrolled": false
   },
   "outputs": [
    {
     "name": "stdout",
     "output_type": "stream",
     "text": [
      "Fitting 3 folds for each of 4374 candidates, totalling 13122 fits\n"
     ]
    },
    {
     "name": "stderr",
     "output_type": "stream",
     "text": [
      "[Parallel(n_jobs=-1)]: Using backend LokyBackend with 8 concurrent workers.\n",
      "[Parallel(n_jobs=-1)]: Done   2 tasks      | elapsed:    1.2s\n",
      "[Parallel(n_jobs=-1)]: Done   9 tasks      | elapsed:    3.0s\n",
      "[Parallel(n_jobs=-1)]: Done  16 tasks      | elapsed:    3.4s\n",
      "[Parallel(n_jobs=-1)]: Done  25 tasks      | elapsed:    5.1s\n",
      "[Parallel(n_jobs=-1)]: Done  34 tasks      | elapsed:    8.5s\n",
      "[Parallel(n_jobs=-1)]: Done  45 tasks      | elapsed:   10.1s\n",
      "[Parallel(n_jobs=-1)]: Done  56 tasks      | elapsed:   12.8s\n",
      "[Parallel(n_jobs=-1)]: Done  69 tasks      | elapsed:   14.7s\n",
      "[Parallel(n_jobs=-1)]: Done  82 tasks      | elapsed:   16.6s\n",
      "[Parallel(n_jobs=-1)]: Done  97 tasks      | elapsed:   21.1s\n",
      "[Parallel(n_jobs=-1)]: Done 112 tasks      | elapsed:   24.5s\n",
      "[Parallel(n_jobs=-1)]: Done 129 tasks      | elapsed:   26.0s\n",
      "[Parallel(n_jobs=-1)]: Done 146 tasks      | elapsed:   31.9s\n",
      "[Parallel(n_jobs=-1)]: Done 165 tasks      | elapsed:   35.6s\n",
      "[Parallel(n_jobs=-1)]: Done 184 tasks      | elapsed:   38.4s\n",
      "[Parallel(n_jobs=-1)]: Done 205 tasks      | elapsed:   44.8s\n",
      "[Parallel(n_jobs=-1)]: Done 226 tasks      | elapsed:   49.8s\n",
      "[Parallel(n_jobs=-1)]: Done 249 tasks      | elapsed:   55.5s\n",
      "[Parallel(n_jobs=-1)]: Done 272 tasks      | elapsed:   58.7s\n",
      "[Parallel(n_jobs=-1)]: Done 297 tasks      | elapsed:  1.1min\n",
      "[Parallel(n_jobs=-1)]: Done 322 tasks      | elapsed:  1.2min\n",
      "[Parallel(n_jobs=-1)]: Done 349 tasks      | elapsed:  1.2min\n",
      "[Parallel(n_jobs=-1)]: Done 376 tasks      | elapsed:  1.4min\n",
      "[Parallel(n_jobs=-1)]: Done 405 tasks      | elapsed:  1.4min\n",
      "[Parallel(n_jobs=-1)]: Done 434 tasks      | elapsed:  1.6min\n",
      "[Parallel(n_jobs=-1)]: Done 465 tasks      | elapsed:  1.7min\n",
      "[Parallel(n_jobs=-1)]: Done 496 tasks      | elapsed:  1.8min\n",
      "[Parallel(n_jobs=-1)]: Done 529 tasks      | elapsed:  1.9min\n",
      "[Parallel(n_jobs=-1)]: Done 562 tasks      | elapsed:  2.0min\n",
      "[Parallel(n_jobs=-1)]: Done 597 tasks      | elapsed:  2.1min\n",
      "[Parallel(n_jobs=-1)]: Done 632 tasks      | elapsed:  2.2min\n",
      "[Parallel(n_jobs=-1)]: Done 669 tasks      | elapsed:  2.3min\n",
      "[Parallel(n_jobs=-1)]: Done 706 tasks      | elapsed:  2.5min\n",
      "[Parallel(n_jobs=-1)]: Done 745 tasks      | elapsed:  2.6min\n",
      "[Parallel(n_jobs=-1)]: Done 784 tasks      | elapsed:  2.8min\n",
      "[Parallel(n_jobs=-1)]: Done 825 tasks      | elapsed:  2.9min\n",
      "[Parallel(n_jobs=-1)]: Done 866 tasks      | elapsed:  3.1min\n",
      "[Parallel(n_jobs=-1)]: Done 909 tasks      | elapsed:  3.3min\n",
      "[Parallel(n_jobs=-1)]: Done 952 tasks      | elapsed:  3.4min\n",
      "[Parallel(n_jobs=-1)]: Done 997 tasks      | elapsed:  3.5min\n",
      "[Parallel(n_jobs=-1)]: Done 1042 tasks      | elapsed:  3.5min\n",
      "[Parallel(n_jobs=-1)]: Done 1089 tasks      | elapsed:  3.5min\n",
      "[Parallel(n_jobs=-1)]: Done 1136 tasks      | elapsed:  3.5min\n",
      "[Parallel(n_jobs=-1)]: Done 1185 tasks      | elapsed:  3.5min\n",
      "[Parallel(n_jobs=-1)]: Done 1234 tasks      | elapsed:  3.6min\n",
      "[Parallel(n_jobs=-1)]: Done 1285 tasks      | elapsed:  3.6min\n",
      "[Parallel(n_jobs=-1)]: Done 1336 tasks      | elapsed:  3.6min\n",
      "[Parallel(n_jobs=-1)]: Done 1389 tasks      | elapsed:  3.6min\n",
      "[Parallel(n_jobs=-1)]: Done 1442 tasks      | elapsed:  3.6min\n",
      "[Parallel(n_jobs=-1)]: Done 1497 tasks      | elapsed:  3.8min\n",
      "[Parallel(n_jobs=-1)]: Done 1552 tasks      | elapsed:  4.0min\n",
      "[Parallel(n_jobs=-1)]: Done 1609 tasks      | elapsed:  4.2min\n",
      "[Parallel(n_jobs=-1)]: Done 1666 tasks      | elapsed:  4.4min\n",
      "[Parallel(n_jobs=-1)]: Done 1725 tasks      | elapsed:  4.6min\n",
      "[Parallel(n_jobs=-1)]: Done 1784 tasks      | elapsed:  4.9min\n",
      "[Parallel(n_jobs=-1)]: Done 1845 tasks      | elapsed:  5.2min\n",
      "[Parallel(n_jobs=-1)]: Done 1906 tasks      | elapsed:  5.4min\n",
      "[Parallel(n_jobs=-1)]: Done 1969 tasks      | elapsed:  5.6min\n",
      "[Parallel(n_jobs=-1)]: Done 2032 tasks      | elapsed:  5.9min\n",
      "[Parallel(n_jobs=-1)]: Done 2097 tasks      | elapsed:  6.1min\n",
      "[Parallel(n_jobs=-1)]: Done 2162 tasks      | elapsed:  6.4min\n",
      "[Parallel(n_jobs=-1)]: Done 2229 tasks      | elapsed:  6.6min\n",
      "[Parallel(n_jobs=-1)]: Done 2296 tasks      | elapsed:  6.8min\n",
      "[Parallel(n_jobs=-1)]: Done 2365 tasks      | elapsed:  7.1min\n",
      "[Parallel(n_jobs=-1)]: Done 2434 tasks      | elapsed:  7.3min\n",
      "[Parallel(n_jobs=-1)]: Done 2505 tasks      | elapsed:  7.4min\n",
      "[Parallel(n_jobs=-1)]: Done 2576 tasks      | elapsed:  7.4min\n",
      "[Parallel(n_jobs=-1)]: Done 2649 tasks      | elapsed:  7.4min\n",
      "[Parallel(n_jobs=-1)]: Done 2722 tasks      | elapsed:  7.4min\n",
      "[Parallel(n_jobs=-1)]: Done 2797 tasks      | elapsed:  7.5min\n",
      "[Parallel(n_jobs=-1)]: Done 2872 tasks      | elapsed:  7.5min\n",
      "[Parallel(n_jobs=-1)]: Done 2949 tasks      | elapsed:  7.5min\n",
      "[Parallel(n_jobs=-1)]: Done 3026 tasks      | elapsed:  7.5min\n",
      "[Parallel(n_jobs=-1)]: Done 3105 tasks      | elapsed:  7.5min\n",
      "[Parallel(n_jobs=-1)]: Done 3184 tasks      | elapsed:  7.6min\n",
      "[Parallel(n_jobs=-1)]: Done 3265 tasks      | elapsed:  7.6min\n",
      "[Parallel(n_jobs=-1)]: Done 3346 tasks      | elapsed:  7.6min\n",
      "[Parallel(n_jobs=-1)]: Done 3429 tasks      | elapsed:  7.6min\n",
      "[Parallel(n_jobs=-1)]: Done 3512 tasks      | elapsed:  7.7min\n",
      "[Parallel(n_jobs=-1)]: Done 3597 tasks      | elapsed:  7.7min\n",
      "[Parallel(n_jobs=-1)]: Done 3682 tasks      | elapsed:  7.7min\n",
      "[Parallel(n_jobs=-1)]: Done 3769 tasks      | elapsed:  7.8min\n",
      "[Parallel(n_jobs=-1)]: Done 3856 tasks      | elapsed:  7.8min\n",
      "[Parallel(n_jobs=-1)]: Done 3945 tasks      | elapsed:  7.8min\n",
      "[Parallel(n_jobs=-1)]: Done 4034 tasks      | elapsed:  7.8min\n",
      "[Parallel(n_jobs=-1)]: Done 4125 tasks      | elapsed:  7.9min\n",
      "[Parallel(n_jobs=-1)]: Done 4216 tasks      | elapsed:  7.9min\n",
      "[Parallel(n_jobs=-1)]: Done 4309 tasks      | elapsed:  7.9min\n",
      "[Parallel(n_jobs=-1)]: Done 4402 tasks      | elapsed:  8.5min\n",
      "[Parallel(n_jobs=-1)]: Done 4497 tasks      | elapsed: 10.2min\n",
      "[Parallel(n_jobs=-1)]: Done 4592 tasks      | elapsed: 12.7min\n",
      "[Parallel(n_jobs=-1)]: Done 4689 tasks      | elapsed: 15.0min\n",
      "[Parallel(n_jobs=-1)]: Done 4786 tasks      | elapsed: 19.4min\n",
      "[Parallel(n_jobs=-1)]: Done 4885 tasks      | elapsed: 24.0min\n",
      "[Parallel(n_jobs=-1)]: Done 4984 tasks      | elapsed: 26.2min\n",
      "[Parallel(n_jobs=-1)]: Done 5085 tasks      | elapsed: 28.3min\n",
      "[Parallel(n_jobs=-1)]: Done 5186 tasks      | elapsed: 30.4min\n",
      "[Parallel(n_jobs=-1)]: Done 5289 tasks      | elapsed: 33.9min\n",
      "[Parallel(n_jobs=-1)]: Done 5392 tasks      | elapsed: 35.5min\n",
      "[Parallel(n_jobs=-1)]: Done 5497 tasks      | elapsed: 35.6min\n",
      "[Parallel(n_jobs=-1)]: Done 5602 tasks      | elapsed: 35.7min\n",
      "[Parallel(n_jobs=-1)]: Done 5709 tasks      | elapsed: 35.8min\n",
      "[Parallel(n_jobs=-1)]: Done 5816 tasks      | elapsed: 35.9min\n",
      "[Parallel(n_jobs=-1)]: Done 5925 tasks      | elapsed: 38.8min\n",
      "[Parallel(n_jobs=-1)]: Done 6034 tasks      | elapsed: 41.3min\n",
      "[Parallel(n_jobs=-1)]: Done 6145 tasks      | elapsed: 43.6min\n",
      "[Parallel(n_jobs=-1)]: Done 6256 tasks      | elapsed: 49.9min\n",
      "[Parallel(n_jobs=-1)]: Done 6369 tasks      | elapsed: 58.2min\n",
      "[Parallel(n_jobs=-1)]: Done 6482 tasks      | elapsed: 60.5min\n",
      "[Parallel(n_jobs=-1)]: Done 6597 tasks      | elapsed: 64.0min\n",
      "[Parallel(n_jobs=-1)]: Done 6712 tasks      | elapsed: 69.3min\n",
      "[Parallel(n_jobs=-1)]: Done 6829 tasks      | elapsed: 73.0min\n",
      "[Parallel(n_jobs=-1)]: Done 6946 tasks      | elapsed: 73.1min\n",
      "[Parallel(n_jobs=-1)]: Done 7065 tasks      | elapsed: 73.2min\n",
      "[Parallel(n_jobs=-1)]: Done 7184 tasks      | elapsed: 73.3min\n",
      "[Parallel(n_jobs=-1)]: Done 7305 tasks      | elapsed: 73.4min\n",
      "[Parallel(n_jobs=-1)]: Done 7426 tasks      | elapsed: 73.6min\n",
      "[Parallel(n_jobs=-1)]: Done 7549 tasks      | elapsed: 73.7min\n",
      "[Parallel(n_jobs=-1)]: Done 7672 tasks      | elapsed: 73.8min\n",
      "[Parallel(n_jobs=-1)]: Done 7797 tasks      | elapsed: 73.9min\n",
      "[Parallel(n_jobs=-1)]: Done 7922 tasks      | elapsed: 74.0min\n",
      "[Parallel(n_jobs=-1)]: Done 8049 tasks      | elapsed: 74.2min\n",
      "[Parallel(n_jobs=-1)]: Done 8176 tasks      | elapsed: 74.3min\n",
      "[Parallel(n_jobs=-1)]: Done 8305 tasks      | elapsed: 74.4min\n",
      "[Parallel(n_jobs=-1)]: Done 8434 tasks      | elapsed: 74.5min\n",
      "[Parallel(n_jobs=-1)]: Done 8565 tasks      | elapsed: 74.7min\n",
      "[Parallel(n_jobs=-1)]: Done 8696 tasks      | elapsed: 74.8min\n",
      "[Parallel(n_jobs=-1)]: Done 8829 tasks      | elapsed: 74.9min\n",
      "[Parallel(n_jobs=-1)]: Done 8962 tasks      | elapsed: 75.1min\n",
      "[Parallel(n_jobs=-1)]: Done 9097 tasks      | elapsed: 75.2min\n"
     ]
    },
    {
     "name": "stderr",
     "output_type": "stream",
     "text": [
      "[Parallel(n_jobs=-1)]: Done 9232 tasks      | elapsed: 75.3min\n",
      "[Parallel(n_jobs=-1)]: Done 9369 tasks      | elapsed: 75.4min\n",
      "[Parallel(n_jobs=-1)]: Done 9506 tasks      | elapsed: 75.5min\n",
      "[Parallel(n_jobs=-1)]: Done 9645 tasks      | elapsed: 75.6min\n",
      "[Parallel(n_jobs=-1)]: Done 9784 tasks      | elapsed: 75.7min\n",
      "[Parallel(n_jobs=-1)]: Done 9925 tasks      | elapsed: 75.8min\n",
      "[Parallel(n_jobs=-1)]: Done 10066 tasks      | elapsed: 75.8min\n",
      "[Parallel(n_jobs=-1)]: Done 10209 tasks      | elapsed: 75.9min\n",
      "[Parallel(n_jobs=-1)]: Done 10352 tasks      | elapsed: 76.0min\n",
      "[Parallel(n_jobs=-1)]: Done 10497 tasks      | elapsed: 76.0min\n",
      "[Parallel(n_jobs=-1)]: Done 10642 tasks      | elapsed: 76.1min\n",
      "[Parallel(n_jobs=-1)]: Done 10789 tasks      | elapsed: 76.2min\n",
      "[Parallel(n_jobs=-1)]: Done 10936 tasks      | elapsed: 76.2min\n",
      "[Parallel(n_jobs=-1)]: Done 11085 tasks      | elapsed: 76.3min\n",
      "[Parallel(n_jobs=-1)]: Done 11234 tasks      | elapsed: 76.4min\n",
      "[Parallel(n_jobs=-1)]: Done 11385 tasks      | elapsed: 76.4min\n",
      "[Parallel(n_jobs=-1)]: Done 11536 tasks      | elapsed: 76.5min\n",
      "[Parallel(n_jobs=-1)]: Done 11689 tasks      | elapsed: 76.6min\n",
      "[Parallel(n_jobs=-1)]: Done 11842 tasks      | elapsed: 76.6min\n",
      "[Parallel(n_jobs=-1)]: Done 11997 tasks      | elapsed: 76.7min\n",
      "[Parallel(n_jobs=-1)]: Done 12152 tasks      | elapsed: 76.8min\n",
      "[Parallel(n_jobs=-1)]: Done 12309 tasks      | elapsed: 76.9min\n",
      "[Parallel(n_jobs=-1)]: Done 12466 tasks      | elapsed: 76.9min\n",
      "[Parallel(n_jobs=-1)]: Done 12625 tasks      | elapsed: 77.0min\n",
      "[Parallel(n_jobs=-1)]: Done 12784 tasks      | elapsed: 77.1min\n",
      "[Parallel(n_jobs=-1)]: Done 12945 tasks      | elapsed: 77.1min\n",
      "[Parallel(n_jobs=-1)]: Done 13106 tasks      | elapsed: 77.2min\n",
      "[Parallel(n_jobs=-1)]: Done 13122 out of 13122 | elapsed: 77.6min finished\n"
     ]
    },
    {
     "data": {
      "text/plain": [
       "XGBClassifier(base_score=0.5, booster='gbtree', colsample_bylevel=1,\n",
       "              colsample_bynode=1, colsample_bytree=1.0, gamma=1e-09, gpu_id=-1,\n",
       "              importance_type='gain', interaction_constraints='',\n",
       "              learning_rate=0.05, max_delta_step=0, max_depth=50,\n",
       "              min_child_weight=6, missing=nan, monotone_constraints='()',\n",
       "              n_estimators=500, n_jobs=0, num_parallel_tree=1, random_state=0,\n",
       "              reg_alpha=0, reg_lambda=1, scale_pos_weight=1, subsample=1.0,\n",
       "              tree_method='exact', validate_parameters=1, verbosity=None)"
      ]
     },
     "execution_count": 111,
     "metadata": {},
     "output_type": "execute_result"
    }
   ],
   "source": [
    "# Parameter Tuning\n",
    "model = xgb.XGBClassifier()\n",
    "param_dist = {\"max_depth\": [6, 10, 50],\n",
    "              \"min_child_weight\" : [0, 6, 10],\n",
    "              \"n_estimators\": [200, 500],\n",
    "              \"learning_rate\": [0.05, 1.0, 'log-uniform'],\n",
    "              \"scale_pos_weight\": [1e-6, 1, 'log-uniform'],\n",
    "              'subsample': [0.01, 1.0, 'uniform'],\n",
    "              'colsample_bytree': [0.01, 1.0, 'uniform'],\n",
    "              'gamma': [1e-9, 0.5, 'log-uniform'],\n",
    "             }\n",
    "grid_search = GridSearchCV(model, param_grid=param_dist, cv = 3, \n",
    "                                   verbose=10, n_jobs=-1)\n",
    "grid_search.fit(X_tr, y_tr)\n",
    "\n",
    "grid_search.best_estimator_"
   ]
  },
  {
   "cell_type": "code",
   "execution_count": null,
   "metadata": {},
   "outputs": [],
   "source": [
    "\"\"\"\n",
    "Result: 0.9311289081201632\n",
    "base_score=0.5, booster='gbtree', colsample_bylevel=1,\n",
    "              colsample_bynode=1, colsample_bytree=1, gamma=0, gpu_id=-1,\n",
    "              importance_type='gain', interaction_constraints='',\n",
    "              learning_rate=0.05, max_delta_step=0, max_depth=10,\n",
    "              min_child_weight=6, missing=nan, monotone_constraints='()',\n",
    "              n_estimators=500, n_jobs=0, num_parallel_tree=1, random_state=0,\n",
    "              reg_alpha=0, reg_lambda=1, scale_pos_weight=1, subsample=1,\n",
    "              tree_method='exact', validate_parameters=1, verbosity=Non\n",
    "\"\"\""
   ]
  },
  {
   "cell_type": "code",
   "execution_count": null,
   "metadata": {},
   "outputs": [],
   "source": [
    "\"\"\"\n",
    "Result:\n",
    "XGBClassifier(base_score=0.5, booster='gbtree', colsample_bylevel=1,\n",
    "              colsample_bynode=1, colsample_bytree=1, gamma=0, gpu_id=-1,\n",
    "              importance_type='gain', interaction_constraints='',\n",
    "              learning_rate=0.05, max_delta_step=0, max_depth=5,\n",
    "              min_child_weight=6, missing=nan, monotone_constraints='()',\n",
    "              n_estimators=500, n_jobs=0, num_parallel_tree=1,\n",
    "              objective='binary:logistic', random_state=0, reg_alpha=0,\n",
    "              reg_lambda=1, scale_pos_weight=1, subsample=1,\n",
    "              tree_method='exact', validate_parameters=1, verbosity=None)\n",
    "\"\"\""
   ]
  },
  {
   "cell_type": "markdown",
   "metadata": {},
   "source": [
    "After running grid search, and training the model with the different parameters, I found  that the best parameters were:\n",
    "- learning rate: 0.05\n",
    "- max depth: 10\n",
    "- n estimatiors: 200\n",
    "- min child weight: 6\n",
    "- scale pos weight: 1\n",
    "\n",
    "scale_pos_weight = 3.506, max_depth 10 n_estimators 200: 0.9279\n",
    "scale pos weight 3.506, max depth 5, n_estimators 500: "
   ]
  },
  {
   "cell_type": "code",
   "execution_count": 79,
   "metadata": {},
   "outputs": [
    {
     "data": {
      "text/plain": [
       "(0.9982948264927064, 0.9279045277184014)"
      ]
     },
     "execution_count": 79,
     "metadata": {},
     "output_type": "execute_result"
    }
   ],
   "source": [
    "model = xgb.XGBClassifier(base_score=0.5, booster='gbtree', colsample_bylevel=1,\n",
    "              colsample_bynode=1, colsample_bytree=1, gamma=0, gpu_id=-1,\n",
    "              importance_type='gain', interaction_constraints='',\n",
    "              learning_rate=0.05, max_delta_step=0, max_depth=10,\n",
    "              min_child_weight=6, monotone_constraints='()',\n",
    "              n_estimators=200, n_jobs=0, num_parallel_tree=1,\n",
    "              objective='binary:logistic', random_state=0, reg_alpha=0,\n",
    "              reg_lambda=1, scale_pos_weight=3.506, subsample=1,\n",
    "              tree_method='exact', validate_parameters=1, verbosity=None)\n",
    "model.fit(X_tr, y_tr)\n",
    "\n",
    "auc(model, X_tr, X_te)"
   ]
  },
  {
   "cell_type": "code",
   "execution_count": 82,
   "metadata": {},
   "outputs": [
    {
     "data": {
      "text/plain": [
       "(0.9997190370234581, 0.9311289081201632)"
      ]
     },
     "execution_count": 82,
     "metadata": {},
     "output_type": "execute_result"
    }
   ],
   "source": [
    "model = xgb.XGBClassifier(base_score=0.5, booster='gbtree', colsample_bylevel=1,\n",
    "              colsample_bynode=1, colsample_bytree=1, gamma=0, gpu_id=-1,\n",
    "              importance_type='gain', interaction_constraints='',\n",
    "              learning_rate=0.05, max_delta_step=0, max_depth=10,\n",
    "              min_child_weight=6, monotone_constraints='()',\n",
    "              n_estimators=500, n_jobs=0, num_parallel_tree=1, random_state=0,\n",
    "              reg_alpha=0, reg_lambda=1, scale_pos_weight=1, subsample=1,\n",
    "              tree_method='exact', validate_parameters=1, verbosity=None)\n",
    "model.fit(X_tr, y_tr)\n",
    "\n",
    "auc(model, X_tr, X_te)"
   ]
  },
  {
   "cell_type": "code",
   "execution_count": 76,
   "metadata": {},
   "outputs": [],
   "source": [
    "model.save_model('xgboost_model.json')"
   ]
  },
  {
   "cell_type": "markdown",
   "metadata": {},
   "source": [
    "# Make predictions"
   ]
  },
  {
   "cell_type": "code",
   "execution_count": 221,
   "metadata": {
    "scrolled": false
   },
   "outputs": [
    {
     "data": {
      "text/html": [
       "<div>\n",
       "<style scoped>\n",
       "    .dataframe tbody tr th:only-of-type {\n",
       "        vertical-align: middle;\n",
       "    }\n",
       "\n",
       "    .dataframe tbody tr th {\n",
       "        vertical-align: top;\n",
       "    }\n",
       "\n",
       "    .dataframe thead th {\n",
       "        text-align: right;\n",
       "    }\n",
       "</style>\n",
       "<table border=\"1\" class=\"dataframe\">\n",
       "  <thead>\n",
       "    <tr style=\"text-align: right;\">\n",
       "      <th></th>\n",
       "      <th>sample_id</th>\n",
       "      <th>prediction_in_probability</th>\n",
       "    </tr>\n",
       "  </thead>\n",
       "  <tbody>\n",
       "    <tr>\n",
       "      <th>0</th>\n",
       "      <td>50000</td>\n",
       "      <td>0.062624</td>\n",
       "    </tr>\n",
       "    <tr>\n",
       "      <th>1</th>\n",
       "      <td>50001</td>\n",
       "      <td>0.019105</td>\n",
       "    </tr>\n",
       "    <tr>\n",
       "      <th>2</th>\n",
       "      <td>50002</td>\n",
       "      <td>0.031399</td>\n",
       "    </tr>\n",
       "    <tr>\n",
       "      <th>3</th>\n",
       "      <td>50003</td>\n",
       "      <td>0.931199</td>\n",
       "    </tr>\n",
       "    <tr>\n",
       "      <th>4</th>\n",
       "      <td>50004</td>\n",
       "      <td>0.006038</td>\n",
       "    </tr>\n",
       "    <tr>\n",
       "      <th>5</th>\n",
       "      <td>50005</td>\n",
       "      <td>0.285593</td>\n",
       "    </tr>\n",
       "    <tr>\n",
       "      <th>6</th>\n",
       "      <td>50006</td>\n",
       "      <td>0.019936</td>\n",
       "    </tr>\n",
       "    <tr>\n",
       "      <th>7</th>\n",
       "      <td>50007</td>\n",
       "      <td>0.350615</td>\n",
       "    </tr>\n",
       "    <tr>\n",
       "      <th>8</th>\n",
       "      <td>50008</td>\n",
       "      <td>0.019304</td>\n",
       "    </tr>\n",
       "    <tr>\n",
       "      <th>9</th>\n",
       "      <td>50009</td>\n",
       "      <td>0.628994</td>\n",
       "    </tr>\n",
       "    <tr>\n",
       "      <th>10</th>\n",
       "      <td>50010</td>\n",
       "      <td>0.007893</td>\n",
       "    </tr>\n",
       "    <tr>\n",
       "      <th>11</th>\n",
       "      <td>50011</td>\n",
       "      <td>0.031700</td>\n",
       "    </tr>\n",
       "    <tr>\n",
       "      <th>12</th>\n",
       "      <td>50012</td>\n",
       "      <td>0.023891</td>\n",
       "    </tr>\n",
       "    <tr>\n",
       "      <th>13</th>\n",
       "      <td>50013</td>\n",
       "      <td>0.074354</td>\n",
       "    </tr>\n",
       "    <tr>\n",
       "      <th>14</th>\n",
       "      <td>50014</td>\n",
       "      <td>0.074697</td>\n",
       "    </tr>\n",
       "    <tr>\n",
       "      <th>15</th>\n",
       "      <td>50015</td>\n",
       "      <td>0.491731</td>\n",
       "    </tr>\n",
       "    <tr>\n",
       "      <th>16</th>\n",
       "      <td>50016</td>\n",
       "      <td>0.142270</td>\n",
       "    </tr>\n",
       "    <tr>\n",
       "      <th>17</th>\n",
       "      <td>50017</td>\n",
       "      <td>0.003664</td>\n",
       "    </tr>\n",
       "    <tr>\n",
       "      <th>18</th>\n",
       "      <td>50018</td>\n",
       "      <td>0.078444</td>\n",
       "    </tr>\n",
       "    <tr>\n",
       "      <th>19</th>\n",
       "      <td>50019</td>\n",
       "      <td>0.030890</td>\n",
       "    </tr>\n",
       "  </tbody>\n",
       "</table>\n",
       "</div>"
      ],
      "text/plain": [
       "    sample_id  prediction_in_probability\n",
       "0       50000                   0.062624\n",
       "1       50001                   0.019105\n",
       "2       50002                   0.031399\n",
       "3       50003                   0.931199\n",
       "4       50004                   0.006038\n",
       "5       50005                   0.285593\n",
       "6       50006                   0.019936\n",
       "7       50007                   0.350615\n",
       "8       50008                   0.019304\n",
       "9       50009                   0.628994\n",
       "10      50010                   0.007893\n",
       "11      50011                   0.031700\n",
       "12      50012                   0.023891\n",
       "13      50013                   0.074354\n",
       "14      50014                   0.074697\n",
       "15      50015                   0.491731\n",
       "16      50016                   0.142270\n",
       "17      50017                   0.003664\n",
       "18      50018                   0.078444\n",
       "19      50019                   0.030890"
      ]
     },
     "execution_count": 221,
     "metadata": {},
     "output_type": "execute_result"
    }
   ],
   "source": [
    "pred1 = model.predict_proba(X_test_encoded)\n",
    "pred1\n",
    "id_pred1 = pd.DataFrame({'sample_id': test['id'].astype(int), 'prediction_in_probability': pred1[:,1]})\n",
    "id_pred1.head(20)"
   ]
  },
  {
   "cell_type": "code",
   "execution_count": 222,
   "metadata": {},
   "outputs": [],
   "source": [
    "np.savetxt('predictions.txt', id_pred1, fmt=['%d', '%.6f'], delimiter=',')"
   ]
  },
  {
   "cell_type": "code",
   "execution_count": 223,
   "metadata": {},
   "outputs": [],
   "source": [
    "# make predictions for test data\n",
    "y_pred = model.predict(X_te)\n",
    "predictions = [round(value) for value in y_pred]"
   ]
  },
  {
   "cell_type": "markdown",
   "metadata": {},
   "source": [
    "# Analyze model"
   ]
  },
  {
   "cell_type": "code",
   "execution_count": 224,
   "metadata": {
    "scrolled": true
   },
   "outputs": [
    {
     "data": {
      "image/png": "[encoded data removed]",
      "text/plain": [
       "<Figure size 1080x4320 with 1 Axes>"
      ]
     },
     "metadata": {
      "needs_background": "light"
     },
     "output_type": "display_data"
    },
    {
     "data": {
      "text/plain": [
       "<Figure size 1080x4320 with 0 Axes>"
      ]
     },
     "metadata": {},
     "output_type": "display_data"
    }
   ],
   "source": [
    "%matplotlib inline\n",
    "from matplotlib import pyplot\n",
    "from matplotlib.pylab import rcParams\n",
    "rcParams.update({'font.size': 22})\n",
    "rcParams['figure.figsize'] = 15,60\n",
    "\n",
    "xgb.plot_importance(model)\n",
    "pyplot.show()\n",
    "pyplot.savefig('feature_importance.png')"
   ]
  },
  {
   "cell_type": "code",
   "execution_count": 225,
   "metadata": {
    "scrolled": true
   },
   "outputs": [
    {
     "data": {
      "text/plain": [
       "array([0.00951972, 0.00904456, 0.00696579, 0.00979398, 0.02494323,\n",
       "       0.01827711, 0.00772348, 0.00541282, 0.00818233, 0.00976122,\n",
       "       0.10704759, 0.03785507, 0.00866735, 0.01387046, 0.007212  ,\n",
       "       0.01751654, 0.0093795 , 0.01100541, 0.02732232, 0.01226407,\n",
       "       0.01265153, 0.01110623, 0.01078455, 0.01216965, 0.00914302,\n",
       "       0.00843247, 0.00771389, 0.00973394, 0.01043695, 0.01053624,\n",
       "       0.00773799, 0.01090542, 0.00885777, 0.00867676, 0.00904406,\n",
       "       0.00676267, 0.0082774 , 0.00847832, 0.00812315, 0.00683504,\n",
       "       0.0095513 , 0.00717596, 0.00782547, 0.00621693, 0.00977404,\n",
       "       0.00459612, 0.00757969, 0.02995613, 0.00799334, 0.00678095,\n",
       "       0.00808629, 0.01147912, 0.00848665, 0.01249762, 0.01397063,\n",
       "       0.01174746, 0.00807404, 0.01008798, 0.01070142, 0.00886603,\n",
       "       0.00836805, 0.00831216, 0.01030438, 0.01204595, 0.01007113,\n",
       "       0.00984384, 0.01182295, 0.00950778, 0.01481009, 0.00768557,\n",
       "       0.01358539, 0.01365429, 0.00834281, 0.00990147, 0.00901599,\n",
       "       0.01372511, 0.01183798, 0.01107205, 0.00939174, 0.0097219 ,\n",
       "       0.00932532, 0.0095021 , 0.01093649, 0.00759666], dtype=float32)"
      ]
     },
     "execution_count": 225,
     "metadata": {},
     "output_type": "execute_result"
    }
   ],
   "source": [
    "model.feature_importances_"
   ]
  },
  {
   "cell_type": "code",
   "execution_count": 226,
   "metadata": {
    "scrolled": true
   },
   "outputs": [
    {
     "data": {
      "image/png": "[encoded data removed]",
      "text/plain": [
       "<Figure size 1080x4320 with 1 Axes>"
      ]
     },
     "metadata": {
      "needs_background": "light"
     },
     "output_type": "display_data"
    }
   ],
   "source": [
    "pyplot.bar(range(len(model.feature_importances_)), model.feature_importances_)\n",
    "pyplot.show()"
   ]
  },
  {
   "cell_type": "markdown",
   "metadata": {},
   "source": [
    "# Feature selection\n",
    "From the bar chart, we see that most features are below 0.01 in feature importance. Let's select the features above this threshold."
   ]
  },
  {
   "cell_type": "code",
   "execution_count": 258,
   "metadata": {},
   "outputs": [],
   "source": [
    "dropping = [X_tr.columns[i] for i in range(len(X_tr.columns)) if model.feature_importances_[i] < 0.009]\n"
   ]
  },
  {
   "cell_type": "code",
   "execution_count": 229,
   "metadata": {
    "scrolled": true
   },
   "outputs": [
    {
     "data": {
      "text/plain": [
       "['f2',\n",
       " 'f7',\n",
       " 'f9',\n",
       " 'f10',\n",
       " 'f15',\n",
       " 'f18',\n",
       " 'f4_d',\n",
       " 'f4_dbd',\n",
       " 'f4_nnd',\n",
       " 'f4_nx',\n",
       " 'f4_x',\n",
       " 'f4_xnx',\n",
       " 'f8_a',\n",
       " 'f8_b',\n",
       " 'f8_c',\n",
       " 'f8_d',\n",
       " 'f8_f',\n",
       " 'f8_g',\n",
       " 'f8_h',\n",
       " 'f8_j',\n",
       " 'f8_k',\n",
       " 'f8_m',\n",
       " 'f8_n',\n",
       " 'f8_o',\n",
       " 'f17_bbd',\n",
       " 'f17_d',\n",
       " 'f17_n',\n",
       " 'f17_nd',\n",
       " 'f17_nnd',\n",
       " 'f21_bbx',\n",
       " 'f21_d',\n",
       " 'f12_dec']"
      ]
     },
     "execution_count": 229,
     "metadata": {},
     "output_type": "execute_result"
    }
   ],
   "source": [
    "dropping"
   ]
  },
  {
   "cell_type": "code",
   "execution_count": 259,
   "metadata": {},
   "outputs": [],
   "source": [
    "selected_X_train = X_tr.drop(dropping, axis=1)\n",
    "selected_X_test = X_te.drop(dropping, axis=1)"
   ]
  },
  {
   "cell_type": "code",
   "execution_count": 246,
   "metadata": {},
   "outputs": [],
   "source": [
    "selected_X_train.to_csv(\"data/selected_train_data.csv\")\n",
    "selected_X_test.to_csv(\"data/selected_test_data.csv\")"
   ]
  },
  {
   "cell_type": "code",
   "execution_count": null,
   "metadata": {},
   "outputs": [],
   "source": [
    "from sklearn.feature_selection import SelectFromModel\n",
    "\n",
    "# select features using threshold\n",
    "selection = SelectFromModel(model, threshold=0.005, prefit=True)\n",
    "selected_X_train = selection.transform(X_sm)"
   ]
  },
  {
   "cell_type": "code",
   "execution_count": 231,
   "metadata": {
    "scrolled": true
   },
   "outputs": [
    {
     "name": "stdout",
     "output_type": "stream",
     "text": [
      "Fitting 3 folds for each of 27 candidates, totalling 81 fits\n"
     ]
    },
    {
     "name": "stderr",
     "output_type": "stream",
     "text": [
      "[Parallel(n_jobs=-1)]: Using backend LokyBackend with 8 concurrent workers.\n"
     ]
    },
    {
     "ename": "KeyboardInterrupt",
     "evalue": "",
     "output_type": "error",
     "traceback": [
      "\u001b[0;31m---------------------------------------------------------------------------\u001b[0m",
      "\u001b[0;31mKeyboardInterrupt\u001b[0m                         Traceback (most recent call last)",
      "\u001b[0;32m<ipython-input-231-8e6a74fae017>\u001b[0m in \u001b[0;36m<module>\u001b[0;34m\u001b[0m\n\u001b[1;32m      6\u001b[0m grid_search2 = GridSearchCV(selection_model, param_grid=param_dist, cv = 3, \n\u001b[1;32m      7\u001b[0m                                    verbose=10, n_jobs=-1)\n\u001b[0;32m----> 8\u001b[0;31m \u001b[0mgrid_search2\u001b[0m\u001b[0;34m.\u001b[0m\u001b[0mfit\u001b[0m\u001b[0;34m(\u001b[0m\u001b[0mselected_X_train\u001b[0m\u001b[0;34m,\u001b[0m \u001b[0my_tr\u001b[0m\u001b[0;34m)\u001b[0m\u001b[0;34m\u001b[0m\u001b[0;34m\u001b[0m\u001b[0m\n\u001b[0m\u001b[1;32m      9\u001b[0m \u001b[0;34m\u001b[0m\u001b[0m\n\u001b[1;32m     10\u001b[0m \u001b[0mgrid_search2\u001b[0m\u001b[0;34m.\u001b[0m\u001b[0mbest_estimator_\u001b[0m\u001b[0;34m\u001b[0m\u001b[0;34m\u001b[0m\u001b[0m\n",
      "\u001b[0;32m~/.local/lib/python3.8/site-packages/sklearn/model_selection/_search.py\u001b[0m in \u001b[0;36mfit\u001b[0;34m(self, X, y, groups, **fit_params)\u001b[0m\n\u001b[1;32m    686\u001b[0m         fit_and_score_kwargs = dict(scorer=scorers,\n\u001b[1;32m    687\u001b[0m                                     \u001b[0mfit_params\u001b[0m\u001b[0;34m=\u001b[0m\u001b[0mfit_params\u001b[0m\u001b[0;34m,\u001b[0m\u001b[0;34m\u001b[0m\u001b[0;34m\u001b[0m\u001b[0m\n\u001b[0;32m--> 688\u001b[0;31m                                     \u001b[0mreturn_train_score\u001b[0m\u001b[0;34m=\u001b[0m\u001b[0mself\u001b[0m\u001b[0;34m.\u001b[0m\u001b[0mreturn_train_score\u001b[0m\u001b[0;34m,\u001b[0m\u001b[0;34m\u001b[0m\u001b[0;34m\u001b[0m\u001b[0m\n\u001b[0m\u001b[1;32m    689\u001b[0m                                     \u001b[0mreturn_n_test_samples\u001b[0m\u001b[0;34m=\u001b[0m\u001b[0;32mTrue\u001b[0m\u001b[0;34m,\u001b[0m\u001b[0;34m\u001b[0m\u001b[0;34m\u001b[0m\u001b[0m\n\u001b[1;32m    690\u001b[0m                                     \u001b[0mreturn_times\u001b[0m\u001b[0;34m=\u001b[0m\u001b[0;32mTrue\u001b[0m\u001b[0;34m,\u001b[0m\u001b[0;34m\u001b[0m\u001b[0;34m\u001b[0m\u001b[0m\n",
      "\u001b[0;32m~/.local/lib/python3.8/site-packages/sklearn/model_selection/_search.py\u001b[0m in \u001b[0;36m_run_search\u001b[0;34m(self, evaluate_candidates)\u001b[0m\n\u001b[1;32m   1147\u001b[0m     \u001b[0mdata\u001b[0m\u001b[0;34m,\u001b[0m \u001b[0munless\u001b[0m \u001b[0man\u001b[0m \u001b[0mexplicit\u001b[0m \u001b[0mscore\u001b[0m \u001b[0;32mis\u001b[0m \u001b[0mpassed\u001b[0m \u001b[0;32min\u001b[0m \u001b[0mwhich\u001b[0m \u001b[0mcase\u001b[0m \u001b[0mit\u001b[0m \u001b[0;32mis\u001b[0m \u001b[0mused\u001b[0m \u001b[0minstead\u001b[0m\u001b[0;34m.\u001b[0m\u001b[0;34m\u001b[0m\u001b[0;34m\u001b[0m\u001b[0m\n\u001b[1;32m   1148\u001b[0m \u001b[0;34m\u001b[0m\u001b[0m\n\u001b[0;32m-> 1149\u001b[0;31m     \u001b[0mIf\u001b[0m\u001b[0;31m \u001b[0m\u001b[0;31m`\u001b[0m\u001b[0mn_jobs\u001b[0m\u001b[0;31m`\u001b[0m \u001b[0mwas\u001b[0m \u001b[0mset\u001b[0m \u001b[0mto\u001b[0m \u001b[0ma\u001b[0m \u001b[0mvalue\u001b[0m \u001b[0mhigher\u001b[0m \u001b[0mthan\u001b[0m \u001b[0mone\u001b[0m\u001b[0;34m,\u001b[0m \u001b[0mthe\u001b[0m \u001b[0mdata\u001b[0m \u001b[0;32mis\u001b[0m \u001b[0mcopied\u001b[0m \u001b[0;32mfor\u001b[0m \u001b[0meach\u001b[0m\u001b[0;34m\u001b[0m\u001b[0;34m\u001b[0m\u001b[0m\n\u001b[0m\u001b[1;32m   1150\u001b[0m     \u001b[0mpoint\u001b[0m \u001b[0;32min\u001b[0m \u001b[0mthe\u001b[0m \u001b[0mgrid\u001b[0m \u001b[0;34m(\u001b[0m\u001b[0;32mand\u001b[0m \u001b[0;32mnot\u001b[0m\u001b[0;31m \u001b[0m\u001b[0;31m`\u001b[0m\u001b[0mn_jobs\u001b[0m\u001b[0;31m`\u001b[0m \u001b[0mtimes\u001b[0m\u001b[0;34m)\u001b[0m\u001b[0;34m.\u001b[0m \u001b[0mThis\u001b[0m \u001b[0;32mis\u001b[0m \u001b[0mdone\u001b[0m \u001b[0;32mfor\u001b[0m \u001b[0mefficiency\u001b[0m\u001b[0;34m\u001b[0m\u001b[0;34m\u001b[0m\u001b[0m\n\u001b[1;32m   1151\u001b[0m     \u001b[0mreasons\u001b[0m \u001b[0;32mif\u001b[0m \u001b[0mindividual\u001b[0m \u001b[0mjobs\u001b[0m \u001b[0mtake\u001b[0m \u001b[0mvery\u001b[0m \u001b[0mlittle\u001b[0m \u001b[0mtime\u001b[0m\u001b[0;34m,\u001b[0m \u001b[0mbut\u001b[0m \u001b[0mmay\u001b[0m \u001b[0;32mraise\u001b[0m \u001b[0merrors\u001b[0m \u001b[0;32mif\u001b[0m\u001b[0;34m\u001b[0m\u001b[0;34m\u001b[0m\u001b[0m\n",
      "\u001b[0;32m~/.local/lib/python3.8/site-packages/sklearn/model_selection/_search.py\u001b[0m in \u001b[0;36mevaluate_candidates\u001b[0;34m(candidate_params)\u001b[0m\n\u001b[1;32m    658\u001b[0m             if self.refit is not False and (\n\u001b[1;32m    659\u001b[0m                     \u001b[0;32mnot\u001b[0m \u001b[0misinstance\u001b[0m\u001b[0;34m(\u001b[0m\u001b[0mself\u001b[0m\u001b[0;34m.\u001b[0m\u001b[0mrefit\u001b[0m\u001b[0;34m,\u001b[0m \u001b[0mstr\u001b[0m\u001b[0;34m)\u001b[0m \u001b[0;32mor\u001b[0m\u001b[0;34m\u001b[0m\u001b[0;34m\u001b[0m\u001b[0m\n\u001b[0;32m--> 660\u001b[0;31m                     \u001b[0;31m# This will work for both dict / list (tuple)\u001b[0m\u001b[0;34m\u001b[0m\u001b[0;34m\u001b[0m\u001b[0;34m\u001b[0m\u001b[0m\n\u001b[0m\u001b[1;32m    661\u001b[0m                     self.refit not in scorers) and not callable(self.refit):\n\u001b[1;32m    662\u001b[0m                 raise ValueError(\"For multi-metric scoring, the parameter \"\n",
      "\u001b[0;32m~/.local/lib/python3.8/site-packages/joblib/parallel.py\u001b[0m in \u001b[0;36m__call__\u001b[0;34m(self, iterable)\u001b[0m\n\u001b[1;32m   1059\u001b[0m \u001b[0;34m\u001b[0m\u001b[0m\n\u001b[1;32m   1060\u001b[0m             \u001b[0;32mwith\u001b[0m \u001b[0mself\u001b[0m\u001b[0;34m.\u001b[0m\u001b[0m_backend\u001b[0m\u001b[0;34m.\u001b[0m\u001b[0mretrieval_context\u001b[0m\u001b[0;34m(\u001b[0m\u001b[0;34m)\u001b[0m\u001b[0;34m:\u001b[0m\u001b[0;34m\u001b[0m\u001b[0;34m\u001b[0m\u001b[0m\n\u001b[0;32m-> 1061\u001b[0;31m                 \u001b[0mself\u001b[0m\u001b[0;34m.\u001b[0m\u001b[0mretrieve\u001b[0m\u001b[0;34m(\u001b[0m\u001b[0;34m)\u001b[0m\u001b[0;34m\u001b[0m\u001b[0;34m\u001b[0m\u001b[0m\n\u001b[0m\u001b[1;32m   1062\u001b[0m             \u001b[0;31m# Make sure that we get a last message telling us we are done\u001b[0m\u001b[0;34m\u001b[0m\u001b[0;34m\u001b[0m\u001b[0;34m\u001b[0m\u001b[0m\n\u001b[1;32m   1063\u001b[0m             \u001b[0melapsed_time\u001b[0m \u001b[0;34m=\u001b[0m \u001b[0mtime\u001b[0m\u001b[0;34m.\u001b[0m\u001b[0mtime\u001b[0m\u001b[0;34m(\u001b[0m\u001b[0;34m)\u001b[0m \u001b[0;34m-\u001b[0m \u001b[0mself\u001b[0m\u001b[0;34m.\u001b[0m\u001b[0m_start_time\u001b[0m\u001b[0;34m\u001b[0m\u001b[0;34m\u001b[0m\u001b[0m\n",
      "\u001b[0;32m~/.local/lib/python3.8/site-packages/joblib/parallel.py\u001b[0m in \u001b[0;36mretrieve\u001b[0;34m(self)\u001b[0m\n\u001b[1;32m    938\u001b[0m             \u001b[0;32mtry\u001b[0m\u001b[0;34m:\u001b[0m\u001b[0;34m\u001b[0m\u001b[0;34m\u001b[0m\u001b[0m\n\u001b[1;32m    939\u001b[0m                 \u001b[0;32mif\u001b[0m \u001b[0mgetattr\u001b[0m\u001b[0;34m(\u001b[0m\u001b[0mself\u001b[0m\u001b[0;34m.\u001b[0m\u001b[0m_backend\u001b[0m\u001b[0;34m,\u001b[0m \u001b[0;34m'supports_timeout'\u001b[0m\u001b[0;34m,\u001b[0m \u001b[0;32mFalse\u001b[0m\u001b[0;34m)\u001b[0m\u001b[0;34m:\u001b[0m\u001b[0;34m\u001b[0m\u001b[0;34m\u001b[0m\u001b[0m\n\u001b[0;32m--> 940\u001b[0;31m                     \u001b[0mself\u001b[0m\u001b[0;34m.\u001b[0m\u001b[0m_output\u001b[0m\u001b[0;34m.\u001b[0m\u001b[0mextend\u001b[0m\u001b[0;34m(\u001b[0m\u001b[0mjob\u001b[0m\u001b[0;34m.\u001b[0m\u001b[0mget\u001b[0m\u001b[0;34m(\u001b[0m\u001b[0mtimeout\u001b[0m\u001b[0;34m=\u001b[0m\u001b[0mself\u001b[0m\u001b[0;34m.\u001b[0m\u001b[0mtimeout\u001b[0m\u001b[0;34m)\u001b[0m\u001b[0;34m)\u001b[0m\u001b[0;34m\u001b[0m\u001b[0;34m\u001b[0m\u001b[0m\n\u001b[0m\u001b[1;32m    941\u001b[0m                 \u001b[0;32melse\u001b[0m\u001b[0;34m:\u001b[0m\u001b[0;34m\u001b[0m\u001b[0;34m\u001b[0m\u001b[0m\n\u001b[1;32m    942\u001b[0m                     \u001b[0mself\u001b[0m\u001b[0;34m.\u001b[0m\u001b[0m_output\u001b[0m\u001b[0;34m.\u001b[0m\u001b[0mextend\u001b[0m\u001b[0;34m(\u001b[0m\u001b[0mjob\u001b[0m\u001b[0;34m.\u001b[0m\u001b[0mget\u001b[0m\u001b[0;34m(\u001b[0m\u001b[0;34m)\u001b[0m\u001b[0;34m)\u001b[0m\u001b[0;34m\u001b[0m\u001b[0;34m\u001b[0m\u001b[0m\n",
      "\u001b[0;32m~/.local/lib/python3.8/site-packages/joblib/_parallel_backends.py\u001b[0m in \u001b[0;36mwrap_future_result\u001b[0;34m(future, timeout)\u001b[0m\n\u001b[1;32m    540\u001b[0m         AsyncResults.get from multiprocessing.\"\"\"\n\u001b[1;32m    541\u001b[0m         \u001b[0;32mtry\u001b[0m\u001b[0;34m:\u001b[0m\u001b[0;34m\u001b[0m\u001b[0;34m\u001b[0m\u001b[0m\n\u001b[0;32m--> 542\u001b[0;31m             \u001b[0;32mreturn\u001b[0m \u001b[0mfuture\u001b[0m\u001b[0;34m.\u001b[0m\u001b[0mresult\u001b[0m\u001b[0;34m(\u001b[0m\u001b[0mtimeout\u001b[0m\u001b[0;34m=\u001b[0m\u001b[0mtimeout\u001b[0m\u001b[0;34m)\u001b[0m\u001b[0;34m\u001b[0m\u001b[0;34m\u001b[0m\u001b[0m\n\u001b[0m\u001b[1;32m    543\u001b[0m         \u001b[0;32mexcept\u001b[0m \u001b[0mCfTimeoutError\u001b[0m \u001b[0;32mas\u001b[0m \u001b[0me\u001b[0m\u001b[0;34m:\u001b[0m\u001b[0;34m\u001b[0m\u001b[0;34m\u001b[0m\u001b[0m\n\u001b[1;32m    544\u001b[0m             \u001b[0;32mraise\u001b[0m \u001b[0mTimeoutError\u001b[0m \u001b[0;32mfrom\u001b[0m \u001b[0me\u001b[0m\u001b[0;34m\u001b[0m\u001b[0;34m\u001b[0m\u001b[0m\n",
      "\u001b[0;32m/usr/lib/python3.8/concurrent/futures/_base.py\u001b[0m in \u001b[0;36mresult\u001b[0;34m(self, timeout)\u001b[0m\n\u001b[1;32m    432\u001b[0m                 \u001b[0;32mreturn\u001b[0m \u001b[0mself\u001b[0m\u001b[0;34m.\u001b[0m\u001b[0m__get_result\u001b[0m\u001b[0;34m(\u001b[0m\u001b[0;34m)\u001b[0m\u001b[0;34m\u001b[0m\u001b[0;34m\u001b[0m\u001b[0m\n\u001b[1;32m    433\u001b[0m \u001b[0;34m\u001b[0m\u001b[0m\n\u001b[0;32m--> 434\u001b[0;31m             \u001b[0mself\u001b[0m\u001b[0;34m.\u001b[0m\u001b[0m_condition\u001b[0m\u001b[0;34m.\u001b[0m\u001b[0mwait\u001b[0m\u001b[0;34m(\u001b[0m\u001b[0mtimeout\u001b[0m\u001b[0;34m)\u001b[0m\u001b[0;34m\u001b[0m\u001b[0;34m\u001b[0m\u001b[0m\n\u001b[0m\u001b[1;32m    435\u001b[0m \u001b[0;34m\u001b[0m\u001b[0m\n\u001b[1;32m    436\u001b[0m             \u001b[0;32mif\u001b[0m \u001b[0mself\u001b[0m\u001b[0;34m.\u001b[0m\u001b[0m_state\u001b[0m \u001b[0;32min\u001b[0m \u001b[0;34m[\u001b[0m\u001b[0mCANCELLED\u001b[0m\u001b[0;34m,\u001b[0m \u001b[0mCANCELLED_AND_NOTIFIED\u001b[0m\u001b[0;34m]\u001b[0m\u001b[0;34m:\u001b[0m\u001b[0;34m\u001b[0m\u001b[0;34m\u001b[0m\u001b[0m\n",
      "\u001b[0;32m/usr/lib/python3.8/threading.py\u001b[0m in \u001b[0;36mwait\u001b[0;34m(self, timeout)\u001b[0m\n\u001b[1;32m    300\u001b[0m         \u001b[0;32mtry\u001b[0m\u001b[0;34m:\u001b[0m    \u001b[0;31m# restore state no matter what (e.g., KeyboardInterrupt)\u001b[0m\u001b[0;34m\u001b[0m\u001b[0;34m\u001b[0m\u001b[0m\n\u001b[1;32m    301\u001b[0m             \u001b[0;32mif\u001b[0m \u001b[0mtimeout\u001b[0m \u001b[0;32mis\u001b[0m \u001b[0;32mNone\u001b[0m\u001b[0;34m:\u001b[0m\u001b[0;34m\u001b[0m\u001b[0;34m\u001b[0m\u001b[0m\n\u001b[0;32m--> 302\u001b[0;31m                 \u001b[0mwaiter\u001b[0m\u001b[0;34m.\u001b[0m\u001b[0macquire\u001b[0m\u001b[0;34m(\u001b[0m\u001b[0;34m)\u001b[0m\u001b[0;34m\u001b[0m\u001b[0;34m\u001b[0m\u001b[0m\n\u001b[0m\u001b[1;32m    303\u001b[0m                 \u001b[0mgotit\u001b[0m \u001b[0;34m=\u001b[0m \u001b[0;32mTrue\u001b[0m\u001b[0;34m\u001b[0m\u001b[0;34m\u001b[0m\u001b[0m\n\u001b[1;32m    304\u001b[0m             \u001b[0;32melse\u001b[0m\u001b[0;34m:\u001b[0m\u001b[0;34m\u001b[0m\u001b[0;34m\u001b[0m\u001b[0m\n",
      "\u001b[0;31mKeyboardInterrupt\u001b[0m: "
     ]
    }
   ],
   "source": [
    "selection_model = xgb.XGBClassifier()\n",
    "param_dist = {\"max_depth\": [10,30,50],\n",
    "              \"min_child_weight\" : [1,3,6],\n",
    "              \"n_estimators\": [200],\n",
    "              \"learning_rate\": [0.05, 0.1,0.16],}\n",
    "grid_search2 = GridSearchCV(selection_model, param_grid=param_dist, cv = 3, \n",
    "                                   verbose=10, n_jobs=-1)\n",
    "grid_search2.fit(selected_X_train, y_tr)\n",
    "\n",
    "grid_search2.best_estimator_"
   ]
  },
  {
   "cell_type": "code",
   "execution_count": 261,
   "metadata": {},
   "outputs": [
    {
     "data": {
      "text/plain": [
       "(0.9876401153835618, 0.8820262184833209)"
      ]
     },
     "execution_count": 261,
     "metadata": {},
     "output_type": "execute_result"
    }
   ],
   "source": [
    "selection_model = xgb.XGBClassifier(base_score=0.5, booster='gbtree', colsample_bylevel=1,\n",
    "              colsample_bynode=1, colsample_bytree=1, gamma=0, gpu_id=-1,\n",
    "              importance_type='gain', interaction_constraints='',\n",
    "              learning_rate=0.1, max_delta_step=0, max_depth=10,\n",
    "              min_child_weight=6, monotone_constraints='()',\n",
    "              n_estimators=200, n_jobs=0, num_parallel_tree=1,\n",
    "              objective='binary:logistic', random_state=0, reg_alpha=0,\n",
    "              reg_lambda=1, scale_pos_weight=1, subsample=1,\n",
    "              tree_method='exact', validate_parameters=1, verbosity=None)\n",
    "\n",
    "selection_model.fit(selected_X_train, y_tr)\n",
    "\n",
    "auc(selection_model, selected_X_train, selected_X_test)"
   ]
  },
  {
   "cell_type": "code",
   "execution_count": 233,
   "metadata": {
    "scrolled": false
   },
   "outputs": [
    {
     "data": {
      "text/plain": [
       "array([[0.9503035 , 0.04969649],\n",
       "       [0.686244  , 0.313756  ],\n",
       "       [0.09427595, 0.90572405],\n",
       "       ...,\n",
       "       [0.99699175, 0.00300827],\n",
       "       [0.99885434, 0.00114566],\n",
       "       [0.7920189 , 0.20798114]], dtype=float32)"
      ]
     },
     "execution_count": 233,
     "metadata": {},
     "output_type": "execute_result"
    }
   ],
   "source": [
    "selected_y_pred = selection_model.predict_proba(selected_X_test)\n",
    "selected_y_pred"
   ]
  },
  {
   "cell_type": "markdown",
   "metadata": {},
   "source": [
    "# LigthGBM"
   ]
  },
  {
   "cell_type": "code",
   "execution_count": 235,
   "metadata": {
    "scrolled": true
   },
   "outputs": [],
   "source": [
    "import lightgbm as lgb\n",
    "from sklearn import metrics\n",
    "\n",
    "def auc2(m, train, test): \n",
    "    return (metrics.roc_auc_score(y_tr,m.predict(train)),\n",
    "                            metrics.roc_auc_score(y_te,m.predict(test)))"
   ]
  },
  {
   "cell_type": "code",
   "execution_count": null,
   "metadata": {},
   "outputs": [],
   "source": [
    "lg = lgb.LGBMClassifier(silent=False)\n",
    "param_dist = {\"max_depth\": [25,50, 75],\n",
    "              \"learning_rate\" : [0.01,0.05,0.1],\n",
    "              \"num_leaves\": [300,900,1200],\n",
    "              \"n_estimators\": [200]\n",
    "             }\n",
    "grid_search = GridSearchCV(lg, n_jobs=-1, param_grid=param_dist, cv = 3, scoring=\"roc_auc\", verbose=5)\n",
    "grid_search.fit(selected_X_train, y_tr)\n",
    "grid_search.best_estimator_"
   ]
  },
  {
   "cell_type": "code",
   "execution_count": null,
   "metadata": {},
   "outputs": [],
   "source": [
    "\"\"\"\n",
    "LGBMClassifier(boosting_type='gbdt', class_weight=None, colsample_bytree=1.0,\n",
    "               importance_type='split', learning_rate=0.05, max_depth=50,\n",
    "               min_child_samples=20, min_child_weight=0.001, min_split_gain=0.0,\n",
    "               n_estimators=200, n_jobs=-1, num_leaves=300, objective=None,\n",
    "               random_state=None, reg_alpha=0.0, reg_lambda=0.0, silent=False,\n",
    "               subsample=1.0, subsample_for_bin=200000, subsample_freq=0)\n",
    "\"\"\""
   ]
  },
  {
   "cell_type": "code",
   "execution_count": 236,
   "metadata": {
    "scrolled": true
   },
   "outputs": [
    {
     "name": "stderr",
     "output_type": "stream",
     "text": [
      "/home/anja/.local/lib/python3.8/site-packages/lightgbm/engine.py:151: UserWarning: Found `n_estimators` in params. Will use it instead of argument\n",
      "  warnings.warn(\"Found `{}` in params. Will use it instead of argument\".format(alias))\n"
     ]
    },
    {
     "name": "stdout",
     "output_type": "stream",
     "text": [
      "[LightGBM] [Warning] Auto-choosing row-wise multi-threading, the overhead of testing was 0.000865 seconds.\n",
      "You can set `force_row_wise=true` to remove the overhead.\n",
      "And if memory is not enough, you can set `force_col_wise=true`.\n",
      "[LightGBM] [Info] Total Bins 2264\n",
      "[LightGBM] [Info] Number of data points in the train set: 33158, number of used features: 52\n",
      "[LightGBM] [Info] Start training from score 0.221907\n"
     ]
    },
    {
     "data": {
      "text/plain": [
       "(0.9996593961958824, 0.875140598391603)"
      ]
     },
     "execution_count": 236,
     "metadata": {},
     "output_type": "execute_result"
    }
   ],
   "source": [
    "d_train = lgb.Dataset(selected_X_train, label=y_tr)\n",
    "params = {\"max_depth\": 50, \"learning_rate\" : 0.05, \"num_leaves\": 300,  \"n_estimators\": 300}\n",
    "\n",
    "# Without Categorical Features\n",
    "model2 = lgb.train(params, d_train)\n",
    "auc2(model2, selected_X_train, selected_X_test)"
   ]
  },
  {
   "cell_type": "markdown",
   "metadata": {},
   "source": [
    "# CatBoost"
   ]
  },
  {
   "cell_type": "code",
   "execution_count": null,
   "metadata": {},
   "outputs": [],
   "source": [
    "import catboost as cb\n",
    "\n",
    "def auc3(m, train, test): \n",
    "    return (metrics.roc_auc_score(y_tr,m.predict_proba(train)[:,1]),\n",
    "                            metrics.roc_auc_score(y_te,m.predict_proba(test)[:,1]))\n",
    "\n",
    "params = {'depth': [4, 7, 10],\n",
    "          'learning_rate' : [0.03, 0.1, 0.15],\n",
    "         'l2_leaf_reg': [1,4,9],\n",
    "         'iterations': [300]}\n",
    "catboost = cb.CatBoostClassifier()\n",
    "cb_model = GridSearchCV(catboost, params, scoring=\"roc_auc\", cv = 3)\n",
    "cb_model.fit(selected_X_train, y_tr)"
   ]
  },
  {
   "cell_type": "code",
   "execution_count": null,
   "metadata": {},
   "outputs": [],
   "source": [
    "cb_model.best_params_"
   ]
  },
  {
   "cell_type": "code",
   "execution_count": null,
   "metadata": {},
   "outputs": [],
   "source": [
    "clf = cb.CatBoostClassifier(eval_metric=\"AUC\", depth=7, iterations= 300, l2_leaf_reg= 9, learning_rate= 0.1)\n",
    "clf.fit(selected_X_train,y_tr)"
   ]
  },
  {
   "cell_type": "code",
   "execution_count": null,
   "metadata": {},
   "outputs": [],
   "source": [
    "auc(clf, selected_X_train, X_te)"
   ]
  }
 ],
 "metadata": {
  "kernelspec": {
   "display_name": "Python 3",
   "language": "python",
   "name": "python3"
  },
  "language_info": {
   "codemirror_mode": {
    "name": "ipython",
    "version": 3
   },
   "file_extension": ".py",
   "mimetype": "text/x-python",
   "name": "python",
   "nbconvert_exporter": "python",
   "pygments_lexer": "ipython3",
   "version": "3.8.5"
  }
 },
 "nbformat": 4,
 "nbformat_minor": 4
}
