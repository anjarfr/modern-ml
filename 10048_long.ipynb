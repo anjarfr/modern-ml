{
 "cells": [
  {
   "cell_type": "markdown",
   "metadata": {},
   "source": [
    "# Load the data"
   ]
  },
  {
   "cell_type": "code",
   "execution_count": 3,
   "metadata": {},
   "outputs": [],
   "source": [
    "#Processing\n",
    "import pandas as pd\n",
    "import numpy as np\n",
    "from sklearn import model_selection\n",
    "from sklearn.model_selection import train_test_split\n",
    "from sklearn.preprocessing import RobustScaler\n",
    "from sklearn.preprocessing import StandardScaler\n",
    "from sklearn.manifold import TSNE\n",
    "from sklearn.cluster import KMeans\n",
    "from sklearn.decomposition import PCA, TruncatedSVD, FastICA\n",
    "from sklearn.model_selection import KFold, cross_val_score\n",
    "from sklearn.random_projection import GaussianRandomProjection, SparseRandomProjection\n",
    "from sklearn.preprocessing import normalize\n",
    "from sklearn.manifold import TSNE\n",
    "from sklearn.metrics import roc_auc_score\n",
    "\n",
    "#Plotting\n",
    "import matplotlib.pyplot as plt\n",
    "import seaborn as sns\n",
    "from scipy.stats import skew"
   ]
  },
  {
   "cell_type": "code",
   "execution_count": 4,
   "metadata": {},
   "outputs": [],
   "source": [
    "train = pd.read_csv('data/challenge2_train.csv')\n",
    "test = pd.read_csv('data/challenge2_test.csv')"
   ]
  },
  {
   "cell_type": "markdown",
   "metadata": {},
   "source": [
    "# Data Exploration and Preparation\n",
    "\n",
    "## 1. Variable Identification\n",
    "First, we want to know what kind of data we are dealing with by identifying the variables."
   ]
  },
  {
   "cell_type": "code",
   "execution_count": 5,
   "metadata": {
    "scrolled": false
   },
   "outputs": [
    {
     "name": "stdout",
     "output_type": "stream",
     "text": [
      "Index(['id', 'target', 'f0', 'f1', 'f2', 'f3', 'f4', 'f5', 'f6', 'f7', 'f8',\n",
      "       'f9', 'f10', 'f11', 'f12', 'f13', 'f14', 'f15', 'f16', 'f17', 'f18',\n",
      "       'f19', 'f20', 'f21', 'f22', 'f23', 'f24'],\n",
      "      dtype='object')\n",
      "Index(['id', 'f0', 'f1', 'f2', 'f3', 'f4', 'f5', 'f6', 'f7', 'f8', 'f9', 'f10',\n",
      "       'f11', 'f12', 'f13', 'f14', 'f15', 'f16', 'f17', 'f18', 'f19', 'f20',\n",
      "       'f21', 'f22', 'f23', 'f24'],\n",
      "      dtype='object')\n"
     ]
    }
   ],
   "source": [
    "print(train.columns)\n",
    "print(test.columns)"
   ]
  },
  {
   "cell_type": "code",
   "execution_count": 6,
   "metadata": {
    "scrolled": true
   },
   "outputs": [
    {
     "name": "stdout",
     "output_type": "stream",
     "text": [
      "Size of training data:  (50000, 27)\n",
      "Size of test data:  (50000, 26)\n"
     ]
    }
   ],
   "source": [
    "print('Size of training data: ', train.shape)\n",
    "print('Size of test data: ', test.shape)"
   ]
  },
  {
   "cell_type": "markdown",
   "metadata": {},
   "source": [
    "We have 25 features available as input to make a prediction, and 50 000 instances in both training and test set. We also have a target class in the training data, and IDs for every instance in the data."
   ]
  },
  {
   "cell_type": "code",
   "execution_count": 7,
   "metadata": {
    "scrolled": true
   },
   "outputs": [
    {
     "name": "stdout",
     "output_type": "stream",
     "text": [
      "<class 'pandas.core.frame.DataFrame'>\n",
      "RangeIndex: 50000 entries, 0 to 49999\n",
      "Data columns (total 27 columns):\n",
      " #   Column  Non-Null Count  Dtype  \n",
      "---  ------  --------------  -----  \n",
      " 0   id      50000 non-null  int64  \n",
      " 1   target  50000 non-null  int64  \n",
      " 2   f0      45122 non-null  float64\n",
      " 3   f1      50000 non-null  int64  \n",
      " 4   f2      48816 non-null  float64\n",
      " 5   f3      49677 non-null  float64\n",
      " 6   f4      46621 non-null  object \n",
      " 7   f5      26130 non-null  float64\n",
      " 8   f6      46648 non-null  float64\n",
      " 9   f7      49517 non-null  float64\n",
      " 10  f8      48540 non-null  object \n",
      " 11  f9      49497 non-null  float64\n",
      " 12  f10     28585 non-null  float64\n",
      " 13  f11     49894 non-null  float64\n",
      " 14  f12     48487 non-null  object \n",
      " 15  f13     49497 non-null  float64\n",
      " 16  f14     29937 non-null  float64\n",
      " 17  f15     49057 non-null  float64\n",
      " 18  f16     49020 non-null  float64\n",
      " 19  f17     48630 non-null  object \n",
      " 20  f18     48749 non-null  float64\n",
      " 21  f19     45121 non-null  float64\n",
      " 22  f20     31245 non-null  float64\n",
      " 23  f21     46416 non-null  object \n",
      " 24  f22     49746 non-null  float64\n",
      " 25  f23     25160 non-null  float64\n",
      " 26  f24     49398 non-null  float64\n",
      "dtypes: float64(19), int64(3), object(5)\n",
      "memory usage: 10.3+ MB\n",
      "<class 'pandas.core.frame.DataFrame'>\n",
      "RangeIndex: 50000 entries, 0 to 49999\n",
      "Data columns (total 26 columns):\n",
      " #   Column  Non-Null Count  Dtype  \n",
      "---  ------  --------------  -----  \n",
      " 0   id      50000 non-null  int64  \n",
      " 1   f0      45095 non-null  float64\n",
      " 2   f1      50000 non-null  int64  \n",
      " 3   f2      48828 non-null  float64\n",
      " 4   f3      49677 non-null  float64\n",
      " 5   f4      46797 non-null  object \n",
      " 6   f5      25972 non-null  float64\n",
      " 7   f6      46814 non-null  float64\n",
      " 8   f7      49534 non-null  float64\n",
      " 9   f8      48473 non-null  object \n",
      " 10  f9      49517 non-null  float64\n",
      " 11  f10     28499 non-null  float64\n",
      " 12  f11     49881 non-null  float64\n",
      " 13  f12     48543 non-null  object \n",
      " 14  f13     49517 non-null  float64\n",
      " 15  f14     29943 non-null  float64\n",
      " 16  f15     49108 non-null  float64\n",
      " 17  f16     49062 non-null  float64\n",
      " 18  f17     48728 non-null  object \n",
      " 19  f18     48720 non-null  float64\n",
      " 20  f19     45116 non-null  float64\n",
      " 21  f20     31030 non-null  float64\n",
      " 22  f21     46481 non-null  object \n",
      " 23  f22     49797 non-null  float64\n",
      " 24  f23     25047 non-null  float64\n",
      " 25  f24     49337 non-null  float64\n",
      "dtypes: float64(19), int64(2), object(5)\n",
      "memory usage: 9.9+ MB\n"
     ]
    }
   ],
   "source": [
    "train.info()\n",
    "test.info()"
   ]
  },
  {
   "cell_type": "code",
   "execution_count": 8,
   "metadata": {},
   "outputs": [
    {
     "data": {
      "text/html": [
       "<div>\n",
       "<style scoped>\n",
       "    .dataframe tbody tr th:only-of-type {\n",
       "        vertical-align: middle;\n",
       "    }\n",
       "\n",
       "    .dataframe tbody tr th {\n",
       "        vertical-align: top;\n",
       "    }\n",
       "\n",
       "    .dataframe thead th {\n",
       "        text-align: right;\n",
       "    }\n",
       "</style>\n",
       "<table border=\"1\" class=\"dataframe\">\n",
       "  <thead>\n",
       "    <tr style=\"text-align: right;\">\n",
       "      <th></th>\n",
       "      <th>id</th>\n",
       "      <th>target</th>\n",
       "      <th>f0</th>\n",
       "      <th>f1</th>\n",
       "      <th>f2</th>\n",
       "      <th>f3</th>\n",
       "      <th>f4</th>\n",
       "      <th>f5</th>\n",
       "      <th>f6</th>\n",
       "      <th>f7</th>\n",
       "      <th>...</th>\n",
       "      <th>f15</th>\n",
       "      <th>f16</th>\n",
       "      <th>f17</th>\n",
       "      <th>f18</th>\n",
       "      <th>f19</th>\n",
       "      <th>f20</th>\n",
       "      <th>f21</th>\n",
       "      <th>f22</th>\n",
       "      <th>f23</th>\n",
       "      <th>f24</th>\n",
       "    </tr>\n",
       "  </thead>\n",
       "  <tbody>\n",
       "    <tr>\n",
       "      <th>0</th>\n",
       "      <td>0</td>\n",
       "      <td>0</td>\n",
       "      <td>1013.1</td>\n",
       "      <td>0</td>\n",
       "      <td>5.0190</td>\n",
       "      <td>26.1</td>\n",
       "      <td>bbd</td>\n",
       "      <td>11.1</td>\n",
       "      <td>33.0</td>\n",
       "      <td>11.0</td>\n",
       "      <td>...</td>\n",
       "      <td>19.0</td>\n",
       "      <td>27.8</td>\n",
       "      <td>bbd</td>\n",
       "      <td>6.0</td>\n",
       "      <td>1008.9</td>\n",
       "      <td>1.0</td>\n",
       "      <td>nd</td>\n",
       "      <td>17.4</td>\n",
       "      <td>61.0</td>\n",
       "      <td>63.0</td>\n",
       "    </tr>\n",
       "    <tr>\n",
       "      <th>1</th>\n",
       "      <td>1</td>\n",
       "      <td>0</td>\n",
       "      <td>1010.2</td>\n",
       "      <td>1</td>\n",
       "      <td>5.0142</td>\n",
       "      <td>10.4</td>\n",
       "      <td>n</td>\n",
       "      <td>NaN</td>\n",
       "      <td>46.0</td>\n",
       "      <td>17.0</td>\n",
       "      <td>...</td>\n",
       "      <td>22.0</td>\n",
       "      <td>12.7</td>\n",
       "      <td>n</td>\n",
       "      <td>12.0</td>\n",
       "      <td>1012.4</td>\n",
       "      <td>5.0</td>\n",
       "      <td>nx</td>\n",
       "      <td>6.8</td>\n",
       "      <td>55.0</td>\n",
       "      <td>80.0</td>\n",
       "    </tr>\n",
       "    <tr>\n",
       "      <th>2</th>\n",
       "      <td>2</td>\n",
       "      <td>0</td>\n",
       "      <td>1014.4</td>\n",
       "      <td>2</td>\n",
       "      <td>5.0280</td>\n",
       "      <td>12.3</td>\n",
       "      <td>xnx</td>\n",
       "      <td>NaN</td>\n",
       "      <td>31.0</td>\n",
       "      <td>13.0</td>\n",
       "      <td>...</td>\n",
       "      <td>9.0</td>\n",
       "      <td>13.0</td>\n",
       "      <td>nnd</td>\n",
       "      <td>7.0</td>\n",
       "      <td>1016.1</td>\n",
       "      <td>NaN</td>\n",
       "      <td>nx</td>\n",
       "      <td>10.1</td>\n",
       "      <td>61.0</td>\n",
       "      <td>70.0</td>\n",
       "    </tr>\n",
       "    <tr>\n",
       "      <th>3</th>\n",
       "      <td>3</td>\n",
       "      <td>0</td>\n",
       "      <td>1019.2</td>\n",
       "      <td>3</td>\n",
       "      <td>5.0335</td>\n",
       "      <td>23.0</td>\n",
       "      <td>nx</td>\n",
       "      <td>11.6</td>\n",
       "      <td>41.0</td>\n",
       "      <td>9.0</td>\n",
       "      <td>...</td>\n",
       "      <td>17.0</td>\n",
       "      <td>32.3</td>\n",
       "      <td>nx</td>\n",
       "      <td>10.0</td>\n",
       "      <td>1016.6</td>\n",
       "      <td>1.0</td>\n",
       "      <td>dnd</td>\n",
       "      <td>14.4</td>\n",
       "      <td>NaN</td>\n",
       "      <td>40.0</td>\n",
       "    </tr>\n",
       "    <tr>\n",
       "      <th>4</th>\n",
       "      <td>4</td>\n",
       "      <td>0</td>\n",
       "      <td>1027.6</td>\n",
       "      <td>4</td>\n",
       "      <td>5.0129</td>\n",
       "      <td>7.3</td>\n",
       "      <td>d</td>\n",
       "      <td>7.3</td>\n",
       "      <td>28.0</td>\n",
       "      <td>15.0</td>\n",
       "      <td>...</td>\n",
       "      <td>13.0</td>\n",
       "      <td>13.7</td>\n",
       "      <td>dnd</td>\n",
       "      <td>7.0</td>\n",
       "      <td>1024.4</td>\n",
       "      <td>7.0</td>\n",
       "      <td>dbd</td>\n",
       "      <td>6.8</td>\n",
       "      <td>47.0</td>\n",
       "      <td>92.0</td>\n",
       "    </tr>\n",
       "  </tbody>\n",
       "</table>\n",
       "<p>5 rows × 27 columns</p>\n",
       "</div>"
      ],
      "text/plain": [
       "   id  target      f0  f1      f2    f3   f4    f5    f6    f7  ...   f15  \\\n",
       "0   0       0  1013.1   0  5.0190  26.1  bbd  11.1  33.0  11.0  ...  19.0   \n",
       "1   1       0  1010.2   1  5.0142  10.4    n   NaN  46.0  17.0  ...  22.0   \n",
       "2   2       0  1014.4   2  5.0280  12.3  xnx   NaN  31.0  13.0  ...   9.0   \n",
       "3   3       0  1019.2   3  5.0335  23.0   nx  11.6  41.0   9.0  ...  17.0   \n",
       "4   4       0  1027.6   4  5.0129   7.3    d   7.3  28.0  15.0  ...  13.0   \n",
       "\n",
       "    f16  f17   f18     f19  f20  f21   f22   f23   f24  \n",
       "0  27.8  bbd   6.0  1008.9  1.0   nd  17.4  61.0  63.0  \n",
       "1  12.7    n  12.0  1012.4  5.0   nx   6.8  55.0  80.0  \n",
       "2  13.0  nnd   7.0  1016.1  NaN   nx  10.1  61.0  70.0  \n",
       "3  32.3   nx  10.0  1016.6  1.0  dnd  14.4   NaN  40.0  \n",
       "4  13.7  dnd   7.0  1024.4  7.0  dbd   6.8  47.0  92.0  \n",
       "\n",
       "[5 rows x 27 columns]"
      ]
     },
     "execution_count": 8,
     "metadata": {},
     "output_type": "execute_result"
    }
   ],
   "source": [
    "train.head()"
   ]
  },
  {
   "cell_type": "code",
   "execution_count": 9,
   "metadata": {},
   "outputs": [
    {
     "data": {
      "text/html": [
       "<div>\n",
       "<style scoped>\n",
       "    .dataframe tbody tr th:only-of-type {\n",
       "        vertical-align: middle;\n",
       "    }\n",
       "\n",
       "    .dataframe tbody tr th {\n",
       "        vertical-align: top;\n",
       "    }\n",
       "\n",
       "    .dataframe thead th {\n",
       "        text-align: right;\n",
       "    }\n",
       "</style>\n",
       "<table border=\"1\" class=\"dataframe\">\n",
       "  <thead>\n",
       "    <tr style=\"text-align: right;\">\n",
       "      <th></th>\n",
       "      <th>id</th>\n",
       "      <th>f0</th>\n",
       "      <th>f1</th>\n",
       "      <th>f2</th>\n",
       "      <th>f3</th>\n",
       "      <th>f4</th>\n",
       "      <th>f5</th>\n",
       "      <th>f6</th>\n",
       "      <th>f7</th>\n",
       "      <th>f8</th>\n",
       "      <th>...</th>\n",
       "      <th>f15</th>\n",
       "      <th>f16</th>\n",
       "      <th>f17</th>\n",
       "      <th>f18</th>\n",
       "      <th>f19</th>\n",
       "      <th>f20</th>\n",
       "      <th>f21</th>\n",
       "      <th>f22</th>\n",
       "      <th>f23</th>\n",
       "      <th>f24</th>\n",
       "    </tr>\n",
       "  </thead>\n",
       "  <tbody>\n",
       "    <tr>\n",
       "      <th>0</th>\n",
       "      <td>50000</td>\n",
       "      <td>1024.4</td>\n",
       "      <td>15</td>\n",
       "      <td>5.0256</td>\n",
       "      <td>6.6</td>\n",
       "      <td>xbx</td>\n",
       "      <td>0.8</td>\n",
       "      <td>20.0</td>\n",
       "      <td>2.0</td>\n",
       "      <td>o</td>\n",
       "      <td>...</td>\n",
       "      <td>13.0</td>\n",
       "      <td>11.4</td>\n",
       "      <td>xbx</td>\n",
       "      <td>0.0</td>\n",
       "      <td>1023.3</td>\n",
       "      <td>8.0</td>\n",
       "      <td>b</td>\n",
       "      <td>5.1</td>\n",
       "      <td>62.0</td>\n",
       "      <td>88.0</td>\n",
       "    </tr>\n",
       "    <tr>\n",
       "      <th>1</th>\n",
       "      <td>50001</td>\n",
       "      <td>1029.0</td>\n",
       "      <td>3</td>\n",
       "      <td>5.0289</td>\n",
       "      <td>5.6</td>\n",
       "      <td>nx</td>\n",
       "      <td>9.0</td>\n",
       "      <td>28.0</td>\n",
       "      <td>0.0</td>\n",
       "      <td>h</td>\n",
       "      <td>...</td>\n",
       "      <td>15.0</td>\n",
       "      <td>14.6</td>\n",
       "      <td>nnx</td>\n",
       "      <td>9.0</td>\n",
       "      <td>1025.9</td>\n",
       "      <td>1.0</td>\n",
       "      <td>NaN</td>\n",
       "      <td>0.0</td>\n",
       "      <td>42.0</td>\n",
       "      <td>89.0</td>\n",
       "    </tr>\n",
       "    <tr>\n",
       "      <th>2</th>\n",
       "      <td>50002</td>\n",
       "      <td>1016.7</td>\n",
       "      <td>10</td>\n",
       "      <td>5.0081</td>\n",
       "      <td>22.3</td>\n",
       "      <td>d</td>\n",
       "      <td>NaN</td>\n",
       "      <td>31.0</td>\n",
       "      <td>6.0</td>\n",
       "      <td>k</td>\n",
       "      <td>...</td>\n",
       "      <td>22.0</td>\n",
       "      <td>33.1</td>\n",
       "      <td>d</td>\n",
       "      <td>2.0</td>\n",
       "      <td>1012.3</td>\n",
       "      <td>NaN</td>\n",
       "      <td>bd</td>\n",
       "      <td>14.0</td>\n",
       "      <td>37.0</td>\n",
       "      <td>70.0</td>\n",
       "    </tr>\n",
       "    <tr>\n",
       "      <th>3</th>\n",
       "      <td>50003</td>\n",
       "      <td>1009.3</td>\n",
       "      <td>33</td>\n",
       "      <td>5.0168</td>\n",
       "      <td>11.3</td>\n",
       "      <td>bd</td>\n",
       "      <td>NaN</td>\n",
       "      <td>31.0</td>\n",
       "      <td>11.0</td>\n",
       "      <td>a</td>\n",
       "      <td>...</td>\n",
       "      <td>9.0</td>\n",
       "      <td>15.8</td>\n",
       "      <td>dbd</td>\n",
       "      <td>7.0</td>\n",
       "      <td>1005.3</td>\n",
       "      <td>8.0</td>\n",
       "      <td>dnd</td>\n",
       "      <td>9.8</td>\n",
       "      <td>NaN</td>\n",
       "      <td>96.0</td>\n",
       "    </tr>\n",
       "    <tr>\n",
       "      <th>4</th>\n",
       "      <td>50004</td>\n",
       "      <td>1027.1</td>\n",
       "      <td>37</td>\n",
       "      <td>5.0205</td>\n",
       "      <td>12.6</td>\n",
       "      <td>bx</td>\n",
       "      <td>12.6</td>\n",
       "      <td>22.0</td>\n",
       "      <td>6.0</td>\n",
       "      <td>d</td>\n",
       "      <td>...</td>\n",
       "      <td>7.0</td>\n",
       "      <td>21.1</td>\n",
       "      <td>nx</td>\n",
       "      <td>7.0</td>\n",
       "      <td>1024.5</td>\n",
       "      <td>1.0</td>\n",
       "      <td>bd</td>\n",
       "      <td>3.0</td>\n",
       "      <td>NaN</td>\n",
       "      <td>69.0</td>\n",
       "    </tr>\n",
       "  </tbody>\n",
       "</table>\n",
       "<p>5 rows × 26 columns</p>\n",
       "</div>"
      ],
      "text/plain": [
       "      id      f0  f1      f2    f3   f4    f5    f6    f7 f8  ...   f15   f16  \\\n",
       "0  50000  1024.4  15  5.0256   6.6  xbx   0.8  20.0   2.0  o  ...  13.0  11.4   \n",
       "1  50001  1029.0   3  5.0289   5.6   nx   9.0  28.0   0.0  h  ...  15.0  14.6   \n",
       "2  50002  1016.7  10  5.0081  22.3    d   NaN  31.0   6.0  k  ...  22.0  33.1   \n",
       "3  50003  1009.3  33  5.0168  11.3   bd   NaN  31.0  11.0  a  ...   9.0  15.8   \n",
       "4  50004  1027.1  37  5.0205  12.6   bx  12.6  22.0   6.0  d  ...   7.0  21.1   \n",
       "\n",
       "   f17  f18     f19  f20  f21   f22   f23   f24  \n",
       "0  xbx  0.0  1023.3  8.0    b   5.1  62.0  88.0  \n",
       "1  nnx  9.0  1025.9  1.0  NaN   0.0  42.0  89.0  \n",
       "2    d  2.0  1012.3  NaN   bd  14.0  37.0  70.0  \n",
       "3  dbd  7.0  1005.3  8.0  dnd   9.8   NaN  96.0  \n",
       "4   nx  7.0  1024.5  1.0   bd   3.0   NaN  69.0  \n",
       "\n",
       "[5 rows x 26 columns]"
      ]
     },
     "execution_count": 9,
     "metadata": {},
     "output_type": "execute_result"
    }
   ],
   "source": [
    "test.head()"
   ]
  },
  {
   "cell_type": "code",
   "execution_count": 10,
   "metadata": {
    "scrolled": false
   },
   "outputs": [
    {
     "name": "stdout",
     "output_type": "stream",
     "text": [
      "Number of target classes: 2\n"
     ]
    },
    {
     "data": {
      "text/plain": [
       "0     0\n",
       "1     0\n",
       "2     0\n",
       "3     0\n",
       "4     0\n",
       "5     0\n",
       "6     1\n",
       "7     1\n",
       "8     0\n",
       "9     0\n",
       "10    0\n",
       "11    0\n",
       "12    0\n",
       "13    0\n",
       "14    1\n",
       "Name: target, dtype: int64"
      ]
     },
     "execution_count": 10,
     "metadata": {},
     "output_type": "execute_result"
    }
   ],
   "source": [
    "print('Number of target classes:', train['target'].nunique())\n",
    "train['target'].head(15)"
   ]
  },
  {
   "cell_type": "markdown",
   "metadata": {},
   "source": [
    "So, the target class is a binary class, containing 0 or 1 values. I don't know what they represent, but the task is thus to predict whether the instances in the test data is either of class 0 or 1.\n",
    "\n",
    "We also see that the data includes some integer types, some float types and some object types which contain string values. Thus we have both numeric and categorical values in the data. The integer values can potentially be counts - or categorical if the number of unique integer values are within a small range.\n",
    "\n",
    "We want to figure out how many categories each of these features include. Let's take a better look at each feature."
   ]
  },
  {
   "cell_type": "markdown",
   "metadata": {},
   "source": [
    "## 2. Univariate Analysis"
   ]
  },
  {
   "cell_type": "code",
   "execution_count": 11,
   "metadata": {
    "scrolled": true
   },
   "outputs": [
    {
     "data": {
      "text/plain": [
       "id        50000\n",
       "target        2\n",
       "f0          505\n",
       "f1           49\n",
       "f2          413\n",
       "f3          421\n",
       "f4           16\n",
       "f5          143\n",
       "f6           62\n",
       "f7           41\n",
       "f8           15\n",
       "f9            2\n",
       "f10         278\n",
       "f11         478\n",
       "f12        1206\n",
       "f13         486\n",
       "f14          10\n",
       "f15          41\n",
       "f16         476\n",
       "f17          16\n",
       "f18          14\n",
       "f19         495\n",
       "f20          10\n",
       "f21          16\n",
       "f22         372\n",
       "f23          30\n",
       "f24         100\n",
       "dtype: int64"
      ]
     },
     "execution_count": 11,
     "metadata": {},
     "output_type": "execute_result"
    }
   ],
   "source": [
    "train.nunique(axis=0)"
   ]
  },
  {
   "cell_type": "code",
   "execution_count": 12,
   "metadata": {
    "scrolled": true
   },
   "outputs": [
    {
     "data": {
      "text/plain": [
       "id     50000\n",
       "f0       508\n",
       "f1        49\n",
       "f2       412\n",
       "f3       418\n",
       "f4        16\n",
       "f5       145\n",
       "f6        64\n",
       "f7        39\n",
       "f8        15\n",
       "f9         2\n",
       "f10      271\n",
       "f11      478\n",
       "f12     1211\n",
       "f13      475\n",
       "f14        9\n",
       "f15       40\n",
       "f16      474\n",
       "f17       16\n",
       "f18       14\n",
       "f19      506\n",
       "f20        9\n",
       "f21       16\n",
       "f22      367\n",
       "f23       30\n",
       "f24      101\n",
       "dtype: int64"
      ]
     },
     "execution_count": 12,
     "metadata": {},
     "output_type": "execute_result"
    }
   ],
   "source": [
    "test.nunique(axis=0)"
   ]
  },
  {
   "cell_type": "code",
   "execution_count": 13,
   "metadata": {},
   "outputs": [
    {
     "name": "stdout",
     "output_type": "stream",
     "text": [
      "<class 'pandas.core.frame.DataFrame'>\n",
      "RangeIndex: 50000 entries, 0 to 49999\n",
      "Data columns (total 27 columns):\n",
      " #   Column  Non-Null Count  Dtype  \n",
      "---  ------  --------------  -----  \n",
      " 0   id      50000 non-null  int64  \n",
      " 1   target  50000 non-null  int64  \n",
      " 2   f0      45122 non-null  float64\n",
      " 3   f1      50000 non-null  int64  \n",
      " 4   f2      48816 non-null  float64\n",
      " 5   f3      49677 non-null  float64\n",
      " 6   f4      46621 non-null  object \n",
      " 7   f5      26130 non-null  float64\n",
      " 8   f6      46648 non-null  float64\n",
      " 9   f7      49517 non-null  float64\n",
      " 10  f8      48540 non-null  object \n",
      " 11  f9      49497 non-null  float64\n",
      " 12  f10     28585 non-null  float64\n",
      " 13  f11     49894 non-null  float64\n",
      " 14  f12     48487 non-null  object \n",
      " 15  f13     49497 non-null  float64\n",
      " 16  f14     29937 non-null  float64\n",
      " 17  f15     49057 non-null  float64\n",
      " 18  f16     49020 non-null  float64\n",
      " 19  f17     48630 non-null  object \n",
      " 20  f18     48749 non-null  float64\n",
      " 21  f19     45121 non-null  float64\n",
      " 22  f20     31245 non-null  float64\n",
      " 23  f21     46416 non-null  object \n",
      " 24  f22     49746 non-null  float64\n",
      " 25  f23     25160 non-null  float64\n",
      " 26  f24     49398 non-null  float64\n",
      "dtypes: float64(19), int64(3), object(5)\n",
      "memory usage: 10.3+ MB\n"
     ]
    }
   ],
   "source": [
    "train.info()"
   ]
  },
  {
   "cell_type": "markdown",
   "metadata": {},
   "source": [
    "Seems like most of the categorical values have 16 unique categories, but f8 has 15 and f12 has 1206. Also worth noting that some of the integer types include only 10 unique values in the training data - but 9 in the test data. These could be categorical values with unseen values in the test data."
   ]
  },
  {
   "cell_type": "code",
   "execution_count": 14,
   "metadata": {
    "scrolled": false
   },
   "outputs": [
    {
     "data": {
      "text/plain": [
       "0    be42001f3\n",
       "1    3aad93cab\n",
       "2    90116a97d\n",
       "3    dc4ee566b\n",
       "4    f09cc205f\n",
       "Name: f12, dtype: object"
      ]
     },
     "execution_count": 14,
     "metadata": {},
     "output_type": "execute_result"
    }
   ],
   "source": [
    "train['f12'].head()"
   ]
  },
  {
   "cell_type": "code",
   "execution_count": 15,
   "metadata": {},
   "outputs": [
    {
     "data": {
      "text/plain": [
       "0    0.0\n",
       "1    0.0\n",
       "2    1.0\n",
       "3    0.0\n",
       "4    1.0\n",
       "Name: f9, dtype: float64"
      ]
     },
     "execution_count": 15,
     "metadata": {},
     "output_type": "execute_result"
    }
   ],
   "source": [
    "train['f9'].head()"
   ]
  },
  {
   "cell_type": "markdown",
   "metadata": {},
   "source": [
    "The `f12` feature is hex values - and as it includes over 1200 unique values we can treat these as continuous values and convert them to float. It is also worth noting that f9 values are binary so this feature represents a variable which is either true or false."
   ]
  },
  {
   "cell_type": "code",
   "execution_count": 16,
   "metadata": {},
   "outputs": [],
   "source": [
    "# Define which columns include categorical data\n",
    "cat_cols = ['f4', 'f8', 'f17', 'f21']\n",
    "\n",
    "# Columns containing hex values\n",
    "hex_col = 'f12'\n",
    "\n",
    "bin_col = 'f9'"
   ]
  },
  {
   "cell_type": "markdown",
   "metadata": {},
   "source": [
    "Let's convert the hex values to float values, and handle the categorical data later."
   ]
  },
  {
   "cell_type": "code",
   "execution_count": 17,
   "metadata": {},
   "outputs": [],
   "source": [
    "train['f12_dec'] = train['f12'].dropna().astype(str).apply(lambda x: int(x, 16))\n",
    "test['f12_dec'] = test['f12'].dropna().astype(str).apply(lambda x: int(x, 16))"
   ]
  },
  {
   "cell_type": "markdown",
   "metadata": {},
   "source": [
    "We will drop the hex values later."
   ]
  },
  {
   "cell_type": "markdown",
   "metadata": {},
   "source": [
    "### Missing values of features"
   ]
  },
  {
   "cell_type": "code",
   "execution_count": 18,
   "metadata": {
    "scrolled": true
   },
   "outputs": [
    {
     "data": {
      "text/plain": [
       "id             0\n",
       "target         0\n",
       "f0          4878\n",
       "f1             0\n",
       "f2          1184\n",
       "f3           323\n",
       "f4          3379\n",
       "f5         23870\n",
       "f6          3352\n",
       "f7           483\n",
       "f8          1460\n",
       "f9           503\n",
       "f10        21415\n",
       "f11          106\n",
       "f12         1513\n",
       "f13          503\n",
       "f14        20063\n",
       "f15          943\n",
       "f16          980\n",
       "f17         1370\n",
       "f18         1251\n",
       "f19         4879\n",
       "f20        18755\n",
       "f21         3584\n",
       "f22          254\n",
       "f23        24840\n",
       "f24          602\n",
       "f12_dec     1513\n",
       "dtype: int64"
      ]
     },
     "execution_count": 18,
     "metadata": {},
     "output_type": "execute_result"
    }
   ],
   "source": [
    "train.isnull().sum()"
   ]
  },
  {
   "cell_type": "code",
   "execution_count": 19,
   "metadata": {
    "scrolled": false
   },
   "outputs": [
    {
     "data": {
      "image/png": "[encoded data removed]",
      "text/plain": [
       "<Figure size 432x288 with 1 Axes>"
      ]
     },
     "metadata": {
      "needs_background": "light"
     },
     "output_type": "display_data"
    }
   ],
   "source": [
    "# plot missing data:\n",
    "train.isnull().sum().plot(kind='bar')\n",
    "# Add a title and show the plot.\n",
    "plt.title('Number of Missing Values Per Column')\n",
    "# Create tick mark labels on the Y axis and rotate them.\n",
    "plt.xticks(rotation = 45)\n",
    "# Create X axis label.\n",
    "plt.xlabel(\"Columns\")\n",
    "# Create Y axis label.\n",
    "plt.ylabel(\"NaN Values\");"
   ]
  },
  {
   "cell_type": "markdown",
   "metadata": {},
   "source": [
    "5 of the features have many missing values. We will look at how to impute these later."
   ]
  },
  {
   "cell_type": "markdown",
   "metadata": {},
   "source": [
    "### Target balance"
   ]
  },
  {
   "cell_type": "code",
   "execution_count": 20,
   "metadata": {
    "scrolled": true
   },
   "outputs": [
    {
     "name": "stdout",
     "output_type": "stream",
     "text": [
      "Class 0: 38734\n",
      "Class 1: 11266\n",
      "Proportion: 3.44 : 1\n",
      "Percentage Class 0: 77 %\n",
      "Percentage Class 1: 23 %\n"
     ]
    },
    {
     "data": {
      "image/png": "[encoded data removed]",
      "text/plain": [
       "<Figure size 432x288 with 1 Axes>"
      ]
     },
     "metadata": {
      "needs_background": "light"
     },
     "output_type": "display_data"
    }
   ],
   "source": [
    "target_count = train.target.value_counts()\n",
    "print('Class 0:', target_count[0])\n",
    "print('Class 1:', target_count[1])\n",
    "print('Proportion:', round(target_count[0] / target_count[1], 2), ': 1')\n",
    "print('Percentage Class 0:', round(target_count[0]/train.shape[0]*100), '%')\n",
    "print('Percentage Class 1:', round(target_count[1]/train.shape[0]*100), '%')\n",
    "\n",
    "target_count.plot(kind='bar', title='Count (target)');"
   ]
  },
  {
   "cell_type": "markdown",
   "metadata": {},
   "source": [
    "As we can see, the dataset is imbalanced with 77% of the instances being of class 0. This means that if the classifier predicted class 0 for all instances during validation, it would get an accuracy of 77 %."
   ]
  },
  {
   "cell_type": "markdown",
   "metadata": {},
   "source": [
    "### Finding duplicate rows"
   ]
  },
  {
   "cell_type": "code",
   "execution_count": 21,
   "metadata": {},
   "outputs": [
    {
     "data": {
      "text/plain": [
       "0"
      ]
     },
     "execution_count": 21,
     "metadata": {},
     "output_type": "execute_result"
    }
   ],
   "source": [
    "train.duplicated().apply(lambda x: x is True).sum()"
   ]
  },
  {
   "cell_type": "markdown",
   "metadata": {},
   "source": [
    "No duplicated values! That is good, because the classifier can become biased bu duplicated data. There could still be correlated features, though."
   ]
  },
  {
   "cell_type": "markdown",
   "metadata": {},
   "source": [
    "### Statistical analysis"
   ]
  },
  {
   "cell_type": "code",
   "execution_count": 22,
   "metadata": {
    "scrolled": true
   },
   "outputs": [
    {
     "data": {
      "text/html": [
       "<div>\n",
       "<style scoped>\n",
       "    .dataframe tbody tr th:only-of-type {\n",
       "        vertical-align: middle;\n",
       "    }\n",
       "\n",
       "    .dataframe tbody tr th {\n",
       "        vertical-align: top;\n",
       "    }\n",
       "\n",
       "    .dataframe thead th {\n",
       "        text-align: right;\n",
       "    }\n",
       "</style>\n",
       "<table border=\"1\" class=\"dataframe\">\n",
       "  <thead>\n",
       "    <tr style=\"text-align: right;\">\n",
       "      <th></th>\n",
       "      <th>id</th>\n",
       "      <th>target</th>\n",
       "      <th>f0</th>\n",
       "      <th>f1</th>\n",
       "      <th>f2</th>\n",
       "      <th>f3</th>\n",
       "      <th>f5</th>\n",
       "      <th>f6</th>\n",
       "      <th>f7</th>\n",
       "      <th>f9</th>\n",
       "      <th>...</th>\n",
       "      <th>f14</th>\n",
       "      <th>f15</th>\n",
       "      <th>f16</th>\n",
       "      <th>f18</th>\n",
       "      <th>f19</th>\n",
       "      <th>f20</th>\n",
       "      <th>f22</th>\n",
       "      <th>f23</th>\n",
       "      <th>f24</th>\n",
       "      <th>f12_dec</th>\n",
       "    </tr>\n",
       "  </thead>\n",
       "  <tbody>\n",
       "    <tr>\n",
       "      <th>count</th>\n",
       "      <td>50000.000000</td>\n",
       "      <td>50000.000000</td>\n",
       "      <td>45122.000000</td>\n",
       "      <td>50000.00000</td>\n",
       "      <td>48816.000000</td>\n",
       "      <td>49677.000000</td>\n",
       "      <td>26130.000000</td>\n",
       "      <td>46648.000000</td>\n",
       "      <td>49517.000000</td>\n",
       "      <td>49497.000000</td>\n",
       "      <td>...</td>\n",
       "      <td>29937.000000</td>\n",
       "      <td>49057.000000</td>\n",
       "      <td>49020.000000</td>\n",
       "      <td>48749.000000</td>\n",
       "      <td>45121.000000</td>\n",
       "      <td>31245.000000</td>\n",
       "      <td>49746.000000</td>\n",
       "      <td>25160.000000</td>\n",
       "      <td>49398.000000</td>\n",
       "      <td>4.848700e+04</td>\n",
       "    </tr>\n",
       "    <tr>\n",
       "      <th>mean</th>\n",
       "      <td>24999.500000</td>\n",
       "      <td>0.225320</td>\n",
       "      <td>1017.678647</td>\n",
       "      <td>23.49612</td>\n",
       "      <td>5.018887</td>\n",
       "      <td>16.998782</td>\n",
       "      <td>7.628550</td>\n",
       "      <td>40.050999</td>\n",
       "      <td>14.000848</td>\n",
       "      <td>0.222862</td>\n",
       "      <td>...</td>\n",
       "      <td>4.508668</td>\n",
       "      <td>18.686630</td>\n",
       "      <td>21.683570</td>\n",
       "      <td>7.305524</td>\n",
       "      <td>1015.285913</td>\n",
       "      <td>4.428837</td>\n",
       "      <td>12.191203</td>\n",
       "      <td>52.013712</td>\n",
       "      <td>68.806470</td>\n",
       "      <td>3.394508e+10</td>\n",
       "    </tr>\n",
       "    <tr>\n",
       "      <th>std</th>\n",
       "      <td>14433.901067</td>\n",
       "      <td>0.417797</td>\n",
       "      <td>7.130390</td>\n",
       "      <td>14.01738</td>\n",
       "      <td>0.007177</td>\n",
       "      <td>6.520973</td>\n",
       "      <td>3.776794</td>\n",
       "      <td>13.655620</td>\n",
       "      <td>8.936280</td>\n",
       "      <td>0.416171</td>\n",
       "      <td>...</td>\n",
       "      <td>2.717503</td>\n",
       "      <td>8.842879</td>\n",
       "      <td>6.970918</td>\n",
       "      <td>3.546719</td>\n",
       "      <td>7.057875</td>\n",
       "      <td>2.884968</td>\n",
       "      <td>6.414481</td>\n",
       "      <td>8.323467</td>\n",
       "      <td>19.024988</td>\n",
       "      <td>1.986950e+10</td>\n",
       "    </tr>\n",
       "    <tr>\n",
       "      <th>min</th>\n",
       "      <td>0.000000</td>\n",
       "      <td>0.000000</td>\n",
       "      <td>982.000000</td>\n",
       "      <td>0.00000</td>\n",
       "      <td>4.998000</td>\n",
       "      <td>-6.200000</td>\n",
       "      <td>0.000000</td>\n",
       "      <td>7.000000</td>\n",
       "      <td>0.000000</td>\n",
       "      <td>0.000000</td>\n",
       "      <td>...</td>\n",
       "      <td>0.000000</td>\n",
       "      <td>0.000000</td>\n",
       "      <td>-5.100000</td>\n",
       "      <td>0.000000</td>\n",
       "      <td>978.200000</td>\n",
       "      <td>0.000000</td>\n",
       "      <td>-8.500000</td>\n",
       "      <td>37.000000</td>\n",
       "      <td>1.000000</td>\n",
       "      <td>1.178062e+07</td>\n",
       "    </tr>\n",
       "    <tr>\n",
       "      <th>25%</th>\n",
       "      <td>12499.750000</td>\n",
       "      <td>0.000000</td>\n",
       "      <td>1013.000000</td>\n",
       "      <td>11.00000</td>\n",
       "      <td>5.014000</td>\n",
       "      <td>12.300000</td>\n",
       "      <td>4.900000</td>\n",
       "      <td>31.000000</td>\n",
       "      <td>7.000000</td>\n",
       "      <td>0.000000</td>\n",
       "      <td>...</td>\n",
       "      <td>2.000000</td>\n",
       "      <td>13.000000</td>\n",
       "      <td>16.600000</td>\n",
       "      <td>5.000000</td>\n",
       "      <td>1010.500000</td>\n",
       "      <td>1.000000</td>\n",
       "      <td>7.600000</td>\n",
       "      <td>45.000000</td>\n",
       "      <td>57.000000</td>\n",
       "      <td>1.664529e+10</td>\n",
       "    </tr>\n",
       "    <tr>\n",
       "      <th>50%</th>\n",
       "      <td>24999.500000</td>\n",
       "      <td>0.000000</td>\n",
       "      <td>1017.600000</td>\n",
       "      <td>23.00000</td>\n",
       "      <td>5.019100</td>\n",
       "      <td>16.700000</td>\n",
       "      <td>8.500000</td>\n",
       "      <td>39.000000</td>\n",
       "      <td>13.000000</td>\n",
       "      <td>0.000000</td>\n",
       "      <td>...</td>\n",
       "      <td>5.000000</td>\n",
       "      <td>19.000000</td>\n",
       "      <td>21.100000</td>\n",
       "      <td>7.000000</td>\n",
       "      <td>1015.300000</td>\n",
       "      <td>5.000000</td>\n",
       "      <td>12.000000</td>\n",
       "      <td>52.000000</td>\n",
       "      <td>70.000000</td>\n",
       "      <td>3.405618e+10</td>\n",
       "    </tr>\n",
       "    <tr>\n",
       "      <th>75%</th>\n",
       "      <td>37499.250000</td>\n",
       "      <td>0.000000</td>\n",
       "      <td>1022.500000</td>\n",
       "      <td>35.00000</td>\n",
       "      <td>5.024100</td>\n",
       "      <td>21.600000</td>\n",
       "      <td>10.600000</td>\n",
       "      <td>48.000000</td>\n",
       "      <td>19.000000</td>\n",
       "      <td>0.000000</td>\n",
       "      <td>...</td>\n",
       "      <td>7.000000</td>\n",
       "      <td>24.000000</td>\n",
       "      <td>26.500000</td>\n",
       "      <td>10.000000</td>\n",
       "      <td>1020.100000</td>\n",
       "      <td>7.000000</td>\n",
       "      <td>16.900000</td>\n",
       "      <td>59.000000</td>\n",
       "      <td>83.000000</td>\n",
       "      <td>5.068902e+10</td>\n",
       "    </tr>\n",
       "    <tr>\n",
       "      <th>max</th>\n",
       "      <td>49999.000000</td>\n",
       "      <td>1.000000</td>\n",
       "      <td>1040.900000</td>\n",
       "      <td>48.00000</td>\n",
       "      <td>5.045800</td>\n",
       "      <td>39.100000</td>\n",
       "      <td>14.300000</td>\n",
       "      <td>130.000000</td>\n",
       "      <td>87.000000</td>\n",
       "      <td>1.000000</td>\n",
       "      <td>...</td>\n",
       "      <td>9.000000</td>\n",
       "      <td>87.000000</td>\n",
       "      <td>46.100000</td>\n",
       "      <td>13.000000</td>\n",
       "      <td>1038.500000</td>\n",
       "      <td>9.000000</td>\n",
       "      <td>33.900000</td>\n",
       "      <td>66.000000</td>\n",
       "      <td>100.000000</td>\n",
       "      <td>6.867926e+10</td>\n",
       "    </tr>\n",
       "  </tbody>\n",
       "</table>\n",
       "<p>8 rows × 23 columns</p>\n",
       "</div>"
      ],
      "text/plain": [
       "                 id        target            f0           f1            f2  \\\n",
       "count  50000.000000  50000.000000  45122.000000  50000.00000  48816.000000   \n",
       "mean   24999.500000      0.225320   1017.678647     23.49612      5.018887   \n",
       "std    14433.901067      0.417797      7.130390     14.01738      0.007177   \n",
       "min        0.000000      0.000000    982.000000      0.00000      4.998000   \n",
       "25%    12499.750000      0.000000   1013.000000     11.00000      5.014000   \n",
       "50%    24999.500000      0.000000   1017.600000     23.00000      5.019100   \n",
       "75%    37499.250000      0.000000   1022.500000     35.00000      5.024100   \n",
       "max    49999.000000      1.000000   1040.900000     48.00000      5.045800   \n",
       "\n",
       "                 f3            f5            f6            f7            f9  \\\n",
       "count  49677.000000  26130.000000  46648.000000  49517.000000  49497.000000   \n",
       "mean      16.998782      7.628550     40.050999     14.000848      0.222862   \n",
       "std        6.520973      3.776794     13.655620      8.936280      0.416171   \n",
       "min       -6.200000      0.000000      7.000000      0.000000      0.000000   \n",
       "25%       12.300000      4.900000     31.000000      7.000000      0.000000   \n",
       "50%       16.700000      8.500000     39.000000     13.000000      0.000000   \n",
       "75%       21.600000     10.600000     48.000000     19.000000      0.000000   \n",
       "max       39.100000     14.300000    130.000000     87.000000      1.000000   \n",
       "\n",
       "       ...           f14           f15           f16           f18  \\\n",
       "count  ...  29937.000000  49057.000000  49020.000000  48749.000000   \n",
       "mean   ...      4.508668     18.686630     21.683570      7.305524   \n",
       "std    ...      2.717503      8.842879      6.970918      3.546719   \n",
       "min    ...      0.000000      0.000000     -5.100000      0.000000   \n",
       "25%    ...      2.000000     13.000000     16.600000      5.000000   \n",
       "50%    ...      5.000000     19.000000     21.100000      7.000000   \n",
       "75%    ...      7.000000     24.000000     26.500000     10.000000   \n",
       "max    ...      9.000000     87.000000     46.100000     13.000000   \n",
       "\n",
       "                f19           f20           f22           f23           f24  \\\n",
       "count  45121.000000  31245.000000  49746.000000  25160.000000  49398.000000   \n",
       "mean    1015.285913      4.428837     12.191203     52.013712     68.806470   \n",
       "std        7.057875      2.884968      6.414481      8.323467     19.024988   \n",
       "min      978.200000      0.000000     -8.500000     37.000000      1.000000   \n",
       "25%     1010.500000      1.000000      7.600000     45.000000     57.000000   \n",
       "50%     1015.300000      5.000000     12.000000     52.000000     70.000000   \n",
       "75%     1020.100000      7.000000     16.900000     59.000000     83.000000   \n",
       "max     1038.500000      9.000000     33.900000     66.000000    100.000000   \n",
       "\n",
       "            f12_dec  \n",
       "count  4.848700e+04  \n",
       "mean   3.394508e+10  \n",
       "std    1.986950e+10  \n",
       "min    1.178062e+07  \n",
       "25%    1.664529e+10  \n",
       "50%    3.405618e+10  \n",
       "75%    5.068902e+10  \n",
       "max    6.867926e+10  \n",
       "\n",
       "[8 rows x 23 columns]"
      ]
     },
     "execution_count": 22,
     "metadata": {},
     "output_type": "execute_result"
    }
   ],
   "source": [
    "train.describe()"
   ]
  },
  {
   "cell_type": "markdown",
   "metadata": {},
   "source": [
    "Some noteable things to observe:\n",
    "- f2 has a very low standard deviation, which means its values are almost the same for every sample. If this feature has missing values, we could use this information to impute them. We could also try to transform this feature to get a new distribution.\n",
    "- f6 has a high standard deviation\n",
    "- many features has 0 as the minimum value - this could be a placeholder for a missing value or a human error.\n",
    "- Several of the features have negative minimum values - is this an error? We will look at those features soon by plotting histograms of all values in e.g. f3, f16 and f22\n",
    "- Some float typed features are actually integers\n",
    "- Within f13, most of the values as 0, but maximum is 371. This could be an outlier."
   ]
  },
  {
   "cell_type": "code",
   "execution_count": 23,
   "metadata": {
    "scrolled": true
   },
   "outputs": [
    {
     "data": {
      "text/html": [
       "<div>\n",
       "<style scoped>\n",
       "    .dataframe tbody tr th:only-of-type {\n",
       "        vertical-align: middle;\n",
       "    }\n",
       "\n",
       "    .dataframe tbody tr th {\n",
       "        vertical-align: top;\n",
       "    }\n",
       "\n",
       "    .dataframe thead th {\n",
       "        text-align: right;\n",
       "    }\n",
       "</style>\n",
       "<table border=\"1\" class=\"dataframe\">\n",
       "  <thead>\n",
       "    <tr style=\"text-align: right;\">\n",
       "      <th></th>\n",
       "      <th>id</th>\n",
       "      <th>f0</th>\n",
       "      <th>f1</th>\n",
       "      <th>f2</th>\n",
       "      <th>f3</th>\n",
       "      <th>f5</th>\n",
       "      <th>f6</th>\n",
       "      <th>f7</th>\n",
       "      <th>f9</th>\n",
       "      <th>f10</th>\n",
       "      <th>...</th>\n",
       "      <th>f14</th>\n",
       "      <th>f15</th>\n",
       "      <th>f16</th>\n",
       "      <th>f18</th>\n",
       "      <th>f19</th>\n",
       "      <th>f20</th>\n",
       "      <th>f22</th>\n",
       "      <th>f23</th>\n",
       "      <th>f24</th>\n",
       "      <th>f12_dec</th>\n",
       "    </tr>\n",
       "  </thead>\n",
       "  <tbody>\n",
       "    <tr>\n",
       "      <th>count</th>\n",
       "      <td>50000.000000</td>\n",
       "      <td>45095.000000</td>\n",
       "      <td>50000.000000</td>\n",
       "      <td>48828.000000</td>\n",
       "      <td>49677.000000</td>\n",
       "      <td>25972.000000</td>\n",
       "      <td>46814.000000</td>\n",
       "      <td>49534.000000</td>\n",
       "      <td>49517.000000</td>\n",
       "      <td>28499.000000</td>\n",
       "      <td>...</td>\n",
       "      <td>29943.000000</td>\n",
       "      <td>49108.000000</td>\n",
       "      <td>49062.000000</td>\n",
       "      <td>48720.000000</td>\n",
       "      <td>45116.000000</td>\n",
       "      <td>31030.000000</td>\n",
       "      <td>49797.000000</td>\n",
       "      <td>25047.000000</td>\n",
       "      <td>49337.00000</td>\n",
       "      <td>4.854300e+04</td>\n",
       "    </tr>\n",
       "    <tr>\n",
       "      <th>mean</th>\n",
       "      <td>74999.500000</td>\n",
       "      <td>1017.673620</td>\n",
       "      <td>23.488000</td>\n",
       "      <td>5.018906</td>\n",
       "      <td>16.951901</td>\n",
       "      <td>7.607666</td>\n",
       "      <td>39.985389</td>\n",
       "      <td>14.016574</td>\n",
       "      <td>0.223236</td>\n",
       "      <td>5.465283</td>\n",
       "      <td>...</td>\n",
       "      <td>4.514311</td>\n",
       "      <td>18.646901</td>\n",
       "      <td>21.662307</td>\n",
       "      <td>7.340394</td>\n",
       "      <td>1015.276014</td>\n",
       "      <td>4.432324</td>\n",
       "      <td>12.147728</td>\n",
       "      <td>51.956801</td>\n",
       "      <td>68.86803</td>\n",
       "      <td>3.391215e+10</td>\n",
       "    </tr>\n",
       "    <tr>\n",
       "      <th>std</th>\n",
       "      <td>14433.901067</td>\n",
       "      <td>7.109979</td>\n",
       "      <td>14.040715</td>\n",
       "      <td>0.007166</td>\n",
       "      <td>6.481997</td>\n",
       "      <td>3.794703</td>\n",
       "      <td>13.597521</td>\n",
       "      <td>8.888472</td>\n",
       "      <td>0.416420</td>\n",
       "      <td>4.172868</td>\n",
       "      <td>...</td>\n",
       "      <td>2.724323</td>\n",
       "      <td>8.810681</td>\n",
       "      <td>6.923556</td>\n",
       "      <td>3.543402</td>\n",
       "      <td>7.049542</td>\n",
       "      <td>2.897262</td>\n",
       "      <td>6.393228</td>\n",
       "      <td>8.338472</td>\n",
       "      <td>19.07522</td>\n",
       "      <td>1.997490e+10</td>\n",
       "    </tr>\n",
       "    <tr>\n",
       "      <th>min</th>\n",
       "      <td>50000.000000</td>\n",
       "      <td>980.500000</td>\n",
       "      <td>0.000000</td>\n",
       "      <td>4.996400</td>\n",
       "      <td>-5.300000</td>\n",
       "      <td>0.000000</td>\n",
       "      <td>6.000000</td>\n",
       "      <td>0.000000</td>\n",
       "      <td>0.000000</td>\n",
       "      <td>0.000000</td>\n",
       "      <td>...</td>\n",
       "      <td>0.000000</td>\n",
       "      <td>0.000000</td>\n",
       "      <td>-4.000000</td>\n",
       "      <td>0.000000</td>\n",
       "      <td>977.100000</td>\n",
       "      <td>0.000000</td>\n",
       "      <td>-8.200000</td>\n",
       "      <td>37.000000</td>\n",
       "      <td>0.00000</td>\n",
       "      <td>1.178062e+07</td>\n",
       "    </tr>\n",
       "    <tr>\n",
       "      <th>25%</th>\n",
       "      <td>62499.750000</td>\n",
       "      <td>1013.000000</td>\n",
       "      <td>11.000000</td>\n",
       "      <td>5.014100</td>\n",
       "      <td>12.200000</td>\n",
       "      <td>4.800000</td>\n",
       "      <td>31.000000</td>\n",
       "      <td>7.000000</td>\n",
       "      <td>0.000000</td>\n",
       "      <td>2.600000</td>\n",
       "      <td>...</td>\n",
       "      <td>2.000000</td>\n",
       "      <td>13.000000</td>\n",
       "      <td>16.600000</td>\n",
       "      <td>5.000000</td>\n",
       "      <td>1010.500000</td>\n",
       "      <td>1.000000</td>\n",
       "      <td>7.500000</td>\n",
       "      <td>45.000000</td>\n",
       "      <td>57.00000</td>\n",
       "      <td>1.650749e+10</td>\n",
       "    </tr>\n",
       "    <tr>\n",
       "      <th>50%</th>\n",
       "      <td>74999.500000</td>\n",
       "      <td>1017.700000</td>\n",
       "      <td>23.000000</td>\n",
       "      <td>5.019100</td>\n",
       "      <td>16.700000</td>\n",
       "      <td>8.400000</td>\n",
       "      <td>39.000000</td>\n",
       "      <td>13.000000</td>\n",
       "      <td>0.000000</td>\n",
       "      <td>4.600000</td>\n",
       "      <td>...</td>\n",
       "      <td>5.000000</td>\n",
       "      <td>19.000000</td>\n",
       "      <td>21.100000</td>\n",
       "      <td>7.000000</td>\n",
       "      <td>1015.300000</td>\n",
       "      <td>5.000000</td>\n",
       "      <td>12.000000</td>\n",
       "      <td>52.000000</td>\n",
       "      <td>70.00000</td>\n",
       "      <td>3.389166e+10</td>\n",
       "    </tr>\n",
       "    <tr>\n",
       "      <th>75%</th>\n",
       "      <td>87499.250000</td>\n",
       "      <td>1022.400000</td>\n",
       "      <td>35.000000</td>\n",
       "      <td>5.024000</td>\n",
       "      <td>21.500000</td>\n",
       "      <td>10.600000</td>\n",
       "      <td>48.000000</td>\n",
       "      <td>19.000000</td>\n",
       "      <td>0.000000</td>\n",
       "      <td>7.400000</td>\n",
       "      <td>...</td>\n",
       "      <td>7.000000</td>\n",
       "      <td>24.000000</td>\n",
       "      <td>26.375000</td>\n",
       "      <td>10.000000</td>\n",
       "      <td>1020.000000</td>\n",
       "      <td>7.000000</td>\n",
       "      <td>16.800000</td>\n",
       "      <td>59.000000</td>\n",
       "      <td>83.00000</td>\n",
       "      <td>5.071660e+10</td>\n",
       "    </tr>\n",
       "    <tr>\n",
       "      <th>max</th>\n",
       "      <td>99999.000000</td>\n",
       "      <td>1041.000000</td>\n",
       "      <td>48.000000</td>\n",
       "      <td>5.043800</td>\n",
       "      <td>39.400000</td>\n",
       "      <td>14.500000</td>\n",
       "      <td>126.000000</td>\n",
       "      <td>83.000000</td>\n",
       "      <td>1.000000</td>\n",
       "      <td>86.200000</td>\n",
       "      <td>...</td>\n",
       "      <td>8.000000</td>\n",
       "      <td>83.000000</td>\n",
       "      <td>46.200000</td>\n",
       "      <td>13.000000</td>\n",
       "      <td>1039.600000</td>\n",
       "      <td>8.000000</td>\n",
       "      <td>30.700000</td>\n",
       "      <td>66.000000</td>\n",
       "      <td>100.00000</td>\n",
       "      <td>6.867926e+10</td>\n",
       "    </tr>\n",
       "  </tbody>\n",
       "</table>\n",
       "<p>8 rows × 22 columns</p>\n",
       "</div>"
      ],
      "text/plain": [
       "                 id            f0            f1            f2            f3  \\\n",
       "count  50000.000000  45095.000000  50000.000000  48828.000000  49677.000000   \n",
       "mean   74999.500000   1017.673620     23.488000      5.018906     16.951901   \n",
       "std    14433.901067      7.109979     14.040715      0.007166      6.481997   \n",
       "min    50000.000000    980.500000      0.000000      4.996400     -5.300000   \n",
       "25%    62499.750000   1013.000000     11.000000      5.014100     12.200000   \n",
       "50%    74999.500000   1017.700000     23.000000      5.019100     16.700000   \n",
       "75%    87499.250000   1022.400000     35.000000      5.024000     21.500000   \n",
       "max    99999.000000   1041.000000     48.000000      5.043800     39.400000   \n",
       "\n",
       "                 f5            f6            f7            f9           f10  \\\n",
       "count  25972.000000  46814.000000  49534.000000  49517.000000  28499.000000   \n",
       "mean       7.607666     39.985389     14.016574      0.223236      5.465283   \n",
       "std        3.794703     13.597521      8.888472      0.416420      4.172868   \n",
       "min        0.000000      6.000000      0.000000      0.000000      0.000000   \n",
       "25%        4.800000     31.000000      7.000000      0.000000      2.600000   \n",
       "50%        8.400000     39.000000     13.000000      0.000000      4.600000   \n",
       "75%       10.600000     48.000000     19.000000      0.000000      7.400000   \n",
       "max       14.500000    126.000000     83.000000      1.000000     86.200000   \n",
       "\n",
       "       ...           f14           f15           f16           f18  \\\n",
       "count  ...  29943.000000  49108.000000  49062.000000  48720.000000   \n",
       "mean   ...      4.514311     18.646901     21.662307      7.340394   \n",
       "std    ...      2.724323      8.810681      6.923556      3.543402   \n",
       "min    ...      0.000000      0.000000     -4.000000      0.000000   \n",
       "25%    ...      2.000000     13.000000     16.600000      5.000000   \n",
       "50%    ...      5.000000     19.000000     21.100000      7.000000   \n",
       "75%    ...      7.000000     24.000000     26.375000     10.000000   \n",
       "max    ...      8.000000     83.000000     46.200000     13.000000   \n",
       "\n",
       "                f19           f20           f22           f23          f24  \\\n",
       "count  45116.000000  31030.000000  49797.000000  25047.000000  49337.00000   \n",
       "mean    1015.276014      4.432324     12.147728     51.956801     68.86803   \n",
       "std        7.049542      2.897262      6.393228      8.338472     19.07522   \n",
       "min      977.100000      0.000000     -8.200000     37.000000      0.00000   \n",
       "25%     1010.500000      1.000000      7.500000     45.000000     57.00000   \n",
       "50%     1015.300000      5.000000     12.000000     52.000000     70.00000   \n",
       "75%     1020.000000      7.000000     16.800000     59.000000     83.00000   \n",
       "max     1039.600000      8.000000     30.700000     66.000000    100.00000   \n",
       "\n",
       "            f12_dec  \n",
       "count  4.854300e+04  \n",
       "mean   3.391215e+10  \n",
       "std    1.997490e+10  \n",
       "min    1.178062e+07  \n",
       "25%    1.650749e+10  \n",
       "50%    3.389166e+10  \n",
       "75%    5.071660e+10  \n",
       "max    6.867926e+10  \n",
       "\n",
       "[8 rows x 22 columns]"
      ]
     },
     "execution_count": 23,
     "metadata": {},
     "output_type": "execute_result"
    }
   ],
   "source": [
    "test.describe()"
   ]
  },
  {
   "cell_type": "markdown",
   "metadata": {},
   "source": [
    "It looks like both the training and test set have about the same feature distributions."
   ]
  },
  {
   "cell_type": "markdown",
   "metadata": {},
   "source": [
    "### Visualize the data\n",
    "\n",
    "First, we plot the frequency of values of the numerical features"
   ]
  },
  {
   "cell_type": "code",
   "execution_count": 24,
   "metadata": {
    "scrolled": false
   },
   "outputs": [
    {
     "data": {
      "text/plain": [
       "array([[<AxesSubplot:title={'center':'id'}>,\n",
       "        <AxesSubplot:title={'center':'target'}>,\n",
       "        <AxesSubplot:title={'center':'f0'}>],\n",
       "       [<AxesSubplot:title={'center':'f1'}>,\n",
       "        <AxesSubplot:title={'center':'f2'}>,\n",
       "        <AxesSubplot:title={'center':'f3'}>],\n",
       "       [<AxesSubplot:title={'center':'f5'}>,\n",
       "        <AxesSubplot:title={'center':'f6'}>,\n",
       "        <AxesSubplot:title={'center':'f7'}>],\n",
       "       [<AxesSubplot:title={'center':'f9'}>,\n",
       "        <AxesSubplot:title={'center':'f10'}>,\n",
       "        <AxesSubplot:title={'center':'f11'}>],\n",
       "       [<AxesSubplot:title={'center':'f13'}>,\n",
       "        <AxesSubplot:title={'center':'f14'}>,\n",
       "        <AxesSubplot:title={'center':'f15'}>],\n",
       "       [<AxesSubplot:title={'center':'f16'}>,\n",
       "        <AxesSubplot:title={'center':'f18'}>,\n",
       "        <AxesSubplot:title={'center':'f19'}>],\n",
       "       [<AxesSubplot:title={'center':'f20'}>,\n",
       "        <AxesSubplot:title={'center':'f22'}>,\n",
       "        <AxesSubplot:title={'center':'f23'}>],\n",
       "       [<AxesSubplot:title={'center':'f24'}>,\n",
       "        <AxesSubplot:title={'center':'f12_dec'}>, <AxesSubplot:>]],\n",
       "      dtype=object)"
      ]
     },
     "execution_count": 24,
     "metadata": {},
     "output_type": "execute_result"
    },
    {
     "data": {
      "image/png": "[encoded data removed]",
      "text/plain": [
       "<Figure size 1440x1440 with 24 Axes>"
      ]
     },
     "metadata": {
      "needs_background": "light"
     },
     "output_type": "display_data"
    }
   ],
   "source": [
    "numerical_features_plots = train.hist(bins=50, figsize=(20,20), layout=(8,3))\n",
    "numerical_features_plots"
   ]
  },
  {
   "cell_type": "markdown",
   "metadata": {},
   "source": [
    "Some additional interesting observations about the numerical data:\n",
    "- The distribution of f9 looks very similar to the target distribution - they might be correlated.\n",
    "- f5 has a high frequency of 0 values - this could be placeholder for missing values. There are also periodical drops in frequency for even numbers. It could be interesting to look at a new feautre x mod 2 for f5\n",
    "- f24 has a high frequency of values close to 100. It looks like there is a cap on maximum value for this feature.\n",
    "- f10 and f13 have narrow distributions, and it looks like they include outliers\n",
    "- f14, f18 and f20 must represent counts or categorical data\n",
    "- f23 has an interesting distribution. It could be a transformation of the other features."
   ]
  },
  {
   "cell_type": "markdown",
   "metadata": {},
   "source": [
    "I will look closer at f23:"
   ]
  },
  {
   "cell_type": "code",
   "execution_count": 25,
   "metadata": {
    "scrolled": true
   },
   "outputs": [
    {
     "data": {
      "text/plain": [
       "count    25160.000000\n",
       "mean        52.013712\n",
       "std          8.323467\n",
       "min         37.000000\n",
       "25%         45.000000\n",
       "50%         52.000000\n",
       "75%         59.000000\n",
       "max         66.000000\n",
       "Name: f23, dtype: float64"
      ]
     },
     "execution_count": 25,
     "metadata": {},
     "output_type": "execute_result"
    }
   ],
   "source": [
    "train.f23.describe()"
   ]
  },
  {
   "cell_type": "markdown",
   "metadata": {},
   "source": [
    "f23 is actually integer-valued with values in the interval 37-66."
   ]
  },
  {
   "cell_type": "code",
   "execution_count": 26,
   "metadata": {
    "scrolled": true
   },
   "outputs": [
    {
     "data": {
      "text/plain": [
       "<AxesSubplot:ylabel='Frequency'>"
      ]
     },
     "execution_count": 26,
     "metadata": {},
     "output_type": "execute_result"
    },
    {
     "data": {
      "image/png": "[encoded data removed]",
      "text/plain": [
       "<Figure size 864x288 with 1 Axes>"
      ]
     },
     "metadata": {
      "needs_background": "light"
     },
     "output_type": "display_data"
    }
   ],
   "source": [
    "train['f23'].plot(kind='hist', bins=(66-37), figsize=(12,4), facecolor='pink',edgecolor='black')"
   ]
  },
  {
   "cell_type": "markdown",
   "metadata": {},
   "source": [
    "This kind of data could represent something like age."
   ]
  },
  {
   "cell_type": "markdown",
   "metadata": {},
   "source": [
    "Lets plot the frequency of the categorical data:"
   ]
  },
  {
   "cell_type": "code",
   "execution_count": 27,
   "metadata": {
    "scrolled": true
   },
   "outputs": [
    {
     "data": {
      "image/png": "[encoded data removed]",
      "text/plain": [
       "<Figure size 360x360 with 1 Axes>"
      ]
     },
     "metadata": {
      "needs_background": "light"
     },
     "output_type": "display_data"
    },
    {
     "data": {
      "image/png": "[encoded data removed]",
      "text/plain": [
       "<Figure size 360x360 with 1 Axes>"
      ]
     },
     "metadata": {
      "needs_background": "light"
     },
     "output_type": "display_data"
    },
    {
     "data": {
      "image/png": "[encoded data removed]",
      "text/plain": [
       "<Figure size 360x360 with 1 Axes>"
      ]
     },
     "metadata": {
      "needs_background": "light"
     },
     "output_type": "display_data"
    },
    {
     "data": {
      "image/png": "[encoded data removed]",
      "text/plain": [
       "<Figure size 360x360 with 1 Axes>"
      ]
     },
     "metadata": {
      "needs_background": "light"
     },
     "output_type": "display_data"
    }
   ],
   "source": [
    "for col in cat_cols:\n",
    "    sns.catplot(x=col, kind=\"count\", data=train)"
   ]
  },
  {
   "cell_type": "markdown",
   "metadata": {},
   "source": [
    "It looks like most of the values are evenly distributed, but for f8 we see that there are fewer of the categories d-j."
   ]
  },
  {
   "cell_type": "markdown",
   "metadata": {},
   "source": [
    "### Plot the mean"
   ]
  },
  {
   "cell_type": "markdown",
   "metadata": {},
   "source": [
    "Most of them are in the same range, except for f0, f12_dec and f19. Let's remove them to better look at the others."
   ]
  },
  {
   "cell_type": "code",
   "execution_count": 28,
   "metadata": {
    "scrolled": false
   },
   "outputs": [
    {
     "data": {
      "text/plain": [
       "<AxesSubplot:>"
      ]
     },
     "execution_count": 28,
     "metadata": {},
     "output_type": "execute_result"
    },
    {
     "data": {
      "image/png": "[encoded data removed]",
      "text/plain": [
       "<Figure size 432x288 with 1 Axes>"
      ]
     },
     "metadata": {
      "needs_background": "light"
     },
     "output_type": "display_data"
    }
   ],
   "source": [
    "train.drop(['id', 'f0', 'f12_dec', 'f19'], axis=1).mean().sort_values().plot(style='*', color='red')"
   ]
  },
  {
   "cell_type": "markdown",
   "metadata": {},
   "source": [
    "## 3. Bi-variate analysis\n",
    "\n",
    "### Correlation between variables"
   ]
  },
  {
   "cell_type": "code",
   "execution_count": 29,
   "metadata": {
    "scrolled": true
   },
   "outputs": [
    {
     "data": {
      "image/png": "[encoded data removed]",
      "text/plain": [
       "<Figure size 1080x1080 with 2 Axes>"
      ]
     },
     "metadata": {
      "needs_background": "light"
     },
     "output_type": "display_data"
    },
    {
     "data": {
      "text/plain": [
       "<Figure size 432x288 with 0 Axes>"
      ]
     },
     "metadata": {},
     "output_type": "display_data"
    }
   ],
   "source": [
    "correlations = train.corr()\n",
    "\n",
    "fig, ax = plt.subplots(figsize=(15,15))\n",
    "sns.set_style(style = 'white')\n",
    "cmap = sns.diverging_palette(250, 10, as_cmap=True)\n",
    "mask = np.triu(np.ones_like(correlations, dtype=np.bool))\n",
    "heatmap = sns.heatmap(correlations, vmax=1.0, center=0, fmt='.2f', cmap=cmap, mask=mask,\n",
    "        square=True, linewidths=.5, annot=True, cbar_kws={\"shrink\": .70})\n",
    "plt.show();\n",
    "plt.savefig('heatmap.png')"
   ]
  },
  {
   "cell_type": "markdown",
   "metadata": {},
   "source": [
    "This table has some interesting information. Many of the features are correlated, as presented in this list:\n",
    "\n",
    "- **f0** - **f19**\n",
    "- **f3** - f11, f16, **f22**\n",
    "- f5 - f14, f20\n",
    "- f6 - f7, f15\n",
    "- f7 - f15\n",
    "- f9 - f13\n",
    "- **f11** - **f16**, f22, f24\n",
    "- f14 - f20\n",
    "- f16 - f22\n",
    "\n",
    "The bold features are either highly positively or highly negativley correlated. The features f0 and f19, f3 and f22, and f11 and f16 are have correlation of 0.9 or above. This implies that the features are redundant of each other, and might cause overfitting. We can potentially remove one of them during feature engineering."
   ]
  },
  {
   "cell_type": "code",
   "execution_count": 30,
   "metadata": {},
   "outputs": [],
   "source": [
    "colors = {0.0:'orange', 1.0:'green'}"
   ]
  },
  {
   "cell_type": "code",
   "execution_count": 31,
   "metadata": {},
   "outputs": [
    {
     "data": {
      "text/plain": [
       "<AxesSubplot:xlabel='target', ylabel='f9'>"
      ]
     },
     "execution_count": 31,
     "metadata": {},
     "output_type": "execute_result"
    },
    {
     "data": {
      "image/png": "[encoded data removed]",
      "text/plain": [
       "<Figure size 432x288 with 1 Axes>"
      ]
     },
     "metadata": {},
     "output_type": "display_data"
    }
   ],
   "source": [
    "train.plot(kind='scatter', x='target', y='f9', color=train['target'].apply(lambda x: colors[x]))"
   ]
  },
  {
   "cell_type": "code",
   "execution_count": 32,
   "metadata": {},
   "outputs": [
    {
     "data": {
      "text/plain": [
       "<AxesSubplot:xlabel='target', ylabel='f9'>"
      ]
     },
     "execution_count": 32,
     "metadata": {},
     "output_type": "execute_result"
    },
    {
     "data": {
      "image/png": "[encoded data removed]",
      "text/plain": [
       "<Figure size 432x288 with 1 Axes>"
      ]
     },
     "metadata": {},
     "output_type": "display_data"
    }
   ],
   "source": [
    "train.plot(kind='scatter', x='target', y='f9', color=train['target'].apply(lambda x: colors[x]))"
   ]
  },
  {
   "cell_type": "markdown",
   "metadata": {},
   "source": [
    "### Scatterplots of features"
   ]
  },
  {
   "cell_type": "code",
   "execution_count": 33,
   "metadata": {
    "scrolled": true
   },
   "outputs": [],
   "source": [
    "#sns_plot = sns.pairplot(train, hue='target')\n",
    "#sns_plot.savefig('pairplot.png')\n",
    "#sns_plot"
   ]
  },
  {
   "cell_type": "markdown",
   "metadata": {},
   "source": [
    "### Box plots\n",
    "Let's find those outliers."
   ]
  },
  {
   "cell_type": "code",
   "execution_count": 34,
   "metadata": {
    "scrolled": false
   },
   "outputs": [
    {
     "data": {
      "text/plain": [
       "<AxesSubplot:>"
      ]
     },
     "execution_count": 34,
     "metadata": {},
     "output_type": "execute_result"
    },
    {
     "data": {
      "image/png": "[encoded data removed]",
      "text/plain": [
       "<Figure size 1080x576 with 1 Axes>"
      ]
     },
     "metadata": {},
     "output_type": "display_data"
    }
   ],
   "source": [
    "train.boxplot(['f0', 'f19'], figsize=(15,8))"
   ]
  },
  {
   "cell_type": "code",
   "execution_count": 35,
   "metadata": {
    "scrolled": true
   },
   "outputs": [
    {
     "data": {
      "text/plain": [
       "<AxesSubplot:>"
      ]
     },
     "execution_count": 35,
     "metadata": {},
     "output_type": "execute_result"
    },
    {
     "data": {
      "image/png": "[encoded data removed]",
      "text/plain": [
       "<Figure size 1080x576 with 1 Axes>"
      ]
     },
     "metadata": {},
     "output_type": "display_data"
    }
   ],
   "source": [
    "train.boxplot('f13', figsize=(15,8))"
   ]
  },
  {
   "cell_type": "code",
   "execution_count": 36,
   "metadata": {
    "scrolled": true
   },
   "outputs": [
    {
     "data": {
      "text/plain": [
       "<AxesSubplot:>"
      ]
     },
     "execution_count": 36,
     "metadata": {},
     "output_type": "execute_result"
    },
    {
     "data": {
      "image/png": "[encoded data removed]",
      "text/plain": [
       "<Figure size 1080x1080 with 1 Axes>"
      ]
     },
     "metadata": {},
     "output_type": "display_data"
    }
   ],
   "source": [
    "train.boxplot([x for x in train.drop(['id', 'f0', 'f19', 'f13', 'f12', 'f21', 'f8', 'f4', 'f17', 'f12_dec'],axis=1).columns], figsize=(15,15))"
   ]
  },
  {
   "cell_type": "code",
   "execution_count": 37,
   "metadata": {},
   "outputs": [
    {
     "data": {
      "text/plain": [
       "<AxesSubplot:>"
      ]
     },
     "execution_count": 37,
     "metadata": {},
     "output_type": "execute_result"
    },
    {
     "data": {
      "image/png": "[encoded data removed]",
      "text/plain": [
       "<Figure size 1080x576 with 1 Axes>"
      ]
     },
     "metadata": {},
     "output_type": "display_data"
    }
   ],
   "source": [
    "train.boxplot('f12_dec', figsize=(15,8))"
   ]
  },
  {
   "cell_type": "markdown",
   "metadata": {},
   "source": [
    "# Preprocessing the data"
   ]
  },
  {
   "cell_type": "markdown",
   "metadata": {},
   "source": [
    "## Encoding categorical values"
   ]
  },
  {
   "cell_type": "code",
   "execution_count": 38,
   "metadata": {},
   "outputs": [
    {
     "name": "stdout",
     "output_type": "stream",
     "text": [
      "<class 'pandas.core.frame.DataFrame'>\n",
      "RangeIndex: 50000 entries, 0 to 49999\n",
      "Data columns (total 28 columns):\n",
      " #   Column   Non-Null Count  Dtype  \n",
      "---  ------   --------------  -----  \n",
      " 0   id       50000 non-null  int64  \n",
      " 1   target   50000 non-null  int64  \n",
      " 2   f0       45122 non-null  float64\n",
      " 3   f1       50000 non-null  int64  \n",
      " 4   f2       48816 non-null  float64\n",
      " 5   f3       49677 non-null  float64\n",
      " 6   f4       46621 non-null  object \n",
      " 7   f5       26130 non-null  float64\n",
      " 8   f6       46648 non-null  float64\n",
      " 9   f7       49517 non-null  float64\n",
      " 10  f8       48540 non-null  object \n",
      " 11  f9       49497 non-null  float64\n",
      " 12  f10      28585 non-null  float64\n",
      " 13  f11      49894 non-null  float64\n",
      " 14  f12      48487 non-null  object \n",
      " 15  f13      49497 non-null  float64\n",
      " 16  f14      29937 non-null  float64\n",
      " 17  f15      49057 non-null  float64\n",
      " 18  f16      49020 non-null  float64\n",
      " 19  f17      48630 non-null  object \n",
      " 20  f18      48749 non-null  float64\n",
      " 21  f19      45121 non-null  float64\n",
      " 22  f20      31245 non-null  float64\n",
      " 23  f21      46416 non-null  object \n",
      " 24  f22      49746 non-null  float64\n",
      " 25  f23      25160 non-null  float64\n",
      " 26  f24      49398 non-null  float64\n",
      " 27  f12_dec  48487 non-null  float64\n",
      "dtypes: float64(20), int64(3), object(5)\n",
      "memory usage: 10.7+ MB\n"
     ]
    }
   ],
   "source": [
    "train_encoded = train.copy()\n",
    "train_encoded.info()"
   ]
  },
  {
   "cell_type": "code",
   "execution_count": 39,
   "metadata": {},
   "outputs": [],
   "source": [
    "for i in cat_cols:\n",
    "    train_encoded = pd.concat([train_encoded, pd.get_dummies(train[i], prefix=i)], axis=1)\n",
    "    train_encoded.drop([i], axis=1, inplace=True)"
   ]
  },
  {
   "cell_type": "code",
   "execution_count": 40,
   "metadata": {
    "scrolled": true
   },
   "outputs": [
    {
     "data": {
      "text/plain": [
       "Index(['id', 'target', 'f0', 'f1', 'f2', 'f3', 'f5', 'f6', 'f7', 'f9', 'f10',\n",
       "       'f11', 'f12', 'f13', 'f14', 'f15', 'f16', 'f18', 'f19', 'f20', 'f22',\n",
       "       'f23', 'f24', 'f12_dec', 'f4_b', 'f4_bbd', 'f4_bbx', 'f4_bd', 'f4_bx',\n",
       "       'f4_d', 'f4_dbd', 'f4_dnd', 'f4_n', 'f4_nd', 'f4_nnd', 'f4_nnx',\n",
       "       'f4_nx', 'f4_x', 'f4_xbx', 'f4_xnx', 'f8_a', 'f8_b', 'f8_c', 'f8_d',\n",
       "       'f8_e', 'f8_f', 'f8_g', 'f8_h', 'f8_i', 'f8_j', 'f8_k', 'f8_l', 'f8_m',\n",
       "       'f8_n', 'f8_o', 'f17_b', 'f17_bbd', 'f17_bbx', 'f17_bd', 'f17_bx',\n",
       "       'f17_d', 'f17_dbd', 'f17_dnd', 'f17_n', 'f17_nd', 'f17_nnd', 'f17_nnx',\n",
       "       'f17_nx', 'f17_x', 'f17_xbx', 'f17_xnx', 'f21_b', 'f21_bbd', 'f21_bbx',\n",
       "       'f21_bd', 'f21_bx', 'f21_d', 'f21_dbd', 'f21_dnd', 'f21_n', 'f21_nd',\n",
       "       'f21_nnd', 'f21_nnx', 'f21_nx', 'f21_x', 'f21_xbx', 'f21_xnx'],\n",
       "      dtype='object')"
      ]
     },
     "execution_count": 40,
     "metadata": {},
     "output_type": "execute_result"
    }
   ],
   "source": [
    "train_encoded.columns"
   ]
  },
  {
   "cell_type": "code",
   "execution_count": 41,
   "metadata": {},
   "outputs": [
    {
     "name": "stdout",
     "output_type": "stream",
     "text": [
      "<class 'pandas.core.frame.DataFrame'>\n",
      "RangeIndex: 50000 entries, 0 to 49999\n",
      "Data columns (total 27 columns):\n",
      " #   Column   Non-Null Count  Dtype  \n",
      "---  ------   --------------  -----  \n",
      " 0   id       50000 non-null  int64  \n",
      " 1   f0       45095 non-null  float64\n",
      " 2   f1       50000 non-null  int64  \n",
      " 3   f2       48828 non-null  float64\n",
      " 4   f3       49677 non-null  float64\n",
      " 5   f4       46797 non-null  object \n",
      " 6   f5       25972 non-null  float64\n",
      " 7   f6       46814 non-null  float64\n",
      " 8   f7       49534 non-null  float64\n",
      " 9   f8       48473 non-null  object \n",
      " 10  f9       49517 non-null  float64\n",
      " 11  f10      28499 non-null  float64\n",
      " 12  f11      49881 non-null  float64\n",
      " 13  f12      48543 non-null  object \n",
      " 14  f13      49517 non-null  float64\n",
      " 15  f14      29943 non-null  float64\n",
      " 16  f15      49108 non-null  float64\n",
      " 17  f16      49062 non-null  float64\n",
      " 18  f17      48728 non-null  object \n",
      " 19  f18      48720 non-null  float64\n",
      " 20  f19      45116 non-null  float64\n",
      " 21  f20      31030 non-null  float64\n",
      " 22  f21      46481 non-null  object \n",
      " 23  f22      49797 non-null  float64\n",
      " 24  f23      25047 non-null  float64\n",
      " 25  f24      49337 non-null  float64\n",
      " 26  f12_dec  48543 non-null  float64\n",
      "dtypes: float64(20), int64(2), object(5)\n",
      "memory usage: 10.3+ MB\n"
     ]
    }
   ],
   "source": [
    "test_encoded = test\n",
    "test_encoded.info()"
   ]
  },
  {
   "cell_type": "code",
   "execution_count": 42,
   "metadata": {},
   "outputs": [],
   "source": [
    "for i in cat_cols:\n",
    "    test_encoded = pd.concat([test_encoded, pd.get_dummies(test[i], prefix=i)], axis=1)\n",
    "    test_encoded.drop(i, axis=1, inplace=True)"
   ]
  },
  {
   "cell_type": "code",
   "execution_count": 43,
   "metadata": {
    "scrolled": true
   },
   "outputs": [
    {
     "data": {
      "text/plain": [
       "Index(['id', 'f0', 'f1', 'f2', 'f3', 'f5', 'f6', 'f7', 'f9', 'f10', 'f11',\n",
       "       'f12', 'f13', 'f14', 'f15', 'f16', 'f18', 'f19', 'f20', 'f22', 'f23',\n",
       "       'f24', 'f12_dec', 'f4_b', 'f4_bbd', 'f4_bbx', 'f4_bd', 'f4_bx', 'f4_d',\n",
       "       'f4_dbd', 'f4_dnd', 'f4_n', 'f4_nd', 'f4_nnd', 'f4_nnx', 'f4_nx',\n",
       "       'f4_x', 'f4_xbx', 'f4_xnx', 'f8_a', 'f8_b', 'f8_c', 'f8_d', 'f8_e',\n",
       "       'f8_f', 'f8_g', 'f8_h', 'f8_i', 'f8_j', 'f8_k', 'f8_l', 'f8_m', 'f8_n',\n",
       "       'f8_o', 'f17_b', 'f17_bbd', 'f17_bbx', 'f17_bd', 'f17_bx', 'f17_d',\n",
       "       'f17_dbd', 'f17_dnd', 'f17_n', 'f17_nd', 'f17_nnd', 'f17_nnx', 'f17_nx',\n",
       "       'f17_x', 'f17_xbx', 'f17_xnx', 'f21_b', 'f21_bbd', 'f21_bbx', 'f21_bd',\n",
       "       'f21_bx', 'f21_d', 'f21_dbd', 'f21_dnd', 'f21_n', 'f21_nd', 'f21_nnd',\n",
       "       'f21_nnx', 'f21_nx', 'f21_x', 'f21_xbx', 'f21_xnx'],\n",
       "      dtype='object')"
      ]
     },
     "execution_count": 43,
     "metadata": {},
     "output_type": "execute_result"
    }
   ],
   "source": [
    "test_encoded.columns"
   ]
  },
  {
   "cell_type": "markdown",
   "metadata": {},
   "source": [
    "Also drop the hex columns:"
   ]
  },
  {
   "cell_type": "code",
   "execution_count": 44,
   "metadata": {},
   "outputs": [],
   "source": [
    "train_encoded.drop('f12', axis=1, inplace=True)\n",
    "test_encoded.drop('f12', axis=1, inplace=True)"
   ]
  },
  {
   "cell_type": "markdown",
   "metadata": {},
   "source": [
    "## 1. Missing value treatment"
   ]
  },
  {
   "cell_type": "markdown",
   "metadata": {},
   "source": [
    "### Removing null values"
   ]
  },
  {
   "cell_type": "code",
   "execution_count": 45,
   "metadata": {},
   "outputs": [
    {
     "data": {
      "text/plain": [
       "array([[0.0000e+00, 0.0000e+00, 1.0131e+03, ..., 0.0000e+00, 0.0000e+00,\n",
       "        0.0000e+00],\n",
       "       [1.0000e+00, 0.0000e+00, 1.0102e+03, ..., 0.0000e+00, 0.0000e+00,\n",
       "        0.0000e+00],\n",
       "       [2.0000e+00, 0.0000e+00, 1.0144e+03, ..., 0.0000e+00, 0.0000e+00,\n",
       "        0.0000e+00],\n",
       "       ...,\n",
       "       [4.9997e+04, 0.0000e+00, 1.0212e+03, ..., 0.0000e+00, 0.0000e+00,\n",
       "        0.0000e+00],\n",
       "       [4.9998e+04, 0.0000e+00, 1.0124e+03, ..., 0.0000e+00, 0.0000e+00,\n",
       "        0.0000e+00],\n",
       "       [4.9999e+04, 1.0000e+00, 1.0229e+03, ..., 0.0000e+00, 0.0000e+00,\n",
       "        0.0000e+00]])"
      ]
     },
     "execution_count": 45,
     "metadata": {},
     "output_type": "execute_result"
    }
   ],
   "source": [
    "from sklearn.experimental import enable_iterative_imputer\n",
    "from sklearn.impute import IterativeImputer\n",
    "\n",
    "imp = IterativeImputer(max_iter=10, random_state=0)\n",
    "train_imputed = imp.fit_transform(train_encoded)\n",
    "train_imputed"
   ]
  },
  {
   "cell_type": "code",
   "execution_count": 46,
   "metadata": {
    "scrolled": true
   },
   "outputs": [
    {
     "data": {
      "text/plain": [
       "array([[5.0000e+04, 1.0244e+03, 1.5000e+01, ..., 0.0000e+00, 0.0000e+00,\n",
       "        0.0000e+00],\n",
       "       [5.0001e+04, 1.0290e+03, 3.0000e+00, ..., 0.0000e+00, 0.0000e+00,\n",
       "        0.0000e+00],\n",
       "       [5.0002e+04, 1.0167e+03, 1.0000e+01, ..., 0.0000e+00, 0.0000e+00,\n",
       "        0.0000e+00],\n",
       "       ...,\n",
       "       [9.9997e+04, 1.0225e+03, 4.0000e+00, ..., 0.0000e+00, 0.0000e+00,\n",
       "        0.0000e+00],\n",
       "       [9.9998e+04, 1.0146e+03, 2.4000e+01, ..., 0.0000e+00, 0.0000e+00,\n",
       "        0.0000e+00],\n",
       "       [9.9999e+04, 1.0234e+03, 1.7000e+01, ..., 0.0000e+00, 0.0000e+00,\n",
       "        0.0000e+00]])"
      ]
     },
     "execution_count": 46,
     "metadata": {},
     "output_type": "execute_result"
    }
   ],
   "source": [
    "test_imputed = imp.fit_transform(test_encoded)\n",
    "test_imputed"
   ]
  },
  {
   "cell_type": "code",
   "execution_count": 47,
   "metadata": {},
   "outputs": [],
   "source": [
    "train_imputed = pd.DataFrame(train_imputed, columns=train_encoded.columns)\n",
    "test_imputed = pd.DataFrame(test_imputed, columns=test_encoded.columns)"
   ]
  },
  {
   "cell_type": "code",
   "execution_count": 48,
   "metadata": {
    "scrolled": true
   },
   "outputs": [
    {
     "data": {
      "text/html": [
       "<div>\n",
       "<style scoped>\n",
       "    .dataframe tbody tr th:only-of-type {\n",
       "        vertical-align: middle;\n",
       "    }\n",
       "\n",
       "    .dataframe tbody tr th {\n",
       "        vertical-align: top;\n",
       "    }\n",
       "\n",
       "    .dataframe thead th {\n",
       "        text-align: right;\n",
       "    }\n",
       "</style>\n",
       "<table border=\"1\" class=\"dataframe\">\n",
       "  <thead>\n",
       "    <tr style=\"text-align: right;\">\n",
       "      <th></th>\n",
       "      <th>id</th>\n",
       "      <th>target</th>\n",
       "      <th>f0</th>\n",
       "      <th>f1</th>\n",
       "      <th>f2</th>\n",
       "      <th>f3</th>\n",
       "      <th>f5</th>\n",
       "      <th>f6</th>\n",
       "      <th>f7</th>\n",
       "      <th>f9</th>\n",
       "      <th>...</th>\n",
       "      <th>f21_dbd</th>\n",
       "      <th>f21_dnd</th>\n",
       "      <th>f21_n</th>\n",
       "      <th>f21_nd</th>\n",
       "      <th>f21_nnd</th>\n",
       "      <th>f21_nnx</th>\n",
       "      <th>f21_nx</th>\n",
       "      <th>f21_x</th>\n",
       "      <th>f21_xbx</th>\n",
       "      <th>f21_xnx</th>\n",
       "    </tr>\n",
       "  </thead>\n",
       "  <tbody>\n",
       "    <tr>\n",
       "      <th>0</th>\n",
       "      <td>0.0</td>\n",
       "      <td>0.0</td>\n",
       "      <td>1013.1</td>\n",
       "      <td>0.0</td>\n",
       "      <td>5.0190</td>\n",
       "      <td>26.1</td>\n",
       "      <td>11.100000</td>\n",
       "      <td>33.0</td>\n",
       "      <td>11.0</td>\n",
       "      <td>0.0</td>\n",
       "      <td>...</td>\n",
       "      <td>0.0</td>\n",
       "      <td>0.0</td>\n",
       "      <td>0.0</td>\n",
       "      <td>1.0</td>\n",
       "      <td>0.0</td>\n",
       "      <td>0.0</td>\n",
       "      <td>0.0</td>\n",
       "      <td>0.0</td>\n",
       "      <td>0.0</td>\n",
       "      <td>0.0</td>\n",
       "    </tr>\n",
       "    <tr>\n",
       "      <th>1</th>\n",
       "      <td>1.0</td>\n",
       "      <td>0.0</td>\n",
       "      <td>1010.2</td>\n",
       "      <td>1.0</td>\n",
       "      <td>5.0142</td>\n",
       "      <td>10.4</td>\n",
       "      <td>7.382214</td>\n",
       "      <td>46.0</td>\n",
       "      <td>17.0</td>\n",
       "      <td>0.0</td>\n",
       "      <td>...</td>\n",
       "      <td>0.0</td>\n",
       "      <td>0.0</td>\n",
       "      <td>0.0</td>\n",
       "      <td>0.0</td>\n",
       "      <td>0.0</td>\n",
       "      <td>0.0</td>\n",
       "      <td>1.0</td>\n",
       "      <td>0.0</td>\n",
       "      <td>0.0</td>\n",
       "      <td>0.0</td>\n",
       "    </tr>\n",
       "    <tr>\n",
       "      <th>2</th>\n",
       "      <td>2.0</td>\n",
       "      <td>0.0</td>\n",
       "      <td>1014.4</td>\n",
       "      <td>2.0</td>\n",
       "      <td>5.0280</td>\n",
       "      <td>12.3</td>\n",
       "      <td>5.590253</td>\n",
       "      <td>31.0</td>\n",
       "      <td>13.0</td>\n",
       "      <td>1.0</td>\n",
       "      <td>...</td>\n",
       "      <td>0.0</td>\n",
       "      <td>0.0</td>\n",
       "      <td>0.0</td>\n",
       "      <td>0.0</td>\n",
       "      <td>0.0</td>\n",
       "      <td>0.0</td>\n",
       "      <td>1.0</td>\n",
       "      <td>0.0</td>\n",
       "      <td>0.0</td>\n",
       "      <td>0.0</td>\n",
       "    </tr>\n",
       "    <tr>\n",
       "      <th>3</th>\n",
       "      <td>3.0</td>\n",
       "      <td>0.0</td>\n",
       "      <td>1019.2</td>\n",
       "      <td>3.0</td>\n",
       "      <td>5.0335</td>\n",
       "      <td>23.0</td>\n",
       "      <td>11.600000</td>\n",
       "      <td>41.0</td>\n",
       "      <td>9.0</td>\n",
       "      <td>0.0</td>\n",
       "      <td>...</td>\n",
       "      <td>0.0</td>\n",
       "      <td>1.0</td>\n",
       "      <td>0.0</td>\n",
       "      <td>0.0</td>\n",
       "      <td>0.0</td>\n",
       "      <td>0.0</td>\n",
       "      <td>0.0</td>\n",
       "      <td>0.0</td>\n",
       "      <td>0.0</td>\n",
       "      <td>0.0</td>\n",
       "    </tr>\n",
       "    <tr>\n",
       "      <th>4</th>\n",
       "      <td>4.0</td>\n",
       "      <td>0.0</td>\n",
       "      <td>1027.6</td>\n",
       "      <td>4.0</td>\n",
       "      <td>5.0129</td>\n",
       "      <td>7.3</td>\n",
       "      <td>7.300000</td>\n",
       "      <td>28.0</td>\n",
       "      <td>15.0</td>\n",
       "      <td>1.0</td>\n",
       "      <td>...</td>\n",
       "      <td>1.0</td>\n",
       "      <td>0.0</td>\n",
       "      <td>0.0</td>\n",
       "      <td>0.0</td>\n",
       "      <td>0.0</td>\n",
       "      <td>0.0</td>\n",
       "      <td>0.0</td>\n",
       "      <td>0.0</td>\n",
       "      <td>0.0</td>\n",
       "      <td>0.0</td>\n",
       "    </tr>\n",
       "    <tr>\n",
       "      <th>...</th>\n",
       "      <td>...</td>\n",
       "      <td>...</td>\n",
       "      <td>...</td>\n",
       "      <td>...</td>\n",
       "      <td>...</td>\n",
       "      <td>...</td>\n",
       "      <td>...</td>\n",
       "      <td>...</td>\n",
       "      <td>...</td>\n",
       "      <td>...</td>\n",
       "      <td>...</td>\n",
       "      <td>...</td>\n",
       "      <td>...</td>\n",
       "      <td>...</td>\n",
       "      <td>...</td>\n",
       "      <td>...</td>\n",
       "      <td>...</td>\n",
       "      <td>...</td>\n",
       "      <td>...</td>\n",
       "      <td>...</td>\n",
       "      <td>...</td>\n",
       "    </tr>\n",
       "    <tr>\n",
       "      <th>49995</th>\n",
       "      <td>49995.0</td>\n",
       "      <td>1.0</td>\n",
       "      <td>1030.1</td>\n",
       "      <td>40.0</td>\n",
       "      <td>5.0161</td>\n",
       "      <td>14.4</td>\n",
       "      <td>6.008230</td>\n",
       "      <td>30.0</td>\n",
       "      <td>15.0</td>\n",
       "      <td>0.0</td>\n",
       "      <td>...</td>\n",
       "      <td>0.0</td>\n",
       "      <td>0.0</td>\n",
       "      <td>1.0</td>\n",
       "      <td>0.0</td>\n",
       "      <td>0.0</td>\n",
       "      <td>0.0</td>\n",
       "      <td>0.0</td>\n",
       "      <td>0.0</td>\n",
       "      <td>0.0</td>\n",
       "      <td>0.0</td>\n",
       "    </tr>\n",
       "    <tr>\n",
       "      <th>49996</th>\n",
       "      <td>49996.0</td>\n",
       "      <td>1.0</td>\n",
       "      <td>1017.9</td>\n",
       "      <td>22.0</td>\n",
       "      <td>5.0319</td>\n",
       "      <td>23.4</td>\n",
       "      <td>1.800000</td>\n",
       "      <td>39.0</td>\n",
       "      <td>9.0</td>\n",
       "      <td>0.0</td>\n",
       "      <td>...</td>\n",
       "      <td>0.0</td>\n",
       "      <td>0.0</td>\n",
       "      <td>0.0</td>\n",
       "      <td>0.0</td>\n",
       "      <td>0.0</td>\n",
       "      <td>0.0</td>\n",
       "      <td>0.0</td>\n",
       "      <td>0.0</td>\n",
       "      <td>0.0</td>\n",
       "      <td>1.0</td>\n",
       "    </tr>\n",
       "    <tr>\n",
       "      <th>49997</th>\n",
       "      <td>49997.0</td>\n",
       "      <td>0.0</td>\n",
       "      <td>1021.2</td>\n",
       "      <td>13.0</td>\n",
       "      <td>5.0247</td>\n",
       "      <td>14.0</td>\n",
       "      <td>12.200000</td>\n",
       "      <td>39.0</td>\n",
       "      <td>19.0</td>\n",
       "      <td>0.0</td>\n",
       "      <td>...</td>\n",
       "      <td>0.0</td>\n",
       "      <td>0.0</td>\n",
       "      <td>0.0</td>\n",
       "      <td>1.0</td>\n",
       "      <td>0.0</td>\n",
       "      <td>0.0</td>\n",
       "      <td>0.0</td>\n",
       "      <td>0.0</td>\n",
       "      <td>0.0</td>\n",
       "      <td>0.0</td>\n",
       "    </tr>\n",
       "    <tr>\n",
       "      <th>49998</th>\n",
       "      <td>49998.0</td>\n",
       "      <td>0.0</td>\n",
       "      <td>1012.4</td>\n",
       "      <td>0.0</td>\n",
       "      <td>5.0219</td>\n",
       "      <td>29.9</td>\n",
       "      <td>9.500000</td>\n",
       "      <td>52.0</td>\n",
       "      <td>20.0</td>\n",
       "      <td>0.0</td>\n",
       "      <td>...</td>\n",
       "      <td>0.0</td>\n",
       "      <td>0.0</td>\n",
       "      <td>0.0</td>\n",
       "      <td>0.0</td>\n",
       "      <td>1.0</td>\n",
       "      <td>0.0</td>\n",
       "      <td>0.0</td>\n",
       "      <td>0.0</td>\n",
       "      <td>0.0</td>\n",
       "      <td>0.0</td>\n",
       "    </tr>\n",
       "    <tr>\n",
       "      <th>49999</th>\n",
       "      <td>49999.0</td>\n",
       "      <td>1.0</td>\n",
       "      <td>1022.9</td>\n",
       "      <td>15.0</td>\n",
       "      <td>5.0166</td>\n",
       "      <td>21.9</td>\n",
       "      <td>0.000000</td>\n",
       "      <td>39.0</td>\n",
       "      <td>11.0</td>\n",
       "      <td>0.0</td>\n",
       "      <td>...</td>\n",
       "      <td>0.0</td>\n",
       "      <td>0.0</td>\n",
       "      <td>0.0</td>\n",
       "      <td>0.0</td>\n",
       "      <td>0.0</td>\n",
       "      <td>0.0</td>\n",
       "      <td>0.0</td>\n",
       "      <td>0.0</td>\n",
       "      <td>0.0</td>\n",
       "      <td>0.0</td>\n",
       "    </tr>\n",
       "  </tbody>\n",
       "</table>\n",
       "<p>50000 rows × 86 columns</p>\n",
       "</div>"
      ],
      "text/plain": [
       "            id  target      f0    f1      f2    f3         f5    f6    f7  \\\n",
       "0          0.0     0.0  1013.1   0.0  5.0190  26.1  11.100000  33.0  11.0   \n",
       "1          1.0     0.0  1010.2   1.0  5.0142  10.4   7.382214  46.0  17.0   \n",
       "2          2.0     0.0  1014.4   2.0  5.0280  12.3   5.590253  31.0  13.0   \n",
       "3          3.0     0.0  1019.2   3.0  5.0335  23.0  11.600000  41.0   9.0   \n",
       "4          4.0     0.0  1027.6   4.0  5.0129   7.3   7.300000  28.0  15.0   \n",
       "...        ...     ...     ...   ...     ...   ...        ...   ...   ...   \n",
       "49995  49995.0     1.0  1030.1  40.0  5.0161  14.4   6.008230  30.0  15.0   \n",
       "49996  49996.0     1.0  1017.9  22.0  5.0319  23.4   1.800000  39.0   9.0   \n",
       "49997  49997.0     0.0  1021.2  13.0  5.0247  14.0  12.200000  39.0  19.0   \n",
       "49998  49998.0     0.0  1012.4   0.0  5.0219  29.9   9.500000  52.0  20.0   \n",
       "49999  49999.0     1.0  1022.9  15.0  5.0166  21.9   0.000000  39.0  11.0   \n",
       "\n",
       "        f9  ...  f21_dbd  f21_dnd  f21_n  f21_nd  f21_nnd  f21_nnx  f21_nx  \\\n",
       "0      0.0  ...      0.0      0.0    0.0     1.0      0.0      0.0     0.0   \n",
       "1      0.0  ...      0.0      0.0    0.0     0.0      0.0      0.0     1.0   \n",
       "2      1.0  ...      0.0      0.0    0.0     0.0      0.0      0.0     1.0   \n",
       "3      0.0  ...      0.0      1.0    0.0     0.0      0.0      0.0     0.0   \n",
       "4      1.0  ...      1.0      0.0    0.0     0.0      0.0      0.0     0.0   \n",
       "...    ...  ...      ...      ...    ...     ...      ...      ...     ...   \n",
       "49995  0.0  ...      0.0      0.0    1.0     0.0      0.0      0.0     0.0   \n",
       "49996  0.0  ...      0.0      0.0    0.0     0.0      0.0      0.0     0.0   \n",
       "49997  0.0  ...      0.0      0.0    0.0     1.0      0.0      0.0     0.0   \n",
       "49998  0.0  ...      0.0      0.0    0.0     0.0      1.0      0.0     0.0   \n",
       "49999  0.0  ...      0.0      0.0    0.0     0.0      0.0      0.0     0.0   \n",
       "\n",
       "       f21_x  f21_xbx  f21_xnx  \n",
       "0        0.0      0.0      0.0  \n",
       "1        0.0      0.0      0.0  \n",
       "2        0.0      0.0      0.0  \n",
       "3        0.0      0.0      0.0  \n",
       "4        0.0      0.0      0.0  \n",
       "...      ...      ...      ...  \n",
       "49995    0.0      0.0      0.0  \n",
       "49996    0.0      0.0      1.0  \n",
       "49997    0.0      0.0      0.0  \n",
       "49998    0.0      0.0      0.0  \n",
       "49999    0.0      0.0      0.0  \n",
       "\n",
       "[50000 rows x 86 columns]"
      ]
     },
     "execution_count": 48,
     "metadata": {},
     "output_type": "execute_result"
    }
   ],
   "source": [
    "train_imputed"
   ]
  },
  {
   "cell_type": "code",
   "execution_count": 49,
   "metadata": {},
   "outputs": [
    {
     "data": {
      "text/plain": [
       "0"
      ]
     },
     "execution_count": 49,
     "metadata": {},
     "output_type": "execute_result"
    }
   ],
   "source": [
    "train_imputed.duplicated().apply(lambda x: x is True).sum()"
   ]
  },
  {
   "cell_type": "markdown",
   "metadata": {},
   "source": [
    "Still no duplicate rows."
   ]
  },
  {
   "cell_type": "markdown",
   "metadata": {},
   "source": [
    "## Outlier Treatment"
   ]
  },
  {
   "cell_type": "code",
   "execution_count": 50,
   "metadata": {},
   "outputs": [],
   "source": [
    "def find_skew(x):\n",
    "    tmp=x.dropna()\n",
    "    skew_value=skew(tmp)\n",
    "    return 'sample lenght: %s   and skew: %s'%(len(tmp),skew_value)"
   ]
  },
  {
   "cell_type": "markdown",
   "metadata": {},
   "source": [
    "Lets find the skew value for the features with outliers, and try to lower it."
   ]
  },
  {
   "cell_type": "code",
   "execution_count": 51,
   "metadata": {
    "scrolled": true
   },
   "outputs": [
    {
     "name": "stdout",
     "output_type": "stream",
     "text": [
      "id :  sample lenght: 50000   and skew: 0.0\n",
      "target :  sample lenght: 50000   and skew: 1.314909887767842\n",
      "f0 :  sample lenght: 50000   and skew: -0.09653780092899415\n",
      "f1 :  sample lenght: 50000   and skew: 0.041465316694681204\n",
      "f2 :  sample lenght: 50000   and skew: -0.14716970201898816\n",
      "f3 :  sample lenght: 50000   and skew: 0.07059467057490015\n",
      "f5 :  sample lenght: 50000   and skew: -0.34486737861685457\n",
      "f6 :  sample lenght: 50000   and skew: 0.8882569087139247\n",
      "f7 :  sample lenght: 50000   and skew: 0.7837967017567634\n",
      "f9 :  sample lenght: 50000   and skew: 1.3320975483651094\n",
      "f10 :  sample lenght: 50000   and skew: 3.90333056266775\n",
      "f11 :  sample lenght: 50000   and skew: 0.2181082127099453\n",
      "f13 :  sample lenght: 50000   and skew: 11.091957988554398\n",
      "f14 :  sample lenght: 50000   and skew: -0.22331129523493293\n",
      "f15 :  sample lenght: 50000   and skew: 0.622111643050139\n",
      "f16 :  sample lenght: 50000   and skew: 0.22556326876252947\n",
      "f18 :  sample lenght: 50000   and skew: -0.28859536448006745\n",
      "f19 :  sample lenght: 50000   and skew: -0.053820087153218406\n",
      "f20 :  sample lenght: 50000   and skew: -0.20609143162869462\n",
      "f22 :  sample lenght: 50000   and skew: 0.016154311858825144\n",
      "f23 :  sample lenght: 50000   and skew: -0.3259516628665317\n",
      "f24 :  sample lenght: 50000   and skew: -0.4710360529886136\n",
      "f12_dec :  sample lenght: 50000   and skew: -0.003729032104096605\n",
      "f4_b :  sample lenght: 50000   and skew: 3.5491947178344097\n",
      "f4_bbd :  sample lenght: 50000   and skew: 4.424829197711377\n",
      "f4_bbx :  sample lenght: 50000   and skew: 4.436315860728839\n",
      "f4_bd :  sample lenght: 50000   and skew: 4.116013317150853\n",
      "f4_bx :  sample lenght: 50000   and skew: 3.8207556774117695\n",
      "f4_d :  sample lenght: 50000   and skew: 3.5771655404991862\n",
      "f4_dbd :  sample lenght: 50000   and skew: 3.8979497879130576\n",
      "f4_dnd :  sample lenght: 50000   and skew: 4.1016990346541276\n",
      "f4_n :  sample lenght: 50000   and skew: 3.597256139356875\n",
      "f4_nd :  sample lenght: 50000   and skew: 3.5111244011347287\n",
      "f4_nnd :  sample lenght: 50000   and skew: 3.5833730357181413\n",
      "f4_nnx :  sample lenght: 50000   and skew: 3.661291969345687\n",
      "f4_nx :  sample lenght: 50000   and skew: 3.6678406310954292\n",
      "f4_x :  sample lenght: 50000   and skew: 3.425777031605107\n",
      "f4_xbx :  sample lenght: 50000   and skew: 3.8151509693891392\n",
      "f4_xnx :  sample lenght: 50000   and skew: 3.5854476800517228\n",
      "f8_a :  sample lenght: 50000   and skew: 2.514608619268386\n",
      "f8_b :  sample lenght: 50000   and skew: 3.2309729573499966\n",
      "f8_c :  sample lenght: 50000   and skew: 2.7680431795685454\n",
      "f8_d :  sample lenght: 50000   and skew: 4.094113954505075\n",
      "f8_e :  sample lenght: 50000   and skew: 3.5498710033498853\n",
      "f8_f :  sample lenght: 50000   and skew: 4.2004903464763865\n",
      "f8_g :  sample lenght: 50000   and skew: 9.595189735881364\n",
      "f8_h :  sample lenght: 50000   and skew: 2.7941711792965567\n",
      "f8_i :  sample lenght: 50000   and skew: 3.7647887891870564\n",
      "f8_j :  sample lenght: 50000   and skew: 13.447267349437006\n",
      "f8_k :  sample lenght: 50000   and skew: 3.5243764539277977\n",
      "f8_l :  sample lenght: 50000   and skew: 13.679157731928015\n",
      "f8_m :  sample lenght: 50000   and skew: 2.6954817413767675\n",
      "f8_n :  sample lenght: 50000   and skew: 2.384679123295134\n",
      "f8_o :  sample lenght: 50000   and skew: 3.2194951665930436\n",
      "f17_b :  sample lenght: 50000   and skew: 3.6876503130576626\n",
      "f17_bbd :  sample lenght: 50000   and skew: 4.325756815115378\n",
      "f17_bbx :  sample lenght: 50000   and skew: 3.933652761400947\n",
      "f17_bd :  sample lenght: 50000   and skew: 3.80082724871879\n",
      "f17_bx :  sample lenght: 50000   and skew: 3.755518533067753\n",
      "f17_d :  sample lenght: 50000   and skew: 3.7913480611461448\n",
      "f17_dbd :  sample lenght: 50000   and skew: 3.978953751117716\n",
      "f17_dnd :  sample lenght: 50000   and skew: 3.7455357448232034\n",
      "f17_n :  sample lenght: 50000   and skew: 3.437054442886495\n",
      "f17_nd :  sample lenght: 50000   and skew: 3.2205844834559763\n",
      "f17_nnd :  sample lenght: 50000   and skew: 3.558009388617304\n",
      "f17_nnx :  sample lenght: 50000   and skew: 3.8630068959017096\n",
      "f17_nx :  sample lenght: 50000   and skew: 3.542447956584967\n",
      "f17_x :  sample lenght: 50000   and skew: 3.353246109478921\n",
      "f17_xbx :  sample lenght: 50000   and skew: 3.6446784905010663\n",
      "f17_xnx :  sample lenght: 50000   and skew: 3.513765770739713\n",
      "f21_b :  sample lenght: 50000   and skew: 3.0982857396488583\n",
      "f21_bbd :  sample lenght: 50000   and skew: 3.8320234935917905\n",
      "f21_bbx :  sample lenght: 50000   and skew: 3.871259203694692\n",
      "f21_bd :  sample lenght: 50000   and skew: 3.997604858418131\n",
      "f21_bx :  sample lenght: 50000   and skew: 3.6766144470998747\n",
      "f21_d :  sample lenght: 50000   and skew: 3.5937738255693086\n",
      "f21_dbd :  sample lenght: 50000   and skew: 3.928504700975804\n",
      "f21_dnd :  sample lenght: 50000   and skew: 3.9922546054787027\n",
      "f21_n :  sample lenght: 50000   and skew: 3.743240814920062\n",
      "f21_nd :  sample lenght: 50000   and skew: 3.5471676201335716\n",
      "f21_nnd :  sample lenght: 50000   and skew: 3.5972561393568747\n",
      "f21_nnx :  sample lenght: 50000   and skew: 4.073428906970931\n",
      "f21_nx :  sample lenght: 50000   and skew: 3.802412529595942\n",
      "f21_x :  sample lenght: 50000   and skew: 3.7882006483601356\n",
      "f21_xbx :  sample lenght: 50000   and skew: 4.091278299347591\n",
      "f21_xnx :  sample lenght: 50000   and skew: 4.227895295457416\n"
     ]
    }
   ],
   "source": [
    "def print_skews():\n",
    "    for col in train_imputed.columns:\n",
    "        print(col, ': ', find_skew(train_imputed[col]))\n",
    "        \n",
    "print_skews()"
   ]
  },
  {
   "cell_type": "markdown",
   "metadata": {},
   "source": [
    "Let's consider the numerical features first, which are all features above `f4_b`. `f13` has a very high skew of 11.09, and `f10` is a little higher than the rest, with a value of 3.9."
   ]
  },
  {
   "cell_type": "code",
   "execution_count": 52,
   "metadata": {
    "scrolled": true
   },
   "outputs": [
    {
     "data": {
      "text/plain": [
       "<AxesSubplot:>"
      ]
     },
     "execution_count": 52,
     "metadata": {},
     "output_type": "execute_result"
    },
    {
     "data": {
      "image/png": "[encoded data removed]",
      "text/plain": [
       "<Figure size 1080x576 with 1 Axes>"
      ]
     },
     "metadata": {},
     "output_type": "display_data"
    }
   ],
   "source": [
    "train_imputed.boxplot(['f10', 'f13'], figsize=(15,8))"
   ]
  },
  {
   "cell_type": "code",
   "execution_count": 53,
   "metadata": {},
   "outputs": [
    {
     "data": {
      "text/plain": [
       "'sample lenght: 49980   and skew: 1.8983107365083447'"
      ]
     },
     "execution_count": 53,
     "metadata": {},
     "output_type": "execute_result"
    }
   ],
   "source": [
    "train_outliers_1 = train_imputed[train_imputed.f10<50]\n",
    "find_skew(train_outliers_1['f10'])"
   ]
  },
  {
   "cell_type": "code",
   "execution_count": 54,
   "metadata": {},
   "outputs": [
    {
     "data": {
      "text/plain": [
       "'sample lenght: 49690   and skew: 4.465692760637752'"
      ]
     },
     "execution_count": 54,
     "metadata": {},
     "output_type": "execute_result"
    }
   ],
   "source": [
    "train_outliers_2 = train_outliers_1[train_outliers_1.f13<50]\n",
    "find_skew(train_outliers_2.f13)"
   ]
  },
  {
   "cell_type": "code",
   "execution_count": 55,
   "metadata": {},
   "outputs": [],
   "source": [
    "train_outliers = train_outliers_2.copy()"
   ]
  },
  {
   "cell_type": "markdown",
   "metadata": {},
   "source": [
    "# Feature transformation"
   ]
  },
  {
   "cell_type": "code",
   "execution_count": 56,
   "metadata": {},
   "outputs": [],
   "source": [
    "train_transformed = train_outliers.copy()\n",
    "test_transformed = test_imputed.copy()"
   ]
  },
  {
   "cell_type": "code",
   "execution_count": 57,
   "metadata": {},
   "outputs": [
    {
     "data": {
      "text/html": [
       "<div>\n",
       "<style scoped>\n",
       "    .dataframe tbody tr th:only-of-type {\n",
       "        vertical-align: middle;\n",
       "    }\n",
       "\n",
       "    .dataframe tbody tr th {\n",
       "        vertical-align: top;\n",
       "    }\n",
       "\n",
       "    .dataframe thead th {\n",
       "        text-align: right;\n",
       "    }\n",
       "</style>\n",
       "<table border=\"1\" class=\"dataframe\">\n",
       "  <thead>\n",
       "    <tr style=\"text-align: right;\">\n",
       "      <th></th>\n",
       "      <th>id</th>\n",
       "      <th>target</th>\n",
       "      <th>f0</th>\n",
       "      <th>f1</th>\n",
       "      <th>f2</th>\n",
       "      <th>f3</th>\n",
       "      <th>f5</th>\n",
       "      <th>f6</th>\n",
       "      <th>f7</th>\n",
       "      <th>f9</th>\n",
       "      <th>...</th>\n",
       "      <th>f21_dbd</th>\n",
       "      <th>f21_dnd</th>\n",
       "      <th>f21_n</th>\n",
       "      <th>f21_nd</th>\n",
       "      <th>f21_nnd</th>\n",
       "      <th>f21_nnx</th>\n",
       "      <th>f21_nx</th>\n",
       "      <th>f21_x</th>\n",
       "      <th>f21_xbx</th>\n",
       "      <th>f21_xnx</th>\n",
       "    </tr>\n",
       "  </thead>\n",
       "  <tbody>\n",
       "    <tr>\n",
       "      <th>count</th>\n",
       "      <td>49690.000000</td>\n",
       "      <td>49690.000000</td>\n",
       "      <td>49690.000000</td>\n",
       "      <td>49690.000000</td>\n",
       "      <td>49690.000000</td>\n",
       "      <td>49690.000000</td>\n",
       "      <td>49690.000000</td>\n",
       "      <td>49690.000000</td>\n",
       "      <td>49690.000000</td>\n",
       "      <td>49690.000000</td>\n",
       "      <td>...</td>\n",
       "      <td>49690.000000</td>\n",
       "      <td>49690.000000</td>\n",
       "      <td>49690.000000</td>\n",
       "      <td>49690.000000</td>\n",
       "      <td>49690.000000</td>\n",
       "      <td>49690.000000</td>\n",
       "      <td>49690.000000</td>\n",
       "      <td>49690.000000</td>\n",
       "      <td>49690.000000</td>\n",
       "      <td>49690.000000</td>\n",
       "    </tr>\n",
       "    <tr>\n",
       "      <th>mean</th>\n",
       "      <td>24995.430509</td>\n",
       "      <td>0.222338</td>\n",
       "      <td>1017.717521</td>\n",
       "      <td>23.504931</td>\n",
       "      <td>5.018890</td>\n",
       "      <td>16.954601</td>\n",
       "      <td>7.470026</td>\n",
       "      <td>39.651454</td>\n",
       "      <td>13.881092</td>\n",
       "      <td>0.218923</td>\n",
       "      <td>...</td>\n",
       "      <td>0.054498</td>\n",
       "      <td>0.052928</td>\n",
       "      <td>0.058845</td>\n",
       "      <td>0.064258</td>\n",
       "      <td>0.062910</td>\n",
       "      <td>0.051036</td>\n",
       "      <td>0.057235</td>\n",
       "      <td>0.057718</td>\n",
       "      <td>0.050654</td>\n",
       "      <td>0.048038</td>\n",
       "    </tr>\n",
       "    <tr>\n",
       "      <th>std</th>\n",
       "      <td>14438.589267</td>\n",
       "      <td>0.415822</td>\n",
       "      <td>6.774958</td>\n",
       "      <td>14.012968</td>\n",
       "      <td>0.007094</td>\n",
       "      <td>6.530071</td>\n",
       "      <td>3.268211</td>\n",
       "      <td>13.505072</td>\n",
       "      <td>8.916947</td>\n",
       "      <td>0.411366</td>\n",
       "      <td>...</td>\n",
       "      <td>0.227000</td>\n",
       "      <td>0.223892</td>\n",
       "      <td>0.235336</td>\n",
       "      <td>0.245215</td>\n",
       "      <td>0.242804</td>\n",
       "      <td>0.220074</td>\n",
       "      <td>0.232293</td>\n",
       "      <td>0.233211</td>\n",
       "      <td>0.219292</td>\n",
       "      <td>0.213848</td>\n",
       "    </tr>\n",
       "    <tr>\n",
       "      <th>min</th>\n",
       "      <td>0.000000</td>\n",
       "      <td>0.000000</td>\n",
       "      <td>982.000000</td>\n",
       "      <td>0.000000</td>\n",
       "      <td>4.998000</td>\n",
       "      <td>-6.200000</td>\n",
       "      <td>-0.850239</td>\n",
       "      <td>7.000000</td>\n",
       "      <td>-5.958606</td>\n",
       "      <td>-0.131136</td>\n",
       "      <td>...</td>\n",
       "      <td>0.000000</td>\n",
       "      <td>0.000000</td>\n",
       "      <td>0.000000</td>\n",
       "      <td>0.000000</td>\n",
       "      <td>0.000000</td>\n",
       "      <td>0.000000</td>\n",
       "      <td>0.000000</td>\n",
       "      <td>0.000000</td>\n",
       "      <td>0.000000</td>\n",
       "      <td>0.000000</td>\n",
       "    </tr>\n",
       "    <tr>\n",
       "      <th>25%</th>\n",
       "      <td>12490.250000</td>\n",
       "      <td>0.000000</td>\n",
       "      <td>1013.600000</td>\n",
       "      <td>11.000000</td>\n",
       "      <td>5.014100</td>\n",
       "      <td>12.200000</td>\n",
       "      <td>5.273000</td>\n",
       "      <td>30.000000</td>\n",
       "      <td>7.000000</td>\n",
       "      <td>0.000000</td>\n",
       "      <td>...</td>\n",
       "      <td>0.000000</td>\n",
       "      <td>0.000000</td>\n",
       "      <td>0.000000</td>\n",
       "      <td>0.000000</td>\n",
       "      <td>0.000000</td>\n",
       "      <td>0.000000</td>\n",
       "      <td>0.000000</td>\n",
       "      <td>0.000000</td>\n",
       "      <td>0.000000</td>\n",
       "      <td>0.000000</td>\n",
       "    </tr>\n",
       "    <tr>\n",
       "      <th>50%</th>\n",
       "      <td>24993.500000</td>\n",
       "      <td>0.000000</td>\n",
       "      <td>1017.700000</td>\n",
       "      <td>23.000000</td>\n",
       "      <td>5.019000</td>\n",
       "      <td>16.700000</td>\n",
       "      <td>7.773710</td>\n",
       "      <td>37.000000</td>\n",
       "      <td>13.000000</td>\n",
       "      <td>0.000000</td>\n",
       "      <td>...</td>\n",
       "      <td>0.000000</td>\n",
       "      <td>0.000000</td>\n",
       "      <td>0.000000</td>\n",
       "      <td>0.000000</td>\n",
       "      <td>0.000000</td>\n",
       "      <td>0.000000</td>\n",
       "      <td>0.000000</td>\n",
       "      <td>0.000000</td>\n",
       "      <td>0.000000</td>\n",
       "      <td>0.000000</td>\n",
       "    </tr>\n",
       "    <tr>\n",
       "      <th>75%</th>\n",
       "      <td>37497.750000</td>\n",
       "      <td>0.000000</td>\n",
       "      <td>1021.900000</td>\n",
       "      <td>35.000000</td>\n",
       "      <td>5.023900</td>\n",
       "      <td>21.500000</td>\n",
       "      <td>9.994390</td>\n",
       "      <td>47.102551</td>\n",
       "      <td>19.000000</td>\n",
       "      <td>0.000000</td>\n",
       "      <td>...</td>\n",
       "      <td>0.000000</td>\n",
       "      <td>0.000000</td>\n",
       "      <td>0.000000</td>\n",
       "      <td>0.000000</td>\n",
       "      <td>0.000000</td>\n",
       "      <td>0.000000</td>\n",
       "      <td>0.000000</td>\n",
       "      <td>0.000000</td>\n",
       "      <td>0.000000</td>\n",
       "      <td>0.000000</td>\n",
       "    </tr>\n",
       "    <tr>\n",
       "      <th>max</th>\n",
       "      <td>49999.000000</td>\n",
       "      <td>1.000000</td>\n",
       "      <td>1040.900000</td>\n",
       "      <td>48.000000</td>\n",
       "      <td>5.045800</td>\n",
       "      <td>39.100000</td>\n",
       "      <td>15.492052</td>\n",
       "      <td>130.000000</td>\n",
       "      <td>87.000000</td>\n",
       "      <td>1.000000</td>\n",
       "      <td>...</td>\n",
       "      <td>1.000000</td>\n",
       "      <td>1.000000</td>\n",
       "      <td>1.000000</td>\n",
       "      <td>1.000000</td>\n",
       "      <td>1.000000</td>\n",
       "      <td>1.000000</td>\n",
       "      <td>1.000000</td>\n",
       "      <td>1.000000</td>\n",
       "      <td>1.000000</td>\n",
       "      <td>1.000000</td>\n",
       "    </tr>\n",
       "  </tbody>\n",
       "</table>\n",
       "<p>8 rows × 86 columns</p>\n",
       "</div>"
      ],
      "text/plain": [
       "                 id        target            f0            f1            f2  \\\n",
       "count  49690.000000  49690.000000  49690.000000  49690.000000  49690.000000   \n",
       "mean   24995.430509      0.222338   1017.717521     23.504931      5.018890   \n",
       "std    14438.589267      0.415822      6.774958     14.012968      0.007094   \n",
       "min        0.000000      0.000000    982.000000      0.000000      4.998000   \n",
       "25%    12490.250000      0.000000   1013.600000     11.000000      5.014100   \n",
       "50%    24993.500000      0.000000   1017.700000     23.000000      5.019000   \n",
       "75%    37497.750000      0.000000   1021.900000     35.000000      5.023900   \n",
       "max    49999.000000      1.000000   1040.900000     48.000000      5.045800   \n",
       "\n",
       "                 f3            f5            f6            f7            f9  \\\n",
       "count  49690.000000  49690.000000  49690.000000  49690.000000  49690.000000   \n",
       "mean      16.954601      7.470026     39.651454     13.881092      0.218923   \n",
       "std        6.530071      3.268211     13.505072      8.916947      0.411366   \n",
       "min       -6.200000     -0.850239      7.000000     -5.958606     -0.131136   \n",
       "25%       12.200000      5.273000     30.000000      7.000000      0.000000   \n",
       "50%       16.700000      7.773710     37.000000     13.000000      0.000000   \n",
       "75%       21.500000      9.994390     47.102551     19.000000      0.000000   \n",
       "max       39.100000     15.492052    130.000000     87.000000      1.000000   \n",
       "\n",
       "       ...       f21_dbd       f21_dnd         f21_n        f21_nd  \\\n",
       "count  ...  49690.000000  49690.000000  49690.000000  49690.000000   \n",
       "mean   ...      0.054498      0.052928      0.058845      0.064258   \n",
       "std    ...      0.227000      0.223892      0.235336      0.245215   \n",
       "min    ...      0.000000      0.000000      0.000000      0.000000   \n",
       "25%    ...      0.000000      0.000000      0.000000      0.000000   \n",
       "50%    ...      0.000000      0.000000      0.000000      0.000000   \n",
       "75%    ...      0.000000      0.000000      0.000000      0.000000   \n",
       "max    ...      1.000000      1.000000      1.000000      1.000000   \n",
       "\n",
       "            f21_nnd       f21_nnx        f21_nx         f21_x       f21_xbx  \\\n",
       "count  49690.000000  49690.000000  49690.000000  49690.000000  49690.000000   \n",
       "mean       0.062910      0.051036      0.057235      0.057718      0.050654   \n",
       "std        0.242804      0.220074      0.232293      0.233211      0.219292   \n",
       "min        0.000000      0.000000      0.000000      0.000000      0.000000   \n",
       "25%        0.000000      0.000000      0.000000      0.000000      0.000000   \n",
       "50%        0.000000      0.000000      0.000000      0.000000      0.000000   \n",
       "75%        0.000000      0.000000      0.000000      0.000000      0.000000   \n",
       "max        1.000000      1.000000      1.000000      1.000000      1.000000   \n",
       "\n",
       "            f21_xnx  \n",
       "count  49690.000000  \n",
       "mean       0.048038  \n",
       "std        0.213848  \n",
       "min        0.000000  \n",
       "25%        0.000000  \n",
       "50%        0.000000  \n",
       "75%        0.000000  \n",
       "max        1.000000  \n",
       "\n",
       "[8 rows x 86 columns]"
      ]
     },
     "execution_count": 57,
     "metadata": {},
     "output_type": "execute_result"
    }
   ],
   "source": [
    "train_transformed.describe()"
   ]
  },
  {
   "cell_type": "markdown",
   "metadata": {},
   "source": [
    "f12_dec has very big values, so we will transform this feature to logarithmic scale.\n",
    "f0 has all its values around 1000, so I will take the difference of x - 1000 as the new feature.\n",
    "f2 has all its values around 5, so same here: x - 5"
   ]
  },
  {
   "cell_type": "code",
   "execution_count": 58,
   "metadata": {},
   "outputs": [],
   "source": [
    "train_transformed['f12_dec'] = np.log(train_transformed['f12_dec'])\n",
    "train_transformed['f0'] = train_transformed['f0'] - 1000\n",
    "train_transformed['f2'] = train_transformed['f0'] - 5"
   ]
  },
  {
   "cell_type": "code",
   "execution_count": 59,
   "metadata": {},
   "outputs": [],
   "source": [
    "test_transformed['f12_dec'] = np.log(test_transformed['f12_dec'])\n",
    "test_transformed['f0'] = test_transformed['f0'] - 1000\n",
    "test_transformed['f2'] = test_transformed['f0'] - 5"
   ]
  },
  {
   "cell_type": "code",
   "execution_count": 60,
   "metadata": {},
   "outputs": [
    {
     "data": {
      "text/plain": [
       "(49690, 86)"
      ]
     },
     "execution_count": 60,
     "metadata": {},
     "output_type": "execute_result"
    }
   ],
   "source": [
    "train_transformed = train_transformed.drop_duplicates()\n",
    "train_transformed.shape"
   ]
  },
  {
   "cell_type": "code",
   "execution_count": 61,
   "metadata": {},
   "outputs": [
    {
     "data": {
      "text/plain": [
       "(50000, 85)"
      ]
     },
     "execution_count": 61,
     "metadata": {},
     "output_type": "execute_result"
    }
   ],
   "source": [
    "test_transformed.shape"
   ]
  },
  {
   "cell_type": "markdown",
   "metadata": {},
   "source": [
    "# Split the training data"
   ]
  },
  {
   "cell_type": "code",
   "execution_count": 62,
   "metadata": {},
   "outputs": [],
   "source": [
    "# split data into train and test sets\n",
    "seed = 7\n",
    "test_size = 0.33\n",
    "\n",
    "y = train_transformed[\"target\"].values\n",
    "train_cleaned = train_transformed.drop('target', axis=1)\n",
    "X_train, X_test, y_train, y_test = train_test_split(train_cleaned, y, test_size=test_size, random_state=seed)"
   ]
  },
  {
   "cell_type": "markdown",
   "metadata": {},
   "source": [
    "# Resampling"
   ]
  },
  {
   "cell_type": "markdown",
   "metadata": {},
   "source": [
    "Oversample to get balanced training data"
   ]
  },
  {
   "cell_type": "code",
   "execution_count": 64,
   "metadata": {},
   "outputs": [],
   "source": [
    "from imblearn.over_sampling import SMOTE\n",
    "\n",
    "smote = SMOTE()\n",
    "X_sm, y_sm = smote.fit_sample(X_train, y_train)"
   ]
  },
  {
   "cell_type": "code",
   "execution_count": 65,
   "metadata": {},
   "outputs": [
    {
     "data": {
      "text/plain": [
       "(51778, 85)"
      ]
     },
     "execution_count": 65,
     "metadata": {},
     "output_type": "execute_result"
    }
   ],
   "source": [
    "X_sm.shape"
   ]
  },
  {
   "cell_type": "markdown",
   "metadata": {},
   "source": [
    "Oversample then undersample"
   ]
  },
  {
   "cell_type": "code",
   "execution_count": 66,
   "metadata": {},
   "outputs": [],
   "source": [
    "from imblearn.combine import SMOTETomek\n",
    "\n",
    "smt = SMOTETomek()\n",
    "X_smt, y_smt = smt.fit_sample(X_train, y_train)"
   ]
  },
  {
   "cell_type": "code",
   "execution_count": 67,
   "metadata": {},
   "outputs": [
    {
     "data": {
      "text/plain": [
       "(51316, 85)"
      ]
     },
     "execution_count": 67,
     "metadata": {},
     "output_type": "execute_result"
    }
   ],
   "source": [
    "X_smt.shape"
   ]
  },
  {
   "cell_type": "markdown",
   "metadata": {},
   "source": [
    "# Modelling"
   ]
  },
  {
   "cell_type": "markdown",
   "metadata": {},
   "source": [
    "## Baseline models"
   ]
  },
  {
   "cell_type": "markdown",
   "metadata": {},
   "source": [
    "Guess random class"
   ]
  },
  {
   "cell_type": "code",
   "execution_count": 68,
   "metadata": {},
   "outputs": [
    {
     "data": {
      "text/plain": [
       "0.495670203683376"
      ]
     },
     "execution_count": 68,
     "metadata": {},
     "output_type": "execute_result"
    }
   ],
   "source": [
    "from sklearn.dummy import DummyClassifier\n",
    "\n",
    "random_clf = DummyClassifier(strategy='uniform', random_state=seed)\n",
    "random_clf.fit(X_train, y_train)\n",
    "predictions = random_clf.predict(X_test)\n",
    "score = random_clf.score(X_test, y_test)\n",
    "score"
   ]
  },
  {
   "cell_type": "markdown",
   "metadata": {},
   "source": [
    "Guess the most frequent target"
   ]
  },
  {
   "cell_type": "code",
   "execution_count": 69,
   "metadata": {},
   "outputs": [
    {
     "name": "stdout",
     "output_type": "stream",
     "text": [
      "Prediction score: 0.7777167947310648\n",
      "\n",
      "Value counts:\n",
      "0.0    25889\n",
      "1.0     7403\n",
      "dtype: int64\n",
      "0.0    12753\n",
      "1.0     3645\n",
      "dtype: int64\n"
     ]
    }
   ],
   "source": [
    "zero_rule_clf = DummyClassifier(strategy='most_frequent', random_state=seed)\n",
    "zero_rule_clf.fit(X_train, y_train)\n",
    "predictions = zero_rule_clf.predict(X_test)\n",
    "score = zero_rule_clf.score(X_test, y_test)\n",
    "\n",
    "print(\"Prediction score:\", score) \n",
    "\n",
    "# See the actual number of different labels, to check that the score makes sense\n",
    "print(\"\\nValue counts:\")\n",
    "print(pd.DataFrame(y_train).value_counts())\n",
    "print(pd.DataFrame(y_test).value_counts())"
   ]
  },
  {
   "cell_type": "markdown",
   "metadata": {},
   "source": [
    "## xgboost model"
   ]
  },
  {
   "cell_type": "code",
   "execution_count": 70,
   "metadata": {},
   "outputs": [],
   "source": [
    "import xgboost as xgb\n",
    "from sklearn import metrics\n",
    "from sklearn.model_selection import GridSearchCV\n",
    "\n",
    "def auc(m, train, test, y_train, y_test): \n",
    "    return (metrics.roc_auc_score(y_train, m.predict_proba(train)[:,1]),\n",
    "                            metrics.roc_auc_score(y_test, m.predict_proba(test)[:,1]))"
   ]
  },
  {
   "cell_type": "code",
   "execution_count": 117,
   "metadata": {
    "scrolled": true
   },
   "outputs": [
    {
     "name": "stdout",
     "output_type": "stream",
     "text": [
      "Fitting 3 folds for each of 54 candidates, totalling 162 fits\n"
     ]
    },
    {
     "name": "stderr",
     "output_type": "stream",
     "text": [
      "[Parallel(n_jobs=-1)]: Using backend LokyBackend with 8 concurrent workers.\n",
      "[Parallel(n_jobs=-1)]: Done   2 tasks      | elapsed:  1.3min\n",
      "[Parallel(n_jobs=-1)]: Done   9 tasks      | elapsed:  3.2min\n",
      "[Parallel(n_jobs=-1)]: Done  16 tasks      | elapsed:  6.2min\n",
      "[Parallel(n_jobs=-1)]: Done  25 tasks      | elapsed:  9.5min\n",
      "[Parallel(n_jobs=-1)]: Done  34 tasks      | elapsed: 15.0min\n",
      "[Parallel(n_jobs=-1)]: Done  45 tasks      | elapsed: 21.6min\n",
      "[Parallel(n_jobs=-1)]: Done  56 tasks      | elapsed: 25.6min\n",
      "[Parallel(n_jobs=-1)]: Done  69 tasks      | elapsed: 28.9min\n",
      "[Parallel(n_jobs=-1)]: Done  82 tasks      | elapsed: 34.9min\n",
      "[Parallel(n_jobs=-1)]: Done  97 tasks      | elapsed: 41.5min\n",
      "[Parallel(n_jobs=-1)]: Done 112 tasks      | elapsed: 47.1min\n",
      "[Parallel(n_jobs=-1)]: Done 129 tasks      | elapsed: 52.0min\n",
      "[Parallel(n_jobs=-1)]: Done 146 tasks      | elapsed: 58.9min\n",
      "[Parallel(n_jobs=-1)]: Done 162 out of 162 | elapsed: 66.1min finished\n"
     ]
    },
    {
     "data": {
      "text/plain": [
       "XGBClassifier(base_score=0.5, booster='gbtree', colsample_bylevel=1,\n",
       "              colsample_bynode=1, colsample_bytree=1, gamma=0, gpu_id=-1,\n",
       "              importance_type='gain', interaction_constraints='',\n",
       "              learning_rate=0.1, max_delta_step=0, max_depth=10,\n",
       "              min_child_weight=1, missing=nan, monotone_constraints='()',\n",
       "              n_estimators=500, n_jobs=0, num_parallel_tree=1, random_state=0,\n",
       "              reg_alpha=0, reg_lambda=1, scale_pos_weight=1, subsample=1,\n",
       "              tree_method='exact', validate_parameters=1, verbosity=None)"
      ]
     },
     "execution_count": 117,
     "metadata": {},
     "output_type": "execute_result"
    }
   ],
   "source": [
    "# Parameter Tuning\n",
    "model = xgb.XGBClassifier()\n",
    "param_dist = {\"max_depth\": [10,30,50],\n",
    "              \"min_child_weight\" : [1,3,6],\n",
    "              \"n_estimators\": [200, 500],\n",
    "              \"learning_rate\": [0.05, 0.1, 0.16],}\n",
    "grid_search = GridSearchCV(model, param_grid=param_dist, cv = 3, \n",
    "                                   verbose=10, n_jobs=-1)\n",
    "grid_search.fit(X_sm, y_sm)\n",
    "\n",
    "grid_search.best_estimator_"
   ]
  },
  {
   "cell_type": "markdown",
   "metadata": {},
   "source": [
    "After running grid search, and training the model with the different parameters, I found  that the best parameters were:\n",
    "- learning rate: 0.1\n",
    "- max depth: 10\n",
    "- n estimatiors: 500\n",
    "- min child weight: 1"
   ]
  },
  {
   "cell_type": "markdown",
   "metadata": {},
   "source": [
    "Run xgboost with oversampled dataset"
   ]
  },
  {
   "cell_type": "code",
   "execution_count": 119,
   "metadata": {},
   "outputs": [
    {
     "data": {
      "text/plain": [
       "(1.0, 0.9281186696220486)"
      ]
     },
     "execution_count": 119,
     "metadata": {},
     "output_type": "execute_result"
    }
   ],
   "source": [
    "model = xgb.XGBClassifier(base_score=0.5, booster='gbtree', colsample_bylevel=1,\n",
    "              colsample_bynode=1, colsample_bytree=1, gamma=0, gpu_id=-1,\n",
    "              importance_type='gain', interaction_constraints='',\n",
    "              learning_rate=0.1, max_delta_step=0, max_depth=10,\n",
    "              min_child_weight=1,  monotone_constraints='()',\n",
    "              n_estimators=500, n_jobs=0, num_parallel_tree=1, random_state=0,\n",
    "              reg_alpha=0, reg_lambda=1, scale_pos_weight=1, subsample=1,\n",
    "              tree_method='exact', validate_parameters=1, verbosity=None)\n",
    "model.fit(X_sm, y_sm)\n",
    "\n",
    "auc(model, X_sm, X_test, y_sm, y_test)"
   ]
  },
  {
   "cell_type": "code",
   "execution_count": 114,
   "metadata": {},
   "outputs": [
    {
     "data": {
      "text/plain": [
       "(0.9995107098308997, 0.9263960377487768)"
      ]
     },
     "execution_count": 114,
     "metadata": {},
     "output_type": "execute_result"
    }
   ],
   "source": [
    "model = xgb.XGBClassifier(\n",
    "    learning_rate=0.140626707498132,\n",
    "    max_delta_step=20,\n",
    "    max_depth=6,\n",
    "    min_child_weight=4,\n",
    "    n_estimators=500,\n",
    "    subsample=1.0)\n",
    "model.fit(X_sm, y_sm)\n",
    "\n",
    "auc(model, X_sm, X_test, y_sm, y_test)"
   ]
  },
  {
   "cell_type": "markdown",
   "metadata": {},
   "source": [
    "Run xgboost with oversampled then undersampled dataset"
   ]
  },
  {
   "cell_type": "code",
   "execution_count": null,
   "metadata": {},
   "outputs": [],
   "source": [
    "model2 = xgb.XGBClassifier(base_score=0.5, booster='gbtree', colsample_bylevel=1,\n",
    "              colsample_bynode=1, colsample_bytree=1, gamma=0, gpu_id=-1,\n",
    "              importance_type='gain', interaction_constraints='',\n",
    "              learning_rate=0.05, max_delta_step=0, max_depth=10,\n",
    "              min_child_weight=1, monotone_constraints='()',\n",
    "              n_estimators=500, n_jobs=0, num_parallel_tree=1, random_state=0,\n",
    "              reg_alpha=0, reg_lambda=1, scale_pos_weight=1, subsample=1,\n",
    "              tree_method='exact', validate_parameters=1, verbosity=None)\n",
    "model2.fit(X_smt, y_smt)\n",
    "\n",
    "auc(model2, X_smt, X_test, y_smt, y_test)"
   ]
  },
  {
   "cell_type": "markdown",
   "metadata": {},
   "source": [
    "Using SMOTE performed slightly better than SMOTETek"
   ]
  },
  {
   "cell_type": "markdown",
   "metadata": {},
   "source": [
    "# Analyze the model\n",
    "\n",
    "Find which features were most important"
   ]
  },
  {
   "cell_type": "code",
   "execution_count": null,
   "metadata": {},
   "outputs": [],
   "source": [
    "%matplotlib inline\n",
    "from matplotlib import pyplot\n",
    "from matplotlib.pylab import rcParams\n",
    "rcParams.update({'font.size': 22})\n",
    "rcParams['figure.figsize'] = 15,60\n",
    "\n",
    "xgb.plot_importance(model)\n",
    "pyplot.show()\n",
    "pyplot.savefig('feature_importance.png')"
   ]
  },
  {
   "cell_type": "code",
   "execution_count": null,
   "metadata": {},
   "outputs": [],
   "source": [
    "pyplot.bar(range(len(model.feature_importances_)), model.feature_importances_)\n",
    "pyplot.show()"
   ]
  },
  {
   "cell_type": "markdown",
   "metadata": {},
   "source": [
    "# Feature selection\n",
    "From the bar chart, we see that most features are below 0.01 in feature importance. Let's select the features above this threshold."
   ]
  },
  {
   "cell_type": "markdown",
   "metadata": {},
   "source": [
    "### Drop one of the highly correlated features"
   ]
  },
  {
   "cell_type": "code",
   "execution_count": null,
   "metadata": {},
   "outputs": [],
   "source": [
    "correlated = ['f16', 'f19', 'f22']"
   ]
  },
  {
   "cell_type": "code",
   "execution_count": null,
   "metadata": {},
   "outputs": [],
   "source": [
    "corr_X_train = X_sm.drop(correlated, axis=1)\n",
    "corr_X_test = X_test.drop(correlated, axis=1)"
   ]
  },
  {
   "cell_type": "code",
   "execution_count": null,
   "metadata": {},
   "outputs": [],
   "source": [
    "nocorr_model = xgb.XGBClassifier(base_score=0.5, booster='gbtree', colsample_bylevel=1,\n",
    "              colsample_bynode=1, colsample_bytree=1, gamma=0, gpu_id=-1,\n",
    "              importance_type='gain', interaction_constraints='',\n",
    "              learning_rate=0.1, max_delta_step=0, max_depth=10,\n",
    "              min_child_weight=6, monotone_constraints='()',\n",
    "              n_estimators=200, n_jobs=0, num_parallel_tree=1,\n",
    "              objective='binary:logistic', random_state=0, reg_alpha=0,\n",
    "              reg_lambda=1, scale_pos_weight=1, subsample=1,\n",
    "              tree_method='exact', validate_parameters=1, verbosity=None)\n",
    "\n",
    "nocorr_model.fit(corr_X_train, y_sm)\n",
    "\n",
    "auc(nocorr_model, corr_X_train, corr_X_test, y_sm, y_test)"
   ]
  },
  {
   "cell_type": "markdown",
   "metadata": {},
   "source": [
    "The model did not perform better."
   ]
  },
  {
   "cell_type": "markdown",
   "metadata": {},
   "source": [
    "### Drop the least important features"
   ]
  },
  {
   "cell_type": "code",
   "execution_count": null,
   "metadata": {},
   "outputs": [],
   "source": [
    "least_important = ['f8_j', 'f8_l', 'f8_g', 'f8_i', 'f8_f', 'f17_nx']"
   ]
  },
  {
   "cell_type": "code",
   "execution_count": 77,
   "metadata": {},
   "outputs": [
    {
     "ename": "NameError",
     "evalue": "name 'least_important' is not defined",
     "output_type": "error",
     "traceback": [
      "\u001b[0;31m---------------------------------------------------------------------------\u001b[0m",
      "\u001b[0;31mNameError\u001b[0m                                 Traceback (most recent call last)",
      "\u001b[0;32m<ipython-input-77-4259466519eb>\u001b[0m in \u001b[0;36m<module>\u001b[0;34m\u001b[0m\n\u001b[0;32m----> 1\u001b[0;31m \u001b[0mselected_X_train\u001b[0m \u001b[0;34m=\u001b[0m \u001b[0mX_sm\u001b[0m\u001b[0;34m.\u001b[0m\u001b[0mdrop\u001b[0m\u001b[0;34m(\u001b[0m\u001b[0mleast_important\u001b[0m\u001b[0;34m,\u001b[0m \u001b[0maxis\u001b[0m\u001b[0;34m=\u001b[0m\u001b[0;36m1\u001b[0m\u001b[0;34m)\u001b[0m\u001b[0;34m\u001b[0m\u001b[0;34m\u001b[0m\u001b[0m\n\u001b[0m\u001b[1;32m      2\u001b[0m \u001b[0mselected_X_test\u001b[0m \u001b[0;34m=\u001b[0m \u001b[0mX_test\u001b[0m\u001b[0;34m.\u001b[0m\u001b[0mdrop\u001b[0m\u001b[0;34m(\u001b[0m\u001b[0mleast_important\u001b[0m\u001b[0;34m,\u001b[0m \u001b[0maxis\u001b[0m\u001b[0;34m=\u001b[0m\u001b[0;36m1\u001b[0m\u001b[0;34m)\u001b[0m\u001b[0;34m\u001b[0m\u001b[0;34m\u001b[0m\u001b[0m\n",
      "\u001b[0;31mNameError\u001b[0m: name 'least_important' is not defined"
     ]
    }
   ],
   "source": [
    "selected_X_train = X_sm.drop(least_important, axis=1)\n",
    "selected_X_test = X_test.drop(least_important, axis=1)"
   ]
  },
  {
   "cell_type": "code",
   "execution_count": null,
   "metadata": {},
   "outputs": [],
   "source": [
    "selection_model = xgb.XGBClassifier(base_score=0.5, booster='gbtree', colsample_bylevel=1,\n",
    "              colsample_bynode=1, colsample_bytree=1, gamma=0, gpu_id=-1,\n",
    "              importance_type='gain', interaction_constraints='',\n",
    "              learning_rate=0.1, max_delta_step=0, max_depth=10,\n",
    "              min_child_weight=6, monotone_constraints='()',\n",
    "              n_estimators=200, n_jobs=0, num_parallel_tree=1,\n",
    "              objective='binary:logistic', random_state=0, reg_alpha=0,\n",
    "              reg_lambda=1, scale_pos_weight=1, subsample=1,\n",
    "              tree_method='exact', validate_parameters=1, verbosity=None)\n",
    "\n",
    "selection_model.fit(selected_X_train, y_sm)\n",
    "\n",
    "auc(selection_model, selected_X_train, selected_X_test, y_sm, y_test)"
   ]
  }
 ],
 "metadata": {
  "kernelspec": {
   "display_name": "Python 3",
   "language": "python",
   "name": "python3"
  },
  "language_info": {
   "codemirror_mode": {
    "name": "ipython",
    "version": 3
   },
   "file_extension": ".py",
   "mimetype": "text/x-python",
   "name": "python",
   "nbconvert_exporter": "python",
   "pygments_lexer": "ipython3",
   "version": "3.8.5"
  }
 },
 "nbformat": 4,
 "nbformat_minor": 4
}
